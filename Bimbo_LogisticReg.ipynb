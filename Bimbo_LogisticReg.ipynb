{
  "nbformat": 4,
  "nbformat_minor": 0,
  "metadata": {
    "colab": {
      "name": "Bimbo_LogisticReg.ipynb",
      "provenance": [],
      "collapsed_sections": []
    },
    "kernelspec": {
      "name": "python3",
      "display_name": "Python 3"
    },
    "language_info": {
      "name": "python"
    }
  },
  "cells": [
    {
      "cell_type": "markdown",
      "source": [
        "# Logistic Regression - BIMBO dataset"
      ],
      "metadata": {
        "id": "2tMmsAWW2bEm"
      }
    },
    {
      "cell_type": "markdown",
      "source": [
        "### El presente proyecto tratará de resolver la problemática que se tiene en la planta Santa María de la empresa BIMBO, particularmente en el departamento de transportes, a través de una base de datos creada para enfrentar el escaso regreso de operadores de los centros de venta con equipo para abastecer las líneas de producción."
      ],
      "metadata": {
        "id": "TMqEIeKM2tK4"
      }
    },
    {
      "cell_type": "markdown",
      "source": [
        "#### Se cargan las librerías a emplear en todo el proyecto"
      ],
      "metadata": {
        "id": "rQnDc3Xn3zd_"
      }
    },
    {
      "cell_type": "code",
      "execution_count": 125,
      "metadata": {
        "id": "jTnNNX4utQbb"
      },
      "outputs": [],
      "source": [
        "import pandas as pd\n",
        "import numpy as np\n",
        "import seaborn as sns\n",
        "import matplotlib.pyplot as plt\n",
        "\n",
        "sns.set(rc = {'figure.figsize':(8,8)})"
      ]
    },
    {
      "cell_type": "markdown",
      "source": [
        "#### Cargamos la base de datos"
      ],
      "metadata": {
        "id": "kxCgFzGI394G"
      }
    },
    {
      "cell_type": "code",
      "source": [
        "df = pd.read_csv(\"/content/operadores_regresos_final.csv\",encoding=\"Latin\")"
      ],
      "metadata": {
        "id": "VUHGJqcOvIO0"
      },
      "execution_count": 65,
      "outputs": []
    },
    {
      "cell_type": "markdown",
      "source": [
        "## Análisis Exploratorio de Datos"
      ],
      "metadata": {
        "id": "Lkozb_TX4Ifj"
      }
    },
    {
      "cell_type": "code",
      "source": [
        "df.info()"
      ],
      "metadata": {
        "colab": {
          "base_uri": "https://localhost:8080/"
        },
        "id": "X8aVDy09vQ3L",
        "outputId": "ab33603d-5ac0-4c75-954a-27e5b193c3af"
      },
      "execution_count": 66,
      "outputs": [
        {
          "output_type": "stream",
          "name": "stdout",
          "text": [
            "<class 'pandas.core.frame.DataFrame'>\n",
            "RangeIndex: 915 entries, 0 to 914\n",
            "Data columns (total 7 columns):\n",
            " #   Column            Non-Null Count  Dtype  \n",
            "---  ------            --------------  -----  \n",
            " 0   Fecha             877 non-null    object \n",
            " 1   Centro de ventas  902 non-null    object \n",
            " 2   Operador          913 non-null    object \n",
            " 3   Llamada           915 non-null    object \n",
            " 4   Arribo a BMS      913 non-null    object \n",
            " 5   No. Remolques     914 non-null    float64\n",
            " 6   Observaciones     5 non-null      object \n",
            "dtypes: float64(1), object(6)\n",
            "memory usage: 50.2+ KB\n"
          ]
        }
      ]
    },
    {
      "cell_type": "code",
      "source": [
        "df.describe(include=\"all\")"
      ],
      "metadata": {
        "colab": {
          "base_uri": "https://localhost:8080/",
          "height": 390
        },
        "id": "a0ArhwBjwk-X",
        "outputId": "f0147d9d-141e-4940-e33e-3956e9619b95"
      },
      "execution_count": 67,
      "outputs": [
        {
          "output_type": "execute_result",
          "data": {
            "text/plain": [
              "             Fecha Centro de ventas       Operador Llamada Arribo a BMS  \\\n",
              "count          877              902            913     915          913   \n",
              "unique          58               43            129       8            3   \n",
              "top     18/11/2021       iztapalapa  Victor Malaga      si           si   \n",
              "freq            29              159             49     547          585   \n",
              "mean           NaN              NaN            NaN     NaN          NaN   \n",
              "std            NaN              NaN            NaN     NaN          NaN   \n",
              "min            NaN              NaN            NaN     NaN          NaN   \n",
              "25%            NaN              NaN            NaN     NaN          NaN   \n",
              "50%            NaN              NaN            NaN     NaN          NaN   \n",
              "75%            NaN              NaN            NaN     NaN          NaN   \n",
              "max            NaN              NaN            NaN     NaN          NaN   \n",
              "\n",
              "        No. Remolques Observaciones  \n",
              "count      914.000000             5  \n",
              "unique            NaN             5  \n",
              "top               NaN         globo  \n",
              "freq              NaN             1  \n",
              "mean         0.853392           NaN  \n",
              "std          0.726855           NaN  \n",
              "min          0.000000           NaN  \n",
              "25%          0.000000           NaN  \n",
              "50%          1.000000           NaN  \n",
              "75%          1.000000           NaN  \n",
              "max          3.000000           NaN  "
            ],
            "text/html": [
              "\n",
              "  <div id=\"df-3861568a-8eaf-4b43-b11f-a4bb1b45fd98\">\n",
              "    <div class=\"colab-df-container\">\n",
              "      <div>\n",
              "<style scoped>\n",
              "    .dataframe tbody tr th:only-of-type {\n",
              "        vertical-align: middle;\n",
              "    }\n",
              "\n",
              "    .dataframe tbody tr th {\n",
              "        vertical-align: top;\n",
              "    }\n",
              "\n",
              "    .dataframe thead th {\n",
              "        text-align: right;\n",
              "    }\n",
              "</style>\n",
              "<table border=\"1\" class=\"dataframe\">\n",
              "  <thead>\n",
              "    <tr style=\"text-align: right;\">\n",
              "      <th></th>\n",
              "      <th>Fecha</th>\n",
              "      <th>Centro de ventas</th>\n",
              "      <th>Operador</th>\n",
              "      <th>Llamada</th>\n",
              "      <th>Arribo a BMS</th>\n",
              "      <th>No. Remolques</th>\n",
              "      <th>Observaciones</th>\n",
              "    </tr>\n",
              "  </thead>\n",
              "  <tbody>\n",
              "    <tr>\n",
              "      <th>count</th>\n",
              "      <td>877</td>\n",
              "      <td>902</td>\n",
              "      <td>913</td>\n",
              "      <td>915</td>\n",
              "      <td>913</td>\n",
              "      <td>914.000000</td>\n",
              "      <td>5</td>\n",
              "    </tr>\n",
              "    <tr>\n",
              "      <th>unique</th>\n",
              "      <td>58</td>\n",
              "      <td>43</td>\n",
              "      <td>129</td>\n",
              "      <td>8</td>\n",
              "      <td>3</td>\n",
              "      <td>NaN</td>\n",
              "      <td>5</td>\n",
              "    </tr>\n",
              "    <tr>\n",
              "      <th>top</th>\n",
              "      <td>18/11/2021</td>\n",
              "      <td>iztapalapa</td>\n",
              "      <td>Victor Malaga</td>\n",
              "      <td>si</td>\n",
              "      <td>si</td>\n",
              "      <td>NaN</td>\n",
              "      <td>globo</td>\n",
              "    </tr>\n",
              "    <tr>\n",
              "      <th>freq</th>\n",
              "      <td>29</td>\n",
              "      <td>159</td>\n",
              "      <td>49</td>\n",
              "      <td>547</td>\n",
              "      <td>585</td>\n",
              "      <td>NaN</td>\n",
              "      <td>1</td>\n",
              "    </tr>\n",
              "    <tr>\n",
              "      <th>mean</th>\n",
              "      <td>NaN</td>\n",
              "      <td>NaN</td>\n",
              "      <td>NaN</td>\n",
              "      <td>NaN</td>\n",
              "      <td>NaN</td>\n",
              "      <td>0.853392</td>\n",
              "      <td>NaN</td>\n",
              "    </tr>\n",
              "    <tr>\n",
              "      <th>std</th>\n",
              "      <td>NaN</td>\n",
              "      <td>NaN</td>\n",
              "      <td>NaN</td>\n",
              "      <td>NaN</td>\n",
              "      <td>NaN</td>\n",
              "      <td>0.726855</td>\n",
              "      <td>NaN</td>\n",
              "    </tr>\n",
              "    <tr>\n",
              "      <th>min</th>\n",
              "      <td>NaN</td>\n",
              "      <td>NaN</td>\n",
              "      <td>NaN</td>\n",
              "      <td>NaN</td>\n",
              "      <td>NaN</td>\n",
              "      <td>0.000000</td>\n",
              "      <td>NaN</td>\n",
              "    </tr>\n",
              "    <tr>\n",
              "      <th>25%</th>\n",
              "      <td>NaN</td>\n",
              "      <td>NaN</td>\n",
              "      <td>NaN</td>\n",
              "      <td>NaN</td>\n",
              "      <td>NaN</td>\n",
              "      <td>0.000000</td>\n",
              "      <td>NaN</td>\n",
              "    </tr>\n",
              "    <tr>\n",
              "      <th>50%</th>\n",
              "      <td>NaN</td>\n",
              "      <td>NaN</td>\n",
              "      <td>NaN</td>\n",
              "      <td>NaN</td>\n",
              "      <td>NaN</td>\n",
              "      <td>1.000000</td>\n",
              "      <td>NaN</td>\n",
              "    </tr>\n",
              "    <tr>\n",
              "      <th>75%</th>\n",
              "      <td>NaN</td>\n",
              "      <td>NaN</td>\n",
              "      <td>NaN</td>\n",
              "      <td>NaN</td>\n",
              "      <td>NaN</td>\n",
              "      <td>1.000000</td>\n",
              "      <td>NaN</td>\n",
              "    </tr>\n",
              "    <tr>\n",
              "      <th>max</th>\n",
              "      <td>NaN</td>\n",
              "      <td>NaN</td>\n",
              "      <td>NaN</td>\n",
              "      <td>NaN</td>\n",
              "      <td>NaN</td>\n",
              "      <td>3.000000</td>\n",
              "      <td>NaN</td>\n",
              "    </tr>\n",
              "  </tbody>\n",
              "</table>\n",
              "</div>\n",
              "      <button class=\"colab-df-convert\" onclick=\"convertToInteractive('df-3861568a-8eaf-4b43-b11f-a4bb1b45fd98')\"\n",
              "              title=\"Convert this dataframe to an interactive table.\"\n",
              "              style=\"display:none;\">\n",
              "        \n",
              "  <svg xmlns=\"http://www.w3.org/2000/svg\" height=\"24px\"viewBox=\"0 0 24 24\"\n",
              "       width=\"24px\">\n",
              "    <path d=\"M0 0h24v24H0V0z\" fill=\"none\"/>\n",
              "    <path d=\"M18.56 5.44l.94 2.06.94-2.06 2.06-.94-2.06-.94-.94-2.06-.94 2.06-2.06.94zm-11 1L8.5 8.5l.94-2.06 2.06-.94-2.06-.94L8.5 2.5l-.94 2.06-2.06.94zm10 10l.94 2.06.94-2.06 2.06-.94-2.06-.94-.94-2.06-.94 2.06-2.06.94z\"/><path d=\"M17.41 7.96l-1.37-1.37c-.4-.4-.92-.59-1.43-.59-.52 0-1.04.2-1.43.59L10.3 9.45l-7.72 7.72c-.78.78-.78 2.05 0 2.83L4 21.41c.39.39.9.59 1.41.59.51 0 1.02-.2 1.41-.59l7.78-7.78 2.81-2.81c.8-.78.8-2.07 0-2.86zM5.41 20L4 18.59l7.72-7.72 1.47 1.35L5.41 20z\"/>\n",
              "  </svg>\n",
              "      </button>\n",
              "      \n",
              "  <style>\n",
              "    .colab-df-container {\n",
              "      display:flex;\n",
              "      flex-wrap:wrap;\n",
              "      gap: 12px;\n",
              "    }\n",
              "\n",
              "    .colab-df-convert {\n",
              "      background-color: #E8F0FE;\n",
              "      border: none;\n",
              "      border-radius: 50%;\n",
              "      cursor: pointer;\n",
              "      display: none;\n",
              "      fill: #1967D2;\n",
              "      height: 32px;\n",
              "      padding: 0 0 0 0;\n",
              "      width: 32px;\n",
              "    }\n",
              "\n",
              "    .colab-df-convert:hover {\n",
              "      background-color: #E2EBFA;\n",
              "      box-shadow: 0px 1px 2px rgba(60, 64, 67, 0.3), 0px 1px 3px 1px rgba(60, 64, 67, 0.15);\n",
              "      fill: #174EA6;\n",
              "    }\n",
              "\n",
              "    [theme=dark] .colab-df-convert {\n",
              "      background-color: #3B4455;\n",
              "      fill: #D2E3FC;\n",
              "    }\n",
              "\n",
              "    [theme=dark] .colab-df-convert:hover {\n",
              "      background-color: #434B5C;\n",
              "      box-shadow: 0px 1px 3px 1px rgba(0, 0, 0, 0.15);\n",
              "      filter: drop-shadow(0px 1px 2px rgba(0, 0, 0, 0.3));\n",
              "      fill: #FFFFFF;\n",
              "    }\n",
              "  </style>\n",
              "\n",
              "      <script>\n",
              "        const buttonEl =\n",
              "          document.querySelector('#df-3861568a-8eaf-4b43-b11f-a4bb1b45fd98 button.colab-df-convert');\n",
              "        buttonEl.style.display =\n",
              "          google.colab.kernel.accessAllowed ? 'block' : 'none';\n",
              "\n",
              "        async function convertToInteractive(key) {\n",
              "          const element = document.querySelector('#df-3861568a-8eaf-4b43-b11f-a4bb1b45fd98');\n",
              "          const dataTable =\n",
              "            await google.colab.kernel.invokeFunction('convertToInteractive',\n",
              "                                                     [key], {});\n",
              "          if (!dataTable) return;\n",
              "\n",
              "          const docLinkHtml = 'Like what you see? Visit the ' +\n",
              "            '<a target=\"_blank\" href=https://colab.research.google.com/notebooks/data_table.ipynb>data table notebook</a>'\n",
              "            + ' to learn more about interactive tables.';\n",
              "          element.innerHTML = '';\n",
              "          dataTable['output_type'] = 'display_data';\n",
              "          await google.colab.output.renderOutput(dataTable, element);\n",
              "          const docLink = document.createElement('div');\n",
              "          docLink.innerHTML = docLinkHtml;\n",
              "          element.appendChild(docLink);\n",
              "        }\n",
              "      </script>\n",
              "    </div>\n",
              "  </div>\n",
              "  "
            ]
          },
          "metadata": {},
          "execution_count": 67
        }
      ]
    },
    {
      "cell_type": "code",
      "source": [
        "df.head()"
      ],
      "metadata": {
        "colab": {
          "base_uri": "https://localhost:8080/",
          "height": 204
        },
        "id": "39pn5IN940Uv",
        "outputId": "8e2c7efb-687f-49e1-e49b-945a1bfb26dd"
      },
      "execution_count": 68,
      "outputs": [
        {
          "output_type": "execute_result",
          "data": {
            "text/plain": [
              "  Fecha Centro de ventas        Operador Llamada Arribo a BMS  No. Remolques  \\\n",
              "0   NaN      san antonio   Victor Malaga      no           si            1.0   \n",
              "1   NaN      san antonio     Julio Gaona      no           si            1.0   \n",
              "2   NaN       iztapalapa   Jorge Casarez      si           si            2.0   \n",
              "3   NaN       rojo gomez   Gino Quintana      no           no            0.0   \n",
              "4   NaN        naucalpan  Hector Aguirre      si           si            1.0   \n",
              "\n",
              "  Observaciones  \n",
              "0           NaN  \n",
              "1           NaN  \n",
              "2           NaN  \n",
              "3           NaN  \n",
              "4           NaN  "
            ],
            "text/html": [
              "\n",
              "  <div id=\"df-0b2dc2ce-5d93-4953-9501-dba25a0368ce\">\n",
              "    <div class=\"colab-df-container\">\n",
              "      <div>\n",
              "<style scoped>\n",
              "    .dataframe tbody tr th:only-of-type {\n",
              "        vertical-align: middle;\n",
              "    }\n",
              "\n",
              "    .dataframe tbody tr th {\n",
              "        vertical-align: top;\n",
              "    }\n",
              "\n",
              "    .dataframe thead th {\n",
              "        text-align: right;\n",
              "    }\n",
              "</style>\n",
              "<table border=\"1\" class=\"dataframe\">\n",
              "  <thead>\n",
              "    <tr style=\"text-align: right;\">\n",
              "      <th></th>\n",
              "      <th>Fecha</th>\n",
              "      <th>Centro de ventas</th>\n",
              "      <th>Operador</th>\n",
              "      <th>Llamada</th>\n",
              "      <th>Arribo a BMS</th>\n",
              "      <th>No. Remolques</th>\n",
              "      <th>Observaciones</th>\n",
              "    </tr>\n",
              "  </thead>\n",
              "  <tbody>\n",
              "    <tr>\n",
              "      <th>0</th>\n",
              "      <td>NaN</td>\n",
              "      <td>san antonio</td>\n",
              "      <td>Victor Malaga</td>\n",
              "      <td>no</td>\n",
              "      <td>si</td>\n",
              "      <td>1.0</td>\n",
              "      <td>NaN</td>\n",
              "    </tr>\n",
              "    <tr>\n",
              "      <th>1</th>\n",
              "      <td>NaN</td>\n",
              "      <td>san antonio</td>\n",
              "      <td>Julio Gaona</td>\n",
              "      <td>no</td>\n",
              "      <td>si</td>\n",
              "      <td>1.0</td>\n",
              "      <td>NaN</td>\n",
              "    </tr>\n",
              "    <tr>\n",
              "      <th>2</th>\n",
              "      <td>NaN</td>\n",
              "      <td>iztapalapa</td>\n",
              "      <td>Jorge Casarez</td>\n",
              "      <td>si</td>\n",
              "      <td>si</td>\n",
              "      <td>2.0</td>\n",
              "      <td>NaN</td>\n",
              "    </tr>\n",
              "    <tr>\n",
              "      <th>3</th>\n",
              "      <td>NaN</td>\n",
              "      <td>rojo gomez</td>\n",
              "      <td>Gino Quintana</td>\n",
              "      <td>no</td>\n",
              "      <td>no</td>\n",
              "      <td>0.0</td>\n",
              "      <td>NaN</td>\n",
              "    </tr>\n",
              "    <tr>\n",
              "      <th>4</th>\n",
              "      <td>NaN</td>\n",
              "      <td>naucalpan</td>\n",
              "      <td>Hector Aguirre</td>\n",
              "      <td>si</td>\n",
              "      <td>si</td>\n",
              "      <td>1.0</td>\n",
              "      <td>NaN</td>\n",
              "    </tr>\n",
              "  </tbody>\n",
              "</table>\n",
              "</div>\n",
              "      <button class=\"colab-df-convert\" onclick=\"convertToInteractive('df-0b2dc2ce-5d93-4953-9501-dba25a0368ce')\"\n",
              "              title=\"Convert this dataframe to an interactive table.\"\n",
              "              style=\"display:none;\">\n",
              "        \n",
              "  <svg xmlns=\"http://www.w3.org/2000/svg\" height=\"24px\"viewBox=\"0 0 24 24\"\n",
              "       width=\"24px\">\n",
              "    <path d=\"M0 0h24v24H0V0z\" fill=\"none\"/>\n",
              "    <path d=\"M18.56 5.44l.94 2.06.94-2.06 2.06-.94-2.06-.94-.94-2.06-.94 2.06-2.06.94zm-11 1L8.5 8.5l.94-2.06 2.06-.94-2.06-.94L8.5 2.5l-.94 2.06-2.06.94zm10 10l.94 2.06.94-2.06 2.06-.94-2.06-.94-.94-2.06-.94 2.06-2.06.94z\"/><path d=\"M17.41 7.96l-1.37-1.37c-.4-.4-.92-.59-1.43-.59-.52 0-1.04.2-1.43.59L10.3 9.45l-7.72 7.72c-.78.78-.78 2.05 0 2.83L4 21.41c.39.39.9.59 1.41.59.51 0 1.02-.2 1.41-.59l7.78-7.78 2.81-2.81c.8-.78.8-2.07 0-2.86zM5.41 20L4 18.59l7.72-7.72 1.47 1.35L5.41 20z\"/>\n",
              "  </svg>\n",
              "      </button>\n",
              "      \n",
              "  <style>\n",
              "    .colab-df-container {\n",
              "      display:flex;\n",
              "      flex-wrap:wrap;\n",
              "      gap: 12px;\n",
              "    }\n",
              "\n",
              "    .colab-df-convert {\n",
              "      background-color: #E8F0FE;\n",
              "      border: none;\n",
              "      border-radius: 50%;\n",
              "      cursor: pointer;\n",
              "      display: none;\n",
              "      fill: #1967D2;\n",
              "      height: 32px;\n",
              "      padding: 0 0 0 0;\n",
              "      width: 32px;\n",
              "    }\n",
              "\n",
              "    .colab-df-convert:hover {\n",
              "      background-color: #E2EBFA;\n",
              "      box-shadow: 0px 1px 2px rgba(60, 64, 67, 0.3), 0px 1px 3px 1px rgba(60, 64, 67, 0.15);\n",
              "      fill: #174EA6;\n",
              "    }\n",
              "\n",
              "    [theme=dark] .colab-df-convert {\n",
              "      background-color: #3B4455;\n",
              "      fill: #D2E3FC;\n",
              "    }\n",
              "\n",
              "    [theme=dark] .colab-df-convert:hover {\n",
              "      background-color: #434B5C;\n",
              "      box-shadow: 0px 1px 3px 1px rgba(0, 0, 0, 0.15);\n",
              "      filter: drop-shadow(0px 1px 2px rgba(0, 0, 0, 0.3));\n",
              "      fill: #FFFFFF;\n",
              "    }\n",
              "  </style>\n",
              "\n",
              "      <script>\n",
              "        const buttonEl =\n",
              "          document.querySelector('#df-0b2dc2ce-5d93-4953-9501-dba25a0368ce button.colab-df-convert');\n",
              "        buttonEl.style.display =\n",
              "          google.colab.kernel.accessAllowed ? 'block' : 'none';\n",
              "\n",
              "        async function convertToInteractive(key) {\n",
              "          const element = document.querySelector('#df-0b2dc2ce-5d93-4953-9501-dba25a0368ce');\n",
              "          const dataTable =\n",
              "            await google.colab.kernel.invokeFunction('convertToInteractive',\n",
              "                                                     [key], {});\n",
              "          if (!dataTable) return;\n",
              "\n",
              "          const docLinkHtml = 'Like what you see? Visit the ' +\n",
              "            '<a target=\"_blank\" href=https://colab.research.google.com/notebooks/data_table.ipynb>data table notebook</a>'\n",
              "            + ' to learn more about interactive tables.';\n",
              "          element.innerHTML = '';\n",
              "          dataTable['output_type'] = 'display_data';\n",
              "          await google.colab.output.renderOutput(dataTable, element);\n",
              "          const docLink = document.createElement('div');\n",
              "          docLink.innerHTML = docLinkHtml;\n",
              "          element.appendChild(docLink);\n",
              "        }\n",
              "      </script>\n",
              "    </div>\n",
              "  </div>\n",
              "  "
            ]
          },
          "metadata": {},
          "execution_count": 68
        }
      ]
    },
    {
      "cell_type": "code",
      "source": [
        "df.tail()"
      ],
      "metadata": {
        "colab": {
          "base_uri": "https://localhost:8080/",
          "height": 204
        },
        "id": "HuN0h37V4UWi",
        "outputId": "9bfe0652-578b-4c52-c5a7-b631226927b4"
      },
      "execution_count": 69,
      "outputs": [
        {
          "output_type": "execute_result",
          "data": {
            "text/plain": [
              "          Fecha Centro de ventas             Operador Llamada Arribo a BMS  \\\n",
              "910  19/01/2022       centenario     Francisco Cortez      si           si   \n",
              "911  23/01/2022           chalco     hernandez tellez      no           no   \n",
              "912  23/01/2022            reyes           Marco Abad      no           no   \n",
              "913  23/01/2022       tepalcates  jose guadalupe sosa      no           no   \n",
              "914  23/01/2022      san antonio      Rodrigo Barrera      si           si   \n",
              "\n",
              "     No. Remolques Observaciones  \n",
              "910            1.0           NaN  \n",
              "911            0.0           NaN  \n",
              "912            0.0           NaN  \n",
              "913            0.0           NaN  \n",
              "914            1.0           NaN  "
            ],
            "text/html": [
              "\n",
              "  <div id=\"df-bf0b03bd-f11e-4465-9fe6-e529f258c24b\">\n",
              "    <div class=\"colab-df-container\">\n",
              "      <div>\n",
              "<style scoped>\n",
              "    .dataframe tbody tr th:only-of-type {\n",
              "        vertical-align: middle;\n",
              "    }\n",
              "\n",
              "    .dataframe tbody tr th {\n",
              "        vertical-align: top;\n",
              "    }\n",
              "\n",
              "    .dataframe thead th {\n",
              "        text-align: right;\n",
              "    }\n",
              "</style>\n",
              "<table border=\"1\" class=\"dataframe\">\n",
              "  <thead>\n",
              "    <tr style=\"text-align: right;\">\n",
              "      <th></th>\n",
              "      <th>Fecha</th>\n",
              "      <th>Centro de ventas</th>\n",
              "      <th>Operador</th>\n",
              "      <th>Llamada</th>\n",
              "      <th>Arribo a BMS</th>\n",
              "      <th>No. Remolques</th>\n",
              "      <th>Observaciones</th>\n",
              "    </tr>\n",
              "  </thead>\n",
              "  <tbody>\n",
              "    <tr>\n",
              "      <th>910</th>\n",
              "      <td>19/01/2022</td>\n",
              "      <td>centenario</td>\n",
              "      <td>Francisco Cortez</td>\n",
              "      <td>si</td>\n",
              "      <td>si</td>\n",
              "      <td>1.0</td>\n",
              "      <td>NaN</td>\n",
              "    </tr>\n",
              "    <tr>\n",
              "      <th>911</th>\n",
              "      <td>23/01/2022</td>\n",
              "      <td>chalco</td>\n",
              "      <td>hernandez tellez</td>\n",
              "      <td>no</td>\n",
              "      <td>no</td>\n",
              "      <td>0.0</td>\n",
              "      <td>NaN</td>\n",
              "    </tr>\n",
              "    <tr>\n",
              "      <th>912</th>\n",
              "      <td>23/01/2022</td>\n",
              "      <td>reyes</td>\n",
              "      <td>Marco Abad</td>\n",
              "      <td>no</td>\n",
              "      <td>no</td>\n",
              "      <td>0.0</td>\n",
              "      <td>NaN</td>\n",
              "    </tr>\n",
              "    <tr>\n",
              "      <th>913</th>\n",
              "      <td>23/01/2022</td>\n",
              "      <td>tepalcates</td>\n",
              "      <td>jose guadalupe sosa</td>\n",
              "      <td>no</td>\n",
              "      <td>no</td>\n",
              "      <td>0.0</td>\n",
              "      <td>NaN</td>\n",
              "    </tr>\n",
              "    <tr>\n",
              "      <th>914</th>\n",
              "      <td>23/01/2022</td>\n",
              "      <td>san antonio</td>\n",
              "      <td>Rodrigo Barrera</td>\n",
              "      <td>si</td>\n",
              "      <td>si</td>\n",
              "      <td>1.0</td>\n",
              "      <td>NaN</td>\n",
              "    </tr>\n",
              "  </tbody>\n",
              "</table>\n",
              "</div>\n",
              "      <button class=\"colab-df-convert\" onclick=\"convertToInteractive('df-bf0b03bd-f11e-4465-9fe6-e529f258c24b')\"\n",
              "              title=\"Convert this dataframe to an interactive table.\"\n",
              "              style=\"display:none;\">\n",
              "        \n",
              "  <svg xmlns=\"http://www.w3.org/2000/svg\" height=\"24px\"viewBox=\"0 0 24 24\"\n",
              "       width=\"24px\">\n",
              "    <path d=\"M0 0h24v24H0V0z\" fill=\"none\"/>\n",
              "    <path d=\"M18.56 5.44l.94 2.06.94-2.06 2.06-.94-2.06-.94-.94-2.06-.94 2.06-2.06.94zm-11 1L8.5 8.5l.94-2.06 2.06-.94-2.06-.94L8.5 2.5l-.94 2.06-2.06.94zm10 10l.94 2.06.94-2.06 2.06-.94-2.06-.94-.94-2.06-.94 2.06-2.06.94z\"/><path d=\"M17.41 7.96l-1.37-1.37c-.4-.4-.92-.59-1.43-.59-.52 0-1.04.2-1.43.59L10.3 9.45l-7.72 7.72c-.78.78-.78 2.05 0 2.83L4 21.41c.39.39.9.59 1.41.59.51 0 1.02-.2 1.41-.59l7.78-7.78 2.81-2.81c.8-.78.8-2.07 0-2.86zM5.41 20L4 18.59l7.72-7.72 1.47 1.35L5.41 20z\"/>\n",
              "  </svg>\n",
              "      </button>\n",
              "      \n",
              "  <style>\n",
              "    .colab-df-container {\n",
              "      display:flex;\n",
              "      flex-wrap:wrap;\n",
              "      gap: 12px;\n",
              "    }\n",
              "\n",
              "    .colab-df-convert {\n",
              "      background-color: #E8F0FE;\n",
              "      border: none;\n",
              "      border-radius: 50%;\n",
              "      cursor: pointer;\n",
              "      display: none;\n",
              "      fill: #1967D2;\n",
              "      height: 32px;\n",
              "      padding: 0 0 0 0;\n",
              "      width: 32px;\n",
              "    }\n",
              "\n",
              "    .colab-df-convert:hover {\n",
              "      background-color: #E2EBFA;\n",
              "      box-shadow: 0px 1px 2px rgba(60, 64, 67, 0.3), 0px 1px 3px 1px rgba(60, 64, 67, 0.15);\n",
              "      fill: #174EA6;\n",
              "    }\n",
              "\n",
              "    [theme=dark] .colab-df-convert {\n",
              "      background-color: #3B4455;\n",
              "      fill: #D2E3FC;\n",
              "    }\n",
              "\n",
              "    [theme=dark] .colab-df-convert:hover {\n",
              "      background-color: #434B5C;\n",
              "      box-shadow: 0px 1px 3px 1px rgba(0, 0, 0, 0.15);\n",
              "      filter: drop-shadow(0px 1px 2px rgba(0, 0, 0, 0.3));\n",
              "      fill: #FFFFFF;\n",
              "    }\n",
              "  </style>\n",
              "\n",
              "      <script>\n",
              "        const buttonEl =\n",
              "          document.querySelector('#df-bf0b03bd-f11e-4465-9fe6-e529f258c24b button.colab-df-convert');\n",
              "        buttonEl.style.display =\n",
              "          google.colab.kernel.accessAllowed ? 'block' : 'none';\n",
              "\n",
              "        async function convertToInteractive(key) {\n",
              "          const element = document.querySelector('#df-bf0b03bd-f11e-4465-9fe6-e529f258c24b');\n",
              "          const dataTable =\n",
              "            await google.colab.kernel.invokeFunction('convertToInteractive',\n",
              "                                                     [key], {});\n",
              "          if (!dataTable) return;\n",
              "\n",
              "          const docLinkHtml = 'Like what you see? Visit the ' +\n",
              "            '<a target=\"_blank\" href=https://colab.research.google.com/notebooks/data_table.ipynb>data table notebook</a>'\n",
              "            + ' to learn more about interactive tables.';\n",
              "          element.innerHTML = '';\n",
              "          dataTable['output_type'] = 'display_data';\n",
              "          await google.colab.output.renderOutput(dataTable, element);\n",
              "          const docLink = document.createElement('div');\n",
              "          docLink.innerHTML = docLinkHtml;\n",
              "          element.appendChild(docLink);\n",
              "        }\n",
              "      </script>\n",
              "    </div>\n",
              "  </div>\n",
              "  "
            ]
          },
          "metadata": {},
          "execution_count": 69
        }
      ]
    },
    {
      "cell_type": "markdown",
      "source": [
        "#### Elegimos las variables con las que realizaremos la regresión lógistica"
      ],
      "metadata": {
        "id": "yL4dL-1b556g"
      }
    },
    {
      "cell_type": "code",
      "source": [
        "columns = [\"Operador\",\"Centro de ventas\",\"Llamada\",\"Arribo a BMS\"]\n",
        "dff = df.filter(columns)"
      ],
      "metadata": {
        "id": "qM3ONu575pDR"
      },
      "execution_count": 70,
      "outputs": []
    },
    {
      "cell_type": "code",
      "source": [
        "dff.info()"
      ],
      "metadata": {
        "colab": {
          "base_uri": "https://localhost:8080/"
        },
        "id": "6K84Iv-yoC4P",
        "outputId": "b69d3738-1d80-4b9c-fc0d-808043ba951e"
      },
      "execution_count": 71,
      "outputs": [
        {
          "output_type": "stream",
          "name": "stdout",
          "text": [
            "<class 'pandas.core.frame.DataFrame'>\n",
            "RangeIndex: 915 entries, 0 to 914\n",
            "Data columns (total 4 columns):\n",
            " #   Column            Non-Null Count  Dtype \n",
            "---  ------            --------------  ----- \n",
            " 0   Operador          913 non-null    object\n",
            " 1   Centro de ventas  902 non-null    object\n",
            " 2   Llamada           915 non-null    object\n",
            " 3   Arribo a BMS      913 non-null    object\n",
            "dtypes: object(4)\n",
            "memory usage: 28.7+ KB\n"
          ]
        }
      ]
    },
    {
      "cell_type": "code",
      "source": [
        "dff.describe(include=\"all\")"
      ],
      "metadata": {
        "colab": {
          "base_uri": "https://localhost:8080/",
          "height": 173
        },
        "id": "1Vu01SW0oVK7",
        "outputId": "fde4635a-5865-457a-b2cb-709e5db5890c"
      },
      "execution_count": 72,
      "outputs": [
        {
          "output_type": "execute_result",
          "data": {
            "text/plain": [
              "             Operador Centro de ventas Llamada Arribo a BMS\n",
              "count             913              902     915          913\n",
              "unique            129               43       8            3\n",
              "top     Victor Malaga       iztapalapa      si           si\n",
              "freq               49              159     547          585"
            ],
            "text/html": [
              "\n",
              "  <div id=\"df-017ac661-ea16-48a9-ac05-a8d8deff4b3e\">\n",
              "    <div class=\"colab-df-container\">\n",
              "      <div>\n",
              "<style scoped>\n",
              "    .dataframe tbody tr th:only-of-type {\n",
              "        vertical-align: middle;\n",
              "    }\n",
              "\n",
              "    .dataframe tbody tr th {\n",
              "        vertical-align: top;\n",
              "    }\n",
              "\n",
              "    .dataframe thead th {\n",
              "        text-align: right;\n",
              "    }\n",
              "</style>\n",
              "<table border=\"1\" class=\"dataframe\">\n",
              "  <thead>\n",
              "    <tr style=\"text-align: right;\">\n",
              "      <th></th>\n",
              "      <th>Operador</th>\n",
              "      <th>Centro de ventas</th>\n",
              "      <th>Llamada</th>\n",
              "      <th>Arribo a BMS</th>\n",
              "    </tr>\n",
              "  </thead>\n",
              "  <tbody>\n",
              "    <tr>\n",
              "      <th>count</th>\n",
              "      <td>913</td>\n",
              "      <td>902</td>\n",
              "      <td>915</td>\n",
              "      <td>913</td>\n",
              "    </tr>\n",
              "    <tr>\n",
              "      <th>unique</th>\n",
              "      <td>129</td>\n",
              "      <td>43</td>\n",
              "      <td>8</td>\n",
              "      <td>3</td>\n",
              "    </tr>\n",
              "    <tr>\n",
              "      <th>top</th>\n",
              "      <td>Victor Malaga</td>\n",
              "      <td>iztapalapa</td>\n",
              "      <td>si</td>\n",
              "      <td>si</td>\n",
              "    </tr>\n",
              "    <tr>\n",
              "      <th>freq</th>\n",
              "      <td>49</td>\n",
              "      <td>159</td>\n",
              "      <td>547</td>\n",
              "      <td>585</td>\n",
              "    </tr>\n",
              "  </tbody>\n",
              "</table>\n",
              "</div>\n",
              "      <button class=\"colab-df-convert\" onclick=\"convertToInteractive('df-017ac661-ea16-48a9-ac05-a8d8deff4b3e')\"\n",
              "              title=\"Convert this dataframe to an interactive table.\"\n",
              "              style=\"display:none;\">\n",
              "        \n",
              "  <svg xmlns=\"http://www.w3.org/2000/svg\" height=\"24px\"viewBox=\"0 0 24 24\"\n",
              "       width=\"24px\">\n",
              "    <path d=\"M0 0h24v24H0V0z\" fill=\"none\"/>\n",
              "    <path d=\"M18.56 5.44l.94 2.06.94-2.06 2.06-.94-2.06-.94-.94-2.06-.94 2.06-2.06.94zm-11 1L8.5 8.5l.94-2.06 2.06-.94-2.06-.94L8.5 2.5l-.94 2.06-2.06.94zm10 10l.94 2.06.94-2.06 2.06-.94-2.06-.94-.94-2.06-.94 2.06-2.06.94z\"/><path d=\"M17.41 7.96l-1.37-1.37c-.4-.4-.92-.59-1.43-.59-.52 0-1.04.2-1.43.59L10.3 9.45l-7.72 7.72c-.78.78-.78 2.05 0 2.83L4 21.41c.39.39.9.59 1.41.59.51 0 1.02-.2 1.41-.59l7.78-7.78 2.81-2.81c.8-.78.8-2.07 0-2.86zM5.41 20L4 18.59l7.72-7.72 1.47 1.35L5.41 20z\"/>\n",
              "  </svg>\n",
              "      </button>\n",
              "      \n",
              "  <style>\n",
              "    .colab-df-container {\n",
              "      display:flex;\n",
              "      flex-wrap:wrap;\n",
              "      gap: 12px;\n",
              "    }\n",
              "\n",
              "    .colab-df-convert {\n",
              "      background-color: #E8F0FE;\n",
              "      border: none;\n",
              "      border-radius: 50%;\n",
              "      cursor: pointer;\n",
              "      display: none;\n",
              "      fill: #1967D2;\n",
              "      height: 32px;\n",
              "      padding: 0 0 0 0;\n",
              "      width: 32px;\n",
              "    }\n",
              "\n",
              "    .colab-df-convert:hover {\n",
              "      background-color: #E2EBFA;\n",
              "      box-shadow: 0px 1px 2px rgba(60, 64, 67, 0.3), 0px 1px 3px 1px rgba(60, 64, 67, 0.15);\n",
              "      fill: #174EA6;\n",
              "    }\n",
              "\n",
              "    [theme=dark] .colab-df-convert {\n",
              "      background-color: #3B4455;\n",
              "      fill: #D2E3FC;\n",
              "    }\n",
              "\n",
              "    [theme=dark] .colab-df-convert:hover {\n",
              "      background-color: #434B5C;\n",
              "      box-shadow: 0px 1px 3px 1px rgba(0, 0, 0, 0.15);\n",
              "      filter: drop-shadow(0px 1px 2px rgba(0, 0, 0, 0.3));\n",
              "      fill: #FFFFFF;\n",
              "    }\n",
              "  </style>\n",
              "\n",
              "      <script>\n",
              "        const buttonEl =\n",
              "          document.querySelector('#df-017ac661-ea16-48a9-ac05-a8d8deff4b3e button.colab-df-convert');\n",
              "        buttonEl.style.display =\n",
              "          google.colab.kernel.accessAllowed ? 'block' : 'none';\n",
              "\n",
              "        async function convertToInteractive(key) {\n",
              "          const element = document.querySelector('#df-017ac661-ea16-48a9-ac05-a8d8deff4b3e');\n",
              "          const dataTable =\n",
              "            await google.colab.kernel.invokeFunction('convertToInteractive',\n",
              "                                                     [key], {});\n",
              "          if (!dataTable) return;\n",
              "\n",
              "          const docLinkHtml = 'Like what you see? Visit the ' +\n",
              "            '<a target=\"_blank\" href=https://colab.research.google.com/notebooks/data_table.ipynb>data table notebook</a>'\n",
              "            + ' to learn more about interactive tables.';\n",
              "          element.innerHTML = '';\n",
              "          dataTable['output_type'] = 'display_data';\n",
              "          await google.colab.output.renderOutput(dataTable, element);\n",
              "          const docLink = document.createElement('div');\n",
              "          docLink.innerHTML = docLinkHtml;\n",
              "          element.appendChild(docLink);\n",
              "        }\n",
              "      </script>\n",
              "    </div>\n",
              "  </div>\n",
              "  "
            ]
          },
          "metadata": {},
          "execution_count": 72
        }
      ]
    },
    {
      "cell_type": "markdown",
      "source": [
        "#### Borramos las observaciones con valores nulos"
      ],
      "metadata": {
        "id": "NV2LkbsX6I-4"
      }
    },
    {
      "cell_type": "code",
      "source": [
        "dff = dff.dropna(axis=0)"
      ],
      "metadata": {
        "id": "YgTSFugBoyHs"
      },
      "execution_count": 73,
      "outputs": []
    },
    {
      "cell_type": "code",
      "source": [
        "dff.info()"
      ],
      "metadata": {
        "colab": {
          "base_uri": "https://localhost:8080/"
        },
        "id": "052t9jeppiTp",
        "outputId": "3e44cd9f-0858-48aa-bdb6-968474201a89"
      },
      "execution_count": 74,
      "outputs": [
        {
          "output_type": "stream",
          "name": "stdout",
          "text": [
            "<class 'pandas.core.frame.DataFrame'>\n",
            "Int64Index: 898 entries, 0 to 914\n",
            "Data columns (total 4 columns):\n",
            " #   Column            Non-Null Count  Dtype \n",
            "---  ------            --------------  ----- \n",
            " 0   Operador          898 non-null    object\n",
            " 1   Centro de ventas  898 non-null    object\n",
            " 2   Llamada           898 non-null    object\n",
            " 3   Arribo a BMS      898 non-null    object\n",
            "dtypes: object(4)\n",
            "memory usage: 35.1+ KB\n"
          ]
        }
      ]
    },
    {
      "cell_type": "code",
      "source": [
        "dff.head()"
      ],
      "metadata": {
        "colab": {
          "base_uri": "https://localhost:8080/",
          "height": 204
        },
        "id": "zHP5J81Q6fIw",
        "outputId": "148c5f1f-d150-451b-bcdb-e3a6b9a5829b"
      },
      "execution_count": 75,
      "outputs": [
        {
          "output_type": "execute_result",
          "data": {
            "text/plain": [
              "         Operador Centro de ventas Llamada Arribo a BMS\n",
              "0   Victor Malaga      san antonio      no           si\n",
              "1     Julio Gaona      san antonio      no           si\n",
              "2   Jorge Casarez       iztapalapa      si           si\n",
              "3   Gino Quintana       rojo gomez      no           no\n",
              "4  Hector Aguirre        naucalpan      si           si"
            ],
            "text/html": [
              "\n",
              "  <div id=\"df-638a2f5e-6eef-46d2-bc5b-ca66ce7c020c\">\n",
              "    <div class=\"colab-df-container\">\n",
              "      <div>\n",
              "<style scoped>\n",
              "    .dataframe tbody tr th:only-of-type {\n",
              "        vertical-align: middle;\n",
              "    }\n",
              "\n",
              "    .dataframe tbody tr th {\n",
              "        vertical-align: top;\n",
              "    }\n",
              "\n",
              "    .dataframe thead th {\n",
              "        text-align: right;\n",
              "    }\n",
              "</style>\n",
              "<table border=\"1\" class=\"dataframe\">\n",
              "  <thead>\n",
              "    <tr style=\"text-align: right;\">\n",
              "      <th></th>\n",
              "      <th>Operador</th>\n",
              "      <th>Centro de ventas</th>\n",
              "      <th>Llamada</th>\n",
              "      <th>Arribo a BMS</th>\n",
              "    </tr>\n",
              "  </thead>\n",
              "  <tbody>\n",
              "    <tr>\n",
              "      <th>0</th>\n",
              "      <td>Victor Malaga</td>\n",
              "      <td>san antonio</td>\n",
              "      <td>no</td>\n",
              "      <td>si</td>\n",
              "    </tr>\n",
              "    <tr>\n",
              "      <th>1</th>\n",
              "      <td>Julio Gaona</td>\n",
              "      <td>san antonio</td>\n",
              "      <td>no</td>\n",
              "      <td>si</td>\n",
              "    </tr>\n",
              "    <tr>\n",
              "      <th>2</th>\n",
              "      <td>Jorge Casarez</td>\n",
              "      <td>iztapalapa</td>\n",
              "      <td>si</td>\n",
              "      <td>si</td>\n",
              "    </tr>\n",
              "    <tr>\n",
              "      <th>3</th>\n",
              "      <td>Gino Quintana</td>\n",
              "      <td>rojo gomez</td>\n",
              "      <td>no</td>\n",
              "      <td>no</td>\n",
              "    </tr>\n",
              "    <tr>\n",
              "      <th>4</th>\n",
              "      <td>Hector Aguirre</td>\n",
              "      <td>naucalpan</td>\n",
              "      <td>si</td>\n",
              "      <td>si</td>\n",
              "    </tr>\n",
              "  </tbody>\n",
              "</table>\n",
              "</div>\n",
              "      <button class=\"colab-df-convert\" onclick=\"convertToInteractive('df-638a2f5e-6eef-46d2-bc5b-ca66ce7c020c')\"\n",
              "              title=\"Convert this dataframe to an interactive table.\"\n",
              "              style=\"display:none;\">\n",
              "        \n",
              "  <svg xmlns=\"http://www.w3.org/2000/svg\" height=\"24px\"viewBox=\"0 0 24 24\"\n",
              "       width=\"24px\">\n",
              "    <path d=\"M0 0h24v24H0V0z\" fill=\"none\"/>\n",
              "    <path d=\"M18.56 5.44l.94 2.06.94-2.06 2.06-.94-2.06-.94-.94-2.06-.94 2.06-2.06.94zm-11 1L8.5 8.5l.94-2.06 2.06-.94-2.06-.94L8.5 2.5l-.94 2.06-2.06.94zm10 10l.94 2.06.94-2.06 2.06-.94-2.06-.94-.94-2.06-.94 2.06-2.06.94z\"/><path d=\"M17.41 7.96l-1.37-1.37c-.4-.4-.92-.59-1.43-.59-.52 0-1.04.2-1.43.59L10.3 9.45l-7.72 7.72c-.78.78-.78 2.05 0 2.83L4 21.41c.39.39.9.59 1.41.59.51 0 1.02-.2 1.41-.59l7.78-7.78 2.81-2.81c.8-.78.8-2.07 0-2.86zM5.41 20L4 18.59l7.72-7.72 1.47 1.35L5.41 20z\"/>\n",
              "  </svg>\n",
              "      </button>\n",
              "      \n",
              "  <style>\n",
              "    .colab-df-container {\n",
              "      display:flex;\n",
              "      flex-wrap:wrap;\n",
              "      gap: 12px;\n",
              "    }\n",
              "\n",
              "    .colab-df-convert {\n",
              "      background-color: #E8F0FE;\n",
              "      border: none;\n",
              "      border-radius: 50%;\n",
              "      cursor: pointer;\n",
              "      display: none;\n",
              "      fill: #1967D2;\n",
              "      height: 32px;\n",
              "      padding: 0 0 0 0;\n",
              "      width: 32px;\n",
              "    }\n",
              "\n",
              "    .colab-df-convert:hover {\n",
              "      background-color: #E2EBFA;\n",
              "      box-shadow: 0px 1px 2px rgba(60, 64, 67, 0.3), 0px 1px 3px 1px rgba(60, 64, 67, 0.15);\n",
              "      fill: #174EA6;\n",
              "    }\n",
              "\n",
              "    [theme=dark] .colab-df-convert {\n",
              "      background-color: #3B4455;\n",
              "      fill: #D2E3FC;\n",
              "    }\n",
              "\n",
              "    [theme=dark] .colab-df-convert:hover {\n",
              "      background-color: #434B5C;\n",
              "      box-shadow: 0px 1px 3px 1px rgba(0, 0, 0, 0.15);\n",
              "      filter: drop-shadow(0px 1px 2px rgba(0, 0, 0, 0.3));\n",
              "      fill: #FFFFFF;\n",
              "    }\n",
              "  </style>\n",
              "\n",
              "      <script>\n",
              "        const buttonEl =\n",
              "          document.querySelector('#df-638a2f5e-6eef-46d2-bc5b-ca66ce7c020c button.colab-df-convert');\n",
              "        buttonEl.style.display =\n",
              "          google.colab.kernel.accessAllowed ? 'block' : 'none';\n",
              "\n",
              "        async function convertToInteractive(key) {\n",
              "          const element = document.querySelector('#df-638a2f5e-6eef-46d2-bc5b-ca66ce7c020c');\n",
              "          const dataTable =\n",
              "            await google.colab.kernel.invokeFunction('convertToInteractive',\n",
              "                                                     [key], {});\n",
              "          if (!dataTable) return;\n",
              "\n",
              "          const docLinkHtml = 'Like what you see? Visit the ' +\n",
              "            '<a target=\"_blank\" href=https://colab.research.google.com/notebooks/data_table.ipynb>data table notebook</a>'\n",
              "            + ' to learn more about interactive tables.';\n",
              "          element.innerHTML = '';\n",
              "          dataTable['output_type'] = 'display_data';\n",
              "          await google.colab.output.renderOutput(dataTable, element);\n",
              "          const docLink = document.createElement('div');\n",
              "          docLink.innerHTML = docLinkHtml;\n",
              "          element.appendChild(docLink);\n",
              "        }\n",
              "      </script>\n",
              "    </div>\n",
              "  </div>\n",
              "  "
            ]
          },
          "metadata": {},
          "execution_count": 75
        }
      ]
    },
    {
      "cell_type": "code",
      "source": [
        "dff.tail()"
      ],
      "metadata": {
        "colab": {
          "base_uri": "https://localhost:8080/",
          "height": 204
        },
        "id": "wAhKHgKalyql",
        "outputId": "05cc51c5-6ddd-4909-bfa9-0a4814c7a4c9"
      },
      "execution_count": 76,
      "outputs": [
        {
          "output_type": "execute_result",
          "data": {
            "text/plain": [
              "                Operador Centro de ventas Llamada Arribo a BMS\n",
              "910     Francisco Cortez       centenario      si           si\n",
              "911     hernandez tellez           chalco      no           no\n",
              "912           Marco Abad            reyes      no           no\n",
              "913  jose guadalupe sosa       tepalcates      no           no\n",
              "914      Rodrigo Barrera      san antonio      si           si"
            ],
            "text/html": [
              "\n",
              "  <div id=\"df-92ad8002-a53c-4915-bfd6-fb943a1b2258\">\n",
              "    <div class=\"colab-df-container\">\n",
              "      <div>\n",
              "<style scoped>\n",
              "    .dataframe tbody tr th:only-of-type {\n",
              "        vertical-align: middle;\n",
              "    }\n",
              "\n",
              "    .dataframe tbody tr th {\n",
              "        vertical-align: top;\n",
              "    }\n",
              "\n",
              "    .dataframe thead th {\n",
              "        text-align: right;\n",
              "    }\n",
              "</style>\n",
              "<table border=\"1\" class=\"dataframe\">\n",
              "  <thead>\n",
              "    <tr style=\"text-align: right;\">\n",
              "      <th></th>\n",
              "      <th>Operador</th>\n",
              "      <th>Centro de ventas</th>\n",
              "      <th>Llamada</th>\n",
              "      <th>Arribo a BMS</th>\n",
              "    </tr>\n",
              "  </thead>\n",
              "  <tbody>\n",
              "    <tr>\n",
              "      <th>910</th>\n",
              "      <td>Francisco Cortez</td>\n",
              "      <td>centenario</td>\n",
              "      <td>si</td>\n",
              "      <td>si</td>\n",
              "    </tr>\n",
              "    <tr>\n",
              "      <th>911</th>\n",
              "      <td>hernandez tellez</td>\n",
              "      <td>chalco</td>\n",
              "      <td>no</td>\n",
              "      <td>no</td>\n",
              "    </tr>\n",
              "    <tr>\n",
              "      <th>912</th>\n",
              "      <td>Marco Abad</td>\n",
              "      <td>reyes</td>\n",
              "      <td>no</td>\n",
              "      <td>no</td>\n",
              "    </tr>\n",
              "    <tr>\n",
              "      <th>913</th>\n",
              "      <td>jose guadalupe sosa</td>\n",
              "      <td>tepalcates</td>\n",
              "      <td>no</td>\n",
              "      <td>no</td>\n",
              "    </tr>\n",
              "    <tr>\n",
              "      <th>914</th>\n",
              "      <td>Rodrigo Barrera</td>\n",
              "      <td>san antonio</td>\n",
              "      <td>si</td>\n",
              "      <td>si</td>\n",
              "    </tr>\n",
              "  </tbody>\n",
              "</table>\n",
              "</div>\n",
              "      <button class=\"colab-df-convert\" onclick=\"convertToInteractive('df-92ad8002-a53c-4915-bfd6-fb943a1b2258')\"\n",
              "              title=\"Convert this dataframe to an interactive table.\"\n",
              "              style=\"display:none;\">\n",
              "        \n",
              "  <svg xmlns=\"http://www.w3.org/2000/svg\" height=\"24px\"viewBox=\"0 0 24 24\"\n",
              "       width=\"24px\">\n",
              "    <path d=\"M0 0h24v24H0V0z\" fill=\"none\"/>\n",
              "    <path d=\"M18.56 5.44l.94 2.06.94-2.06 2.06-.94-2.06-.94-.94-2.06-.94 2.06-2.06.94zm-11 1L8.5 8.5l.94-2.06 2.06-.94-2.06-.94L8.5 2.5l-.94 2.06-2.06.94zm10 10l.94 2.06.94-2.06 2.06-.94-2.06-.94-.94-2.06-.94 2.06-2.06.94z\"/><path d=\"M17.41 7.96l-1.37-1.37c-.4-.4-.92-.59-1.43-.59-.52 0-1.04.2-1.43.59L10.3 9.45l-7.72 7.72c-.78.78-.78 2.05 0 2.83L4 21.41c.39.39.9.59 1.41.59.51 0 1.02-.2 1.41-.59l7.78-7.78 2.81-2.81c.8-.78.8-2.07 0-2.86zM5.41 20L4 18.59l7.72-7.72 1.47 1.35L5.41 20z\"/>\n",
              "  </svg>\n",
              "      </button>\n",
              "      \n",
              "  <style>\n",
              "    .colab-df-container {\n",
              "      display:flex;\n",
              "      flex-wrap:wrap;\n",
              "      gap: 12px;\n",
              "    }\n",
              "\n",
              "    .colab-df-convert {\n",
              "      background-color: #E8F0FE;\n",
              "      border: none;\n",
              "      border-radius: 50%;\n",
              "      cursor: pointer;\n",
              "      display: none;\n",
              "      fill: #1967D2;\n",
              "      height: 32px;\n",
              "      padding: 0 0 0 0;\n",
              "      width: 32px;\n",
              "    }\n",
              "\n",
              "    .colab-df-convert:hover {\n",
              "      background-color: #E2EBFA;\n",
              "      box-shadow: 0px 1px 2px rgba(60, 64, 67, 0.3), 0px 1px 3px 1px rgba(60, 64, 67, 0.15);\n",
              "      fill: #174EA6;\n",
              "    }\n",
              "\n",
              "    [theme=dark] .colab-df-convert {\n",
              "      background-color: #3B4455;\n",
              "      fill: #D2E3FC;\n",
              "    }\n",
              "\n",
              "    [theme=dark] .colab-df-convert:hover {\n",
              "      background-color: #434B5C;\n",
              "      box-shadow: 0px 1px 3px 1px rgba(0, 0, 0, 0.15);\n",
              "      filter: drop-shadow(0px 1px 2px rgba(0, 0, 0, 0.3));\n",
              "      fill: #FFFFFF;\n",
              "    }\n",
              "  </style>\n",
              "\n",
              "      <script>\n",
              "        const buttonEl =\n",
              "          document.querySelector('#df-92ad8002-a53c-4915-bfd6-fb943a1b2258 button.colab-df-convert');\n",
              "        buttonEl.style.display =\n",
              "          google.colab.kernel.accessAllowed ? 'block' : 'none';\n",
              "\n",
              "        async function convertToInteractive(key) {\n",
              "          const element = document.querySelector('#df-92ad8002-a53c-4915-bfd6-fb943a1b2258');\n",
              "          const dataTable =\n",
              "            await google.colab.kernel.invokeFunction('convertToInteractive',\n",
              "                                                     [key], {});\n",
              "          if (!dataTable) return;\n",
              "\n",
              "          const docLinkHtml = 'Like what you see? Visit the ' +\n",
              "            '<a target=\"_blank\" href=https://colab.research.google.com/notebooks/data_table.ipynb>data table notebook</a>'\n",
              "            + ' to learn more about interactive tables.';\n",
              "          element.innerHTML = '';\n",
              "          dataTable['output_type'] = 'display_data';\n",
              "          await google.colab.output.renderOutput(dataTable, element);\n",
              "          const docLink = document.createElement('div');\n",
              "          docLink.innerHTML = docLinkHtml;\n",
              "          element.appendChild(docLink);\n",
              "        }\n",
              "      </script>\n",
              "    </div>\n",
              "  </div>\n",
              "  "
            ]
          },
          "metadata": {},
          "execution_count": 76
        }
      ]
    },
    {
      "cell_type": "markdown",
      "source": [
        "## Limpieza de Datos"
      ],
      "metadata": {
        "id": "RSIzRLFA6Wk6"
      }
    },
    {
      "cell_type": "markdown",
      "source": [
        "#### Convertimos todas las observaciones a letras minúsculas"
      ],
      "metadata": {
        "id": "wloEqJir6gca"
      }
    },
    {
      "cell_type": "code",
      "source": [
        "dff[\"Operador\"] = dff[\"Operador\"].str.lower()"
      ],
      "metadata": {
        "id": "fjt9mKAk_w3Q"
      },
      "execution_count": 77,
      "outputs": []
    },
    {
      "cell_type": "code",
      "source": [
        "dff[\"Centro de ventas\"] = dff[\"Centro de ventas\"].str.lower()"
      ],
      "metadata": {
        "id": "S1gNUI0iXl7W"
      },
      "execution_count": 78,
      "outputs": []
    },
    {
      "cell_type": "code",
      "source": [
        "dff[\"Llamada\"] = dff[\"Llamada\"].str.lower()"
      ],
      "metadata": {
        "id": "czTz1aAMXvUb"
      },
      "execution_count": 79,
      "outputs": []
    },
    {
      "cell_type": "code",
      "source": [
        "dff[\"Arribo a BMS\"] = dff[\"Arribo a BMS\"].str.lower()"
      ],
      "metadata": {
        "id": "cfYDG9dTX6g2"
      },
      "execution_count": 80,
      "outputs": []
    },
    {
      "cell_type": "markdown",
      "source": [
        "### Operador"
      ],
      "metadata": {
        "id": "bZ9J9vLB60Ci"
      }
    },
    {
      "cell_type": "markdown",
      "source": [
        "#### Revisamos los valores únicos"
      ],
      "metadata": {
        "id": "ZQpB_KnF680u"
      }
    },
    {
      "cell_type": "code",
      "source": [
        "dff[\"Operador\"].unique()"
      ],
      "metadata": {
        "colab": {
          "base_uri": "https://localhost:8080/"
        },
        "id": "KY4KQ9xm62XB",
        "outputId": "10cb86a6-02a0-4571-9d72-02b119ecc7bf"
      },
      "execution_count": 81,
      "outputs": [
        {
          "output_type": "execute_result",
          "data": {
            "text/plain": [
              "array(['victor malaga', 'julio gaona', 'jorge casarez', 'gino quintana',\n",
              "       'hector aguirre', 'javier gonzalez', 'sergio lozada', 'jose sosa',\n",
              "       'armando arcos', 'oscar luna', 'alfredo vega', 'jorge cazarez',\n",
              "       'alfonso mendoza', 'gerardo perez', 'oscar aldama',\n",
              "       'jorge marquez', 'joaquin gallardo', 'jorge hernandez franco',\n",
              "       'ivan luna', 'alejandro aranda', 'abraham ponce', 'jorge solano',\n",
              "       'lucas sanchez', 'lucas erasto', 'jesus caballero',\n",
              "       'rodolfo martinez', 'alfonzo mendoza', 'rodrigo barrera',\n",
              "       'vicente de la cruz', 'jorge hernandez', 'gonzalo campos',\n",
              "       'alejandro hernandez', 'armando', 'victo malaga',\n",
              "       'oscar hernandez', 'angel hernandez', 'josé sosa',\n",
              "       'israel carbajal', 'tolentino jacome', 'jorge rodrigo',\n",
              "       'jorge toledo', 'cesar mendoza', 'raymundo mora', 'marco abad',\n",
              "       'francisco cortez', 'amando arcos', 'alfreo vega', 'jorge cazares',\n",
              "       'jorge hernández tellez', 'jorge hernández franco',\n",
              "       'j.felix sanchez', 'abad eduardo del angel', 'luis gonzalez',\n",
              "       'marco nolasco', 'saul maldonado', 'hugo moreno', 'aaron flores',\n",
              "       'sergio garcia arzate', 'jorge martinez', 'jorge hernandez tellez',\n",
              "       'adan gonzalez', 'omar ortiz', 'roberto carlos',\n",
              "       'victoriano garcia', 'gaston soto', 'jorge martinez ',\n",
              "       'benito villasana', 'jose aguilar', 'luis salas',\n",
              "       'juan cortes lopez', 'giovanni hernandez', 'librado tolentino',\n",
              "       'felipe espinoza', 'rey de la cruz', 'moises carrillo',\n",
              "       'jorge martinez toledo', 'rodolfo lozano', 'felix sanchez',\n",
              "       'felipe carbajal', 'sergio arzate', 'mario antonio diaz',\n",
              "       'jorge ortiz', 'ivan cadena', 'ricardo gutierrez',\n",
              "       'jose luis badillo', 'martin salas', 'julio lopez',\n",
              "       'sergio garcia garcia', 'felix aguilar', 'sergio garcia',\n",
              "       'angel ortega', 'nahum torres', 'felipe rivera', 'adolfo marquina',\n",
              "       'alejandro xochitiotzi', 'juan perez fuentes', 'jesus aguilar',\n",
              "       'hernandez tellez', 'jose guadalupe sosa'], dtype=object)"
            ]
          },
          "metadata": {},
          "execution_count": 81
        }
      ]
    },
    {
      "cell_type": "code",
      "source": [
        "len(dff[\"Operador\"].unique())"
      ],
      "metadata": {
        "colab": {
          "base_uri": "https://localhost:8080/"
        },
        "id": "geYKm3-I9LnH",
        "outputId": "fa74d403-0101-4d71-9f37-d797d51cc386"
      },
      "execution_count": 82,
      "outputs": [
        {
          "output_type": "execute_result",
          "data": {
            "text/plain": [
              "99"
            ]
          },
          "metadata": {},
          "execution_count": 82
        }
      ]
    },
    {
      "cell_type": "markdown",
      "source": [
        "#### Despúes de revisar los valores únicos, debemos hacer varias correciones a los nombres, dado que algunos nombres no están registrados correctamente"
      ],
      "metadata": {
        "id": "kxBkjxcf7Fnc"
      }
    },
    {
      "cell_type": "code",
      "source": [
        "dff.loc[dff[\"Operador\"] == \"victo malaga\",\"Operador\"] = \"victor malaga\"\n",
        "dff.loc[dff[\"Operador\"] == \"jorge cazares\",\"Operador\"] = \"jorge casarez\"\n",
        "dff.loc[dff[\"Operador\"] == \"jorge cazarez\",\"Operador\"] = \"jorge casarez\"\n",
        "dff.loc[dff[\"Operador\"] == \"ivan luna\",\"Operador\"] = \"ivan cadena\"\n",
        "dff.loc[dff[\"Operador\"] == \"lucas erasto\",\"Operador\"] = \"lucas sanchez\"\n",
        "dff.loc[dff[\"Operador\"] == \"alfonzo mendoza\",\"Operador\"] = \"alfonso mendoza\"\n",
        "dff.loc[dff[\"Operador\"] == \" abraham ponce\",\"Operador\"] = \"abraham ponce\"\n",
        "dff.loc[dff[\"Operador\"] == \"josé sosa\",\"Operador\"] = \"jose sosa\"\n",
        "dff.loc[dff[\"Operador\"] == \"jose guadalupe sosa\",\"Operador\"] = \"jose sosa\"\n",
        "dff.loc[dff[\"Operador\"] == \"oscar hernandez\",\"Operador\"] = \"jorge hernandez franco\"\n",
        "dff.loc[dff[\"Operador\"] == \"jorge hernández franco\",\"Operador\"] = \"jorge hernandez franco\"\n",
        "dff.loc[dff[\"Operador\"] == \"armando\",\"Operador\"] = \"armando arcos\"\n",
        "dff.loc[dff[\"Operador\"] == \"amando arcos\",\"Operador\"] = \"armando arcos\"\n",
        "dff.loc[dff[\"Operador\"] == \"alfreo vega\",\"Operador\"] = \"alfredo vega\"\n",
        "dff.loc[dff[\"Operador\"] == \"j.felix sanchez\",\"Operador\"] = \"felix sanchez\"\n",
        "dff.loc[dff[\"Operador\"] == \"angel hernandez\",\"Operador\"] = \"giovanni hernandez\"\n",
        "dff.loc[dff[\"Operador\"] == \"hernandez tellez\",\"Operador\"] = \"jorge hernandez tellez\"\n",
        "dff.loc[dff[\"Operador\"] == \"jorge hernandez\",\"Operador\"] = \"jorge hernandez tellez\"\n",
        "dff.loc[dff[\"Operador\"] == \"jorge rodrigo\",\"Operador\"] = \"jorge hernandez tellez\"\n",
        "dff.loc[dff[\"Operador\"] == \"jorge hernández tellez\",\"Operador\"] = \"jorge hernandez tellez\"\n",
        "dff.loc[dff[\"Operador\"] == \"sergio arzate\",\"Operador\"] = \"sergio garcia arzate\"\n",
        "dff.loc[dff[\"Operador\"] == \"sergio garcia\",\"Operador\"] = \"sergio garcia arzate\"\n",
        "dff.loc[dff[\"Operador\"] == \"jorge toledo\",\"Operador\"] = \"jorge martinez toledo\"\n",
        "dff.loc[dff[\"Operador\"] == \"jorge martinez\",\"Operador\"] = \"jorge martinez toledo\"\n",
        "dff.loc[dff[\"Operador\"] == \"jorge martinez \",\"Operador\"] = \"jorge martinez toledo\"\n",
        "dff.loc[dff[\"Operador\"] == \"tolentino jacome\",\"Operador\"] = \"librado tolentino\"\n",
        "dff.loc[dff[\"Operador\"] == \"luis salas\",\"Operador\"] = \"martin salas\"\n",
        "dff.loc[dff[\"Operador\"] == \"jose aguilar\",\"Operador\"] = \"julio lopez\"\n",
        "dff.loc[dff[\"Operador\"] == \"jesus aguilar\",\"Operador\"] = \"julio lopez\"\n",
        "dff.loc[dff[\"Operador\"] == \"luis salas\",\"Operador\"] = \"martin salas\"\n",
        "dff.loc[dff[\"Operador\"] == \"israel carbajal\",\"Operador\"] = \"felipe carbajal\"\n",
        "dff.loc[dff[\"Operador\"] == \"angel ortega\",\"Operador\"] = \"luis gonzalez\"\n",
        "dff.loc[dff[\"Operador\"] == \"francisco cortez\",\"Operador\"] = \"francisco cortes\""
      ],
      "metadata": {
        "id": "Q-OBBI_LmMt4"
      },
      "execution_count": 83,
      "outputs": []
    },
    {
      "cell_type": "code",
      "source": [
        "dff[\"Operador\"].unique()"
      ],
      "metadata": {
        "colab": {
          "base_uri": "https://localhost:8080/"
        },
        "id": "Gg-JMfcVyvpx",
        "outputId": "f72eac53-38fc-402f-d502-5aa6738d13cb"
      },
      "execution_count": 84,
      "outputs": [
        {
          "output_type": "execute_result",
          "data": {
            "text/plain": [
              "array(['victor malaga', 'julio gaona', 'jorge casarez', 'gino quintana',\n",
              "       'hector aguirre', 'javier gonzalez', 'sergio lozada', 'jose sosa',\n",
              "       'armando arcos', 'oscar luna', 'alfredo vega', 'alfonso mendoza',\n",
              "       'gerardo perez', 'oscar aldama', 'jorge marquez',\n",
              "       'joaquin gallardo', 'jorge hernandez franco', 'ivan cadena',\n",
              "       'alejandro aranda', 'abraham ponce', 'jorge solano',\n",
              "       'lucas sanchez', 'jesus caballero', 'rodolfo martinez',\n",
              "       'rodrigo barrera', 'vicente de la cruz', 'jorge hernandez tellez',\n",
              "       'gonzalo campos', 'alejandro hernandez', 'giovanni hernandez',\n",
              "       'felipe carbajal', 'librado tolentino', 'jorge martinez toledo',\n",
              "       'cesar mendoza', 'raymundo mora', 'marco abad', 'francisco cortes',\n",
              "       'felix sanchez', 'abad eduardo del angel', 'luis gonzalez',\n",
              "       'marco nolasco', 'saul maldonado', 'hugo moreno', 'aaron flores',\n",
              "       'sergio garcia arzate', 'adan gonzalez', 'omar ortiz',\n",
              "       'roberto carlos', 'victoriano garcia', 'gaston soto',\n",
              "       'benito villasana', 'julio lopez', 'martin salas',\n",
              "       'juan cortes lopez', 'felipe espinoza', 'rey de la cruz',\n",
              "       'moises carrillo', 'rodolfo lozano', 'mario antonio diaz',\n",
              "       'jorge ortiz', 'ricardo gutierrez', 'jose luis badillo',\n",
              "       'sergio garcia garcia', 'felix aguilar', 'nahum torres',\n",
              "       'felipe rivera', 'adolfo marquina', 'alejandro xochitiotzi',\n",
              "       'juan perez fuentes'], dtype=object)"
            ]
          },
          "metadata": {},
          "execution_count": 84
        }
      ]
    },
    {
      "cell_type": "code",
      "source": [
        "len(dff[\"Operador\"].unique())"
      ],
      "metadata": {
        "colab": {
          "base_uri": "https://localhost:8080/"
        },
        "id": "3R8UOXVmoJ0D",
        "outputId": "b2e72cac-29e8-4a70-848b-53bc95be3f4f"
      },
      "execution_count": 85,
      "outputs": [
        {
          "output_type": "execute_result",
          "data": {
            "text/plain": [
              "69"
            ]
          },
          "metadata": {},
          "execution_count": 85
        }
      ]
    },
    {
      "cell_type": "markdown",
      "source": [
        "#### Al final se tienen a 69 operadores"
      ],
      "metadata": {
        "id": "GKzhI6Sf7fN_"
      }
    },
    {
      "cell_type": "code",
      "source": [
        "sorted(list(set(dff.Operador.unique())))"
      ],
      "metadata": {
        "colab": {
          "base_uri": "https://localhost:8080/"
        },
        "id": "Jy86wx3QmgGf",
        "outputId": "03d9ae84-9ff1-4ff6-e472-c2b24ee8bb05"
      },
      "execution_count": 86,
      "outputs": [
        {
          "output_type": "execute_result",
          "data": {
            "text/plain": [
              "['aaron flores',\n",
              " 'abad eduardo del angel',\n",
              " 'abraham ponce',\n",
              " 'adan gonzalez',\n",
              " 'adolfo marquina',\n",
              " 'alejandro aranda',\n",
              " 'alejandro hernandez',\n",
              " 'alejandro xochitiotzi',\n",
              " 'alfonso mendoza',\n",
              " 'alfredo vega',\n",
              " 'armando arcos',\n",
              " 'benito villasana',\n",
              " 'cesar mendoza',\n",
              " 'felipe carbajal',\n",
              " 'felipe espinoza',\n",
              " 'felipe rivera',\n",
              " 'felix aguilar',\n",
              " 'felix sanchez',\n",
              " 'francisco cortes',\n",
              " 'gaston soto',\n",
              " 'gerardo perez',\n",
              " 'gino quintana',\n",
              " 'giovanni hernandez',\n",
              " 'gonzalo campos',\n",
              " 'hector aguirre',\n",
              " 'hugo moreno',\n",
              " 'ivan cadena',\n",
              " 'javier gonzalez',\n",
              " 'jesus caballero',\n",
              " 'joaquin gallardo',\n",
              " 'jorge casarez',\n",
              " 'jorge hernandez franco',\n",
              " 'jorge hernandez tellez',\n",
              " 'jorge marquez',\n",
              " 'jorge martinez toledo',\n",
              " 'jorge ortiz',\n",
              " 'jorge solano',\n",
              " 'jose luis badillo',\n",
              " 'jose sosa',\n",
              " 'juan cortes lopez',\n",
              " 'juan perez fuentes',\n",
              " 'julio gaona',\n",
              " 'julio lopez',\n",
              " 'librado tolentino',\n",
              " 'lucas sanchez',\n",
              " 'luis gonzalez',\n",
              " 'marco abad',\n",
              " 'marco nolasco',\n",
              " 'mario antonio diaz',\n",
              " 'martin salas',\n",
              " 'moises carrillo',\n",
              " 'nahum torres',\n",
              " 'omar ortiz',\n",
              " 'oscar aldama',\n",
              " 'oscar luna',\n",
              " 'raymundo mora',\n",
              " 'rey de la cruz',\n",
              " 'ricardo gutierrez',\n",
              " 'roberto carlos',\n",
              " 'rodolfo lozano',\n",
              " 'rodolfo martinez',\n",
              " 'rodrigo barrera',\n",
              " 'saul maldonado',\n",
              " 'sergio garcia arzate',\n",
              " 'sergio garcia garcia',\n",
              " 'sergio lozada',\n",
              " 'vicente de la cruz',\n",
              " 'victor malaga',\n",
              " 'victoriano garcia']"
            ]
          },
          "metadata": {},
          "execution_count": 86
        }
      ]
    },
    {
      "cell_type": "markdown",
      "source": [
        "#### Si deseamos ver los destinos de un operador en específico, empleamos el siguiente código"
      ],
      "metadata": {
        "id": "UCZTaMVg7vk1"
      }
    },
    {
      "cell_type": "code",
      "source": [
        "an = dff[[\"Operador\"]].apply(\n",
        "    lambda x: x.str.contains(\n",
        "        \"victor malaga\",\n",
        "        regex=True\n",
        "    )\n",
        ").any(axis=1)\n",
        "print(dff[an])"
      ],
      "metadata": {
        "colab": {
          "base_uri": "https://localhost:8080/"
        },
        "id": "5gBg9pWucA4Q",
        "outputId": "72fb5a82-ed82-440d-ae59-d2063aed2913"
      },
      "execution_count": 87,
      "outputs": [
        {
          "output_type": "stream",
          "name": "stdout",
          "text": [
            "          Operador Centro de ventas Llamada Arribo a BMS\n",
            "0    victor malaga      san antonio      no           si\n",
            "11   victor malaga         la villa      no           si\n",
            "30   victor malaga       iztapalapa      sí           sí\n",
            "38   victor malaga      tepalcates       si           si\n",
            "52   victor malaga       tepalcates      si           si\n",
            "61   victor malaga       iztapalapa      si           si\n",
            "67   victor malaga     santa clara       si           si\n",
            "82   victor malaga       iztapalapa      si           si\n",
            "98   victor malaga       iztapalapa      si           si\n",
            "102  victor malaga       iztapalapa      si           si\n",
            "116  victor malaga        naucalpan      si           si\n",
            "136  victor malaga       iztapalapa      si           si\n",
            "152  victor malaga       iztapalapa      si           si\n",
            "153  victor malaga       iztapalapa      si           si\n",
            "181  victor malaga       iztapalapa      si           si\n",
            "192  victor malaga         xalostoc      si           no\n",
            "201  victor malaga         coacalco      si           si\n",
            "215  victor malaga     santa clara       si           si\n",
            "221  victor malaga       tepalcates      si           si\n",
            "241  victor malaga      san antonio      si           si\n",
            "246  victor malaga       iztapalapa      si           si\n",
            "259  victor malaga      san lorenzo      si           si\n",
            "272  victor malaga       tepalcates      si           si\n",
            "290  victor malaga       iztapalapa      si           si\n",
            "304  victor malaga       iztapalapa      si           si\n",
            "323  victor malaga       iztapalapa      no           si\n",
            "334  victor malaga      san antonio      si           si\n",
            "373  victor malaga       iztapalapa      no           si\n",
            "388  victor malaga       iztapalapa      si           si\n",
            "409  victor malaga       iztapalapa      si           si\n",
            "437  victor malaga       iztapalapa      si           si\n",
            "454  victor malaga       iztapalapa      si           si\n",
            "479  victor malaga       iztapalapa      si           si\n",
            "499  victor malaga       iztapalapa      si           si\n",
            "533  victor malaga       tepalcates      si           no\n",
            "555  victor malaga       iztapalapa      si           si\n",
            "581  victor malaga      san lorenzo      si           si\n",
            "599  victor malaga       iztapalapa      si           si\n",
            "622  victor malaga       iztapalapa      si           si\n",
            "644  victor malaga      san lorenzo      si           si\n",
            "665  victor malaga       iztapalapa      si           si\n",
            "696  victor malaga       tepalcates      si           si\n",
            "705  victor malaga       iztapalapa      si           si\n",
            "712  victor malaga       iztapalapa      si           si\n",
            "727  victor malaga       iztapalapa      si           no\n",
            "737  victor malaga       iztapalapa      si           si\n",
            "751  victor malaga       iztapalapa      si           no\n",
            "769  victor malaga       iztapalapa      si           si\n",
            "895  victor malaga       iztapalapa      no           no\n"
          ]
        }
      ]
    },
    {
      "cell_type": "markdown",
      "source": [
        "### Centro de Ventas"
      ],
      "metadata": {
        "id": "ZSHHRvJs86TS"
      }
    },
    {
      "cell_type": "markdown",
      "source": [
        "#### Revisamos los valores únicos"
      ],
      "metadata": {
        "id": "4QI0zspc9Go3"
      }
    },
    {
      "cell_type": "code",
      "source": [
        "dff[\"Centro de ventas\"].unique()"
      ],
      "metadata": {
        "colab": {
          "base_uri": "https://localhost:8080/"
        },
        "id": "GPlFpa999eVN",
        "outputId": "54080a21-0170-47ab-8479-eb4dbd7220d3"
      },
      "execution_count": 88,
      "outputs": [
        {
          "output_type": "execute_result",
          "data": {
            "text/plain": [
              "array(['san antonio', 'iztapalapa', 'rojo gomez', 'naucalpan',\n",
              "       'tultitlan', 'santa clara', 'san antonio ', 'la villa',\n",
              "       'tepalcates', 'coacalco', 'san lorenzo', 'centro', 'chalco ',\n",
              "       'centenario', 'san juan', 'xalostoc', 'tepalcates ', 'chalco',\n",
              "       'azcapopark', 'ceylan', 'atizapan', 'santa clara ', 'xochimilco',\n",
              "       'ceylan-tultitlan', 'tepotzotlan', 'cedis iztapala', 'reyes',\n",
              "       'san juan ', 'centenario ', 'la villa ', 'vallejo', 'los reyes',\n",
              "       'ixtapaluca', 'chalco-san juan', 'villa', 'cuautitlan',\n",
              "       'san antonio  ', 'san atonio', 'cdm'], dtype=object)"
            ]
          },
          "metadata": {},
          "execution_count": 88
        }
      ]
    },
    {
      "cell_type": "code",
      "source": [
        "len(dff[\"Centro de ventas\"].unique())"
      ],
      "metadata": {
        "colab": {
          "base_uri": "https://localhost:8080/"
        },
        "id": "NL__vPpe9j8A",
        "outputId": "38b1d6ef-cdea-43a1-b14d-d1e94b196c8c"
      },
      "execution_count": 89,
      "outputs": [
        {
          "output_type": "execute_result",
          "data": {
            "text/plain": [
              "39"
            ]
          },
          "metadata": {},
          "execution_count": 89
        }
      ]
    },
    {
      "cell_type": "markdown",
      "source": [
        "#### Al igual que en el caso de los operadores, debemos realizar correciones en las observaciones"
      ],
      "metadata": {
        "id": "vyG_du2n9NR-"
      }
    },
    {
      "cell_type": "code",
      "source": [
        "dff.loc[dff[\"Centro de ventas\"] == \"san antonio \",\"Centro de ventas\"] = \"san antonio\"\n",
        "dff.loc[dff[\"Centro de ventas\"] == \"chalco \",\"Centro de ventas\"] = \"chalco\"\n",
        "dff.loc[dff[\"Centro de ventas\"] == \"ceylan-tultitlan\",\"Centro de ventas\"] = \"ceylan\"\n",
        "dff.loc[dff[\"Centro de ventas\"] == \"iztapalapa\",\"Centro de ventas\"] = \"cedis iztapalapa\"\n",
        "dff.loc[dff[\"Centro de ventas\"] == \"reyes\",\"Centro de ventas\"] = \"los reyes\"\n",
        "dff.loc[dff[\"Centro de ventas\"] == \"chalco-san juan\",\"Centro de ventas\"] = \"chalco\"\n",
        "dff.loc[dff[\"Centro de ventas\"] == \"villa\",\"Centro de ventas\"] = \"la villa\"\n",
        "dff.loc[dff[\"Centro de ventas\"] == \"san antonio  \",\"Centro de ventas\"] = \"san antonio\"\n",
        "dff.loc[dff[\"Centro de ventas\"] == \"san atonio\",\"Centro de ventas\"] = \"san antonio\"\n",
        "dff.loc[dff[\"Centro de ventas\"] == \"cedis iztapala\",\"Centro de ventas\"] = \"cedis iztapalapa\"\n",
        "dff.loc[dff[\"Centro de ventas\"] == \"centenario \",\"Centro de ventas\"] = \"centenario\"\n",
        "dff.loc[dff[\"Centro de ventas\"] == \"la villa \",\"Centro de ventas\"] = \"la villa\"\n",
        "dff.loc[dff[\"Centro de ventas\"] == \"santa clara \",\"Centro de ventas\"] = \"santa clara\"\n",
        "dff.loc[dff[\"Centro de ventas\"] == \"san juan \",\"Centro de ventas\"] = \"san juan\"\n",
        "dff.loc[dff[\"Centro de ventas\"] == \"tepalcates \",\"Centro de ventas\"] = \"tepalcates\""
      ],
      "metadata": {
        "id": "5XWlVpjV9p9H"
      },
      "execution_count": 90,
      "outputs": []
    },
    {
      "cell_type": "code",
      "source": [
        "dff[\"Centro de ventas\"].unique()"
      ],
      "metadata": {
        "colab": {
          "base_uri": "https://localhost:8080/"
        },
        "id": "OVM7iGNTsKFT",
        "outputId": "5f1dc3af-0062-4f52-deae-9ab6af98d65d"
      },
      "execution_count": 91,
      "outputs": [
        {
          "output_type": "execute_result",
          "data": {
            "text/plain": [
              "array(['san antonio', 'cedis iztapalapa', 'rojo gomez', 'naucalpan',\n",
              "       'tultitlan', 'santa clara', 'la villa', 'tepalcates', 'coacalco',\n",
              "       'san lorenzo', 'centro', 'chalco', 'centenario', 'san juan',\n",
              "       'xalostoc', 'azcapopark', 'ceylan', 'atizapan', 'xochimilco',\n",
              "       'tepotzotlan', 'los reyes', 'vallejo', 'ixtapaluca', 'cuautitlan',\n",
              "       'cdm'], dtype=object)"
            ]
          },
          "metadata": {},
          "execution_count": 91
        }
      ]
    },
    {
      "cell_type": "code",
      "source": [
        "len(dff[\"Centro de ventas\"].unique())"
      ],
      "metadata": {
        "colab": {
          "base_uri": "https://localhost:8080/"
        },
        "id": "zdbteInusQuG",
        "outputId": "1cc8bb2e-1277-475b-edc3-70ad10a841b8"
      },
      "execution_count": 92,
      "outputs": [
        {
          "output_type": "execute_result",
          "data": {
            "text/plain": [
              "25"
            ]
          },
          "metadata": {},
          "execution_count": 92
        }
      ]
    },
    {
      "cell_type": "markdown",
      "source": [
        "#### Se cuenta con 25 Centros de venta al final de las correciones"
      ],
      "metadata": {
        "id": "VcwOf9kj9nSb"
      }
    },
    {
      "cell_type": "code",
      "source": [
        "sorted(list(set(dff[\"Centro de ventas\"].unique())))"
      ],
      "metadata": {
        "colab": {
          "base_uri": "https://localhost:8080/"
        },
        "id": "KH_2zIeCsVTJ",
        "outputId": "fc7835aa-71fa-473e-e761-43d77824deff"
      },
      "execution_count": 93,
      "outputs": [
        {
          "output_type": "execute_result",
          "data": {
            "text/plain": [
              "['atizapan',\n",
              " 'azcapopark',\n",
              " 'cdm',\n",
              " 'cedis iztapalapa',\n",
              " 'centenario',\n",
              " 'centro',\n",
              " 'ceylan',\n",
              " 'chalco',\n",
              " 'coacalco',\n",
              " 'cuautitlan',\n",
              " 'ixtapaluca',\n",
              " 'la villa',\n",
              " 'los reyes',\n",
              " 'naucalpan',\n",
              " 'rojo gomez',\n",
              " 'san antonio',\n",
              " 'san juan',\n",
              " 'san lorenzo',\n",
              " 'santa clara',\n",
              " 'tepalcates',\n",
              " 'tepotzotlan',\n",
              " 'tultitlan',\n",
              " 'vallejo',\n",
              " 'xalostoc',\n",
              " 'xochimilco']"
            ]
          },
          "metadata": {},
          "execution_count": 93
        }
      ]
    },
    {
      "cell_type": "markdown",
      "source": [
        "### Llamada"
      ],
      "metadata": {
        "id": "74O8j4lf-QTj"
      }
    },
    {
      "cell_type": "markdown",
      "source": [
        "#### Revisamos los valores únicos"
      ],
      "metadata": {
        "id": "KjbiZLsR-UqR"
      }
    },
    {
      "cell_type": "code",
      "source": [
        "dff[\"Llamada\"].unique()"
      ],
      "metadata": {
        "colab": {
          "base_uri": "https://localhost:8080/"
        },
        "id": "A-C9lTSpskPR",
        "outputId": "aba7dd56-a7dc-4756-942e-87d64fd71db3"
      },
      "execution_count": 94,
      "outputs": [
        {
          "output_type": "execute_result",
          "data": {
            "text/plain": [
              "array(['no', 'si', 'sí', 'no contestó', 'colgó', 'p', ' no contestó'],\n",
              "      dtype=object)"
            ]
          },
          "metadata": {},
          "execution_count": 94
        }
      ]
    },
    {
      "cell_type": "markdown",
      "source": [
        "#### Revisamos las observaciones con la categoria \"p\""
      ],
      "metadata": {
        "id": "tRkzqqi9-ZJh"
      }
    },
    {
      "cell_type": "code",
      "source": [
        "dff.query('Llamada == \"p\"')"
      ],
      "metadata": {
        "colab": {
          "base_uri": "https://localhost:8080/",
          "height": 204
        },
        "id": "-HcYU1Gswjre",
        "outputId": "37f2f05d-0fc1-4472-ae4c-a679f51369a2"
      },
      "execution_count": 95,
      "outputs": [
        {
          "output_type": "execute_result",
          "data": {
            "text/plain": [
              "                Operador Centro de ventas Llamada Arribo a BMS\n",
              "674        raymundo mora         san juan       p           no\n",
              "706           marco abad      san antonio       p           no\n",
              "709        gerardo perez        naucalpan       p           no\n",
              "902  alejandro hernandez       ixtapaluca       p           no\n",
              "908        abraham ponce       xochimilco       p           no"
            ],
            "text/html": [
              "\n",
              "  <div id=\"df-eb0778de-8586-428e-8d41-6ed37bd46586\">\n",
              "    <div class=\"colab-df-container\">\n",
              "      <div>\n",
              "<style scoped>\n",
              "    .dataframe tbody tr th:only-of-type {\n",
              "        vertical-align: middle;\n",
              "    }\n",
              "\n",
              "    .dataframe tbody tr th {\n",
              "        vertical-align: top;\n",
              "    }\n",
              "\n",
              "    .dataframe thead th {\n",
              "        text-align: right;\n",
              "    }\n",
              "</style>\n",
              "<table border=\"1\" class=\"dataframe\">\n",
              "  <thead>\n",
              "    <tr style=\"text-align: right;\">\n",
              "      <th></th>\n",
              "      <th>Operador</th>\n",
              "      <th>Centro de ventas</th>\n",
              "      <th>Llamada</th>\n",
              "      <th>Arribo a BMS</th>\n",
              "    </tr>\n",
              "  </thead>\n",
              "  <tbody>\n",
              "    <tr>\n",
              "      <th>674</th>\n",
              "      <td>raymundo mora</td>\n",
              "      <td>san juan</td>\n",
              "      <td>p</td>\n",
              "      <td>no</td>\n",
              "    </tr>\n",
              "    <tr>\n",
              "      <th>706</th>\n",
              "      <td>marco abad</td>\n",
              "      <td>san antonio</td>\n",
              "      <td>p</td>\n",
              "      <td>no</td>\n",
              "    </tr>\n",
              "    <tr>\n",
              "      <th>709</th>\n",
              "      <td>gerardo perez</td>\n",
              "      <td>naucalpan</td>\n",
              "      <td>p</td>\n",
              "      <td>no</td>\n",
              "    </tr>\n",
              "    <tr>\n",
              "      <th>902</th>\n",
              "      <td>alejandro hernandez</td>\n",
              "      <td>ixtapaluca</td>\n",
              "      <td>p</td>\n",
              "      <td>no</td>\n",
              "    </tr>\n",
              "    <tr>\n",
              "      <th>908</th>\n",
              "      <td>abraham ponce</td>\n",
              "      <td>xochimilco</td>\n",
              "      <td>p</td>\n",
              "      <td>no</td>\n",
              "    </tr>\n",
              "  </tbody>\n",
              "</table>\n",
              "</div>\n",
              "      <button class=\"colab-df-convert\" onclick=\"convertToInteractive('df-eb0778de-8586-428e-8d41-6ed37bd46586')\"\n",
              "              title=\"Convert this dataframe to an interactive table.\"\n",
              "              style=\"display:none;\">\n",
              "        \n",
              "  <svg xmlns=\"http://www.w3.org/2000/svg\" height=\"24px\"viewBox=\"0 0 24 24\"\n",
              "       width=\"24px\">\n",
              "    <path d=\"M0 0h24v24H0V0z\" fill=\"none\"/>\n",
              "    <path d=\"M18.56 5.44l.94 2.06.94-2.06 2.06-.94-2.06-.94-.94-2.06-.94 2.06-2.06.94zm-11 1L8.5 8.5l.94-2.06 2.06-.94-2.06-.94L8.5 2.5l-.94 2.06-2.06.94zm10 10l.94 2.06.94-2.06 2.06-.94-2.06-.94-.94-2.06-.94 2.06-2.06.94z\"/><path d=\"M17.41 7.96l-1.37-1.37c-.4-.4-.92-.59-1.43-.59-.52 0-1.04.2-1.43.59L10.3 9.45l-7.72 7.72c-.78.78-.78 2.05 0 2.83L4 21.41c.39.39.9.59 1.41.59.51 0 1.02-.2 1.41-.59l7.78-7.78 2.81-2.81c.8-.78.8-2.07 0-2.86zM5.41 20L4 18.59l7.72-7.72 1.47 1.35L5.41 20z\"/>\n",
              "  </svg>\n",
              "      </button>\n",
              "      \n",
              "  <style>\n",
              "    .colab-df-container {\n",
              "      display:flex;\n",
              "      flex-wrap:wrap;\n",
              "      gap: 12px;\n",
              "    }\n",
              "\n",
              "    .colab-df-convert {\n",
              "      background-color: #E8F0FE;\n",
              "      border: none;\n",
              "      border-radius: 50%;\n",
              "      cursor: pointer;\n",
              "      display: none;\n",
              "      fill: #1967D2;\n",
              "      height: 32px;\n",
              "      padding: 0 0 0 0;\n",
              "      width: 32px;\n",
              "    }\n",
              "\n",
              "    .colab-df-convert:hover {\n",
              "      background-color: #E2EBFA;\n",
              "      box-shadow: 0px 1px 2px rgba(60, 64, 67, 0.3), 0px 1px 3px 1px rgba(60, 64, 67, 0.15);\n",
              "      fill: #174EA6;\n",
              "    }\n",
              "\n",
              "    [theme=dark] .colab-df-convert {\n",
              "      background-color: #3B4455;\n",
              "      fill: #D2E3FC;\n",
              "    }\n",
              "\n",
              "    [theme=dark] .colab-df-convert:hover {\n",
              "      background-color: #434B5C;\n",
              "      box-shadow: 0px 1px 3px 1px rgba(0, 0, 0, 0.15);\n",
              "      filter: drop-shadow(0px 1px 2px rgba(0, 0, 0, 0.3));\n",
              "      fill: #FFFFFF;\n",
              "    }\n",
              "  </style>\n",
              "\n",
              "      <script>\n",
              "        const buttonEl =\n",
              "          document.querySelector('#df-eb0778de-8586-428e-8d41-6ed37bd46586 button.colab-df-convert');\n",
              "        buttonEl.style.display =\n",
              "          google.colab.kernel.accessAllowed ? 'block' : 'none';\n",
              "\n",
              "        async function convertToInteractive(key) {\n",
              "          const element = document.querySelector('#df-eb0778de-8586-428e-8d41-6ed37bd46586');\n",
              "          const dataTable =\n",
              "            await google.colab.kernel.invokeFunction('convertToInteractive',\n",
              "                                                     [key], {});\n",
              "          if (!dataTable) return;\n",
              "\n",
              "          const docLinkHtml = 'Like what you see? Visit the ' +\n",
              "            '<a target=\"_blank\" href=https://colab.research.google.com/notebooks/data_table.ipynb>data table notebook</a>'\n",
              "            + ' to learn more about interactive tables.';\n",
              "          element.innerHTML = '';\n",
              "          dataTable['output_type'] = 'display_data';\n",
              "          await google.colab.output.renderOutput(dataTable, element);\n",
              "          const docLink = document.createElement('div');\n",
              "          docLink.innerHTML = docLinkHtml;\n",
              "          element.appendChild(docLink);\n",
              "        }\n",
              "      </script>\n",
              "    </div>\n",
              "  </div>\n",
              "  "
            ]
          },
          "metadata": {},
          "execution_count": 95
        }
      ]
    },
    {
      "cell_type": "markdown",
      "source": [
        "#### Se hacen las correciones pertinentes y en particular las observaciones con la categoría \"p\" se cambian a la categoría \"no\", ya que la llamada nunca se realizó"
      ],
      "metadata": {
        "id": "WJ89BHW7-lg9"
      }
    },
    {
      "cell_type": "code",
      "source": [
        "dff.loc[dff[\"Llamada\"] == \"p\",\"Llamada\"] = \"no\"\n",
        "dff.loc[dff[\"Llamada\"] == \"sí\",\"Llamada\"] = \"si\"\n",
        "dff.loc[dff[\"Llamada\"] == \" no contestó\",\"Llamada\"] = \"no contesto\"\n",
        "dff.loc[dff[\"Llamada\"] == \"no contestó\",\"Llamada\"] = \"no contesto\""
      ],
      "metadata": {
        "id": "GWZqKWfpvhkF"
      },
      "execution_count": 96,
      "outputs": []
    },
    {
      "cell_type": "code",
      "source": [
        "dff[\"Llamada\"].unique()"
      ],
      "metadata": {
        "colab": {
          "base_uri": "https://localhost:8080/"
        },
        "id": "Tu-0pNHxu6jw",
        "outputId": "7a87a463-c348-4429-bcb0-39a8ea52a46d"
      },
      "execution_count": 97,
      "outputs": [
        {
          "output_type": "execute_result",
          "data": {
            "text/plain": [
              "array(['no', 'si', 'no contesto', 'colgó'], dtype=object)"
            ]
          },
          "metadata": {},
          "execution_count": 97
        }
      ]
    },
    {
      "cell_type": "markdown",
      "source": [
        "### Arribo a BMS"
      ],
      "metadata": {
        "id": "V1TlkSCl_BH1"
      }
    },
    {
      "cell_type": "markdown",
      "source": [
        "#### Se sigue el mismo tratamiento que las variables anteriores"
      ],
      "metadata": {
        "id": "8NuOo0Hq_G_G"
      }
    },
    {
      "cell_type": "code",
      "source": [
        "dff[\"Arribo a BMS\"].unique()"
      ],
      "metadata": {
        "colab": {
          "base_uri": "https://localhost:8080/"
        },
        "id": "ctfd1p2pvFYe",
        "outputId": "80236944-06c5-485d-bcc6-3b63230d6b64"
      },
      "execution_count": 98,
      "outputs": [
        {
          "output_type": "execute_result",
          "data": {
            "text/plain": [
              "array(['si', 'no', 'sí'], dtype=object)"
            ]
          },
          "metadata": {},
          "execution_count": 98
        }
      ]
    },
    {
      "cell_type": "code",
      "source": [
        "dff.loc[dff[\"Arribo a BMS\"] == \"sí\",\"Arribo a BMS\"] = \"si\""
      ],
      "metadata": {
        "id": "Zc5GT-jBytau"
      },
      "execution_count": 99,
      "outputs": []
    },
    {
      "cell_type": "code",
      "source": [
        "dff[\"Arribo a BMS\"].unique()"
      ],
      "metadata": {
        "colab": {
          "base_uri": "https://localhost:8080/"
        },
        "id": "-ndI_fFMy47F",
        "outputId": "384bfa2e-38c8-4ee1-bb03-c34775e5c94c"
      },
      "execution_count": 100,
      "outputs": [
        {
          "output_type": "execute_result",
          "data": {
            "text/plain": [
              "array(['si', 'no'], dtype=object)"
            ]
          },
          "metadata": {},
          "execution_count": 100
        }
      ]
    },
    {
      "cell_type": "markdown",
      "source": [
        "## Análisis de Datos"
      ],
      "metadata": {
        "id": "gT_Wr2WiBKkF"
      }
    },
    {
      "cell_type": "markdown",
      "source": [
        "#### 585 o el 65% de operadores si pasaron a la planta BMS a dejar remolque con equipo, y 313 o el 35% de operadores no pasaron a la planta "
      ],
      "metadata": {
        "id": "oM2bd6kWBh3x"
      }
    },
    {
      "cell_type": "code",
      "source": [
        "dff[\"Arribo a BMS\"].value_counts()"
      ],
      "metadata": {
        "colab": {
          "base_uri": "https://localhost:8080/"
        },
        "id": "PzPfaBY1_Evf",
        "outputId": "1c483e99-8dee-4fd1-acb4-2f6a4d2d333f"
      },
      "execution_count": 101,
      "outputs": [
        {
          "output_type": "execute_result",
          "data": {
            "text/plain": [
              "si    585\n",
              "no    313\n",
              "Name: Arribo a BMS, dtype: int64"
            ]
          },
          "metadata": {},
          "execution_count": 101
        }
      ]
    },
    {
      "cell_type": "code",
      "source": [
        "dff[\"Arribo a BMS\"].value_counts()/len(dff[\"Arribo a BMS\"])"
      ],
      "metadata": {
        "colab": {
          "base_uri": "https://localhost:8080/"
        },
        "id": "B47M-4OcB88d",
        "outputId": "bbde640d-fc55-417f-f5d8-2e52d59830ce"
      },
      "execution_count": 102,
      "outputs": [
        {
          "output_type": "execute_result",
          "data": {
            "text/plain": [
              "si    0.651448\n",
              "no    0.348552\n",
              "Name: Arribo a BMS, dtype: float64"
            ]
          },
          "metadata": {},
          "execution_count": 102
        }
      ]
    },
    {
      "cell_type": "code",
      "source": [
        "sns.countplot(x=\"Arribo a BMS\", data=dff);"
      ],
      "metadata": {
        "colab": {
          "base_uri": "https://localhost:8080/",
          "height": 502
        },
        "id": "Mu1xnp2bDCjX",
        "outputId": "0ccfa64f-5c41-4b23-e67d-66986701a33b"
      },
      "execution_count": 126,
      "outputs": [
        {
          "output_type": "display_data",
          "data": {
            "text/plain": [
              "<Figure size 576x576 with 1 Axes>"
            ],
            "image/png": "[encoded data removed]"
          },
          "metadata": {}
        }
      ]
    },
    {
      "cell_type": "markdown",
      "source": [
        "#### 547 operadores respondieron la llamada, no se les llamó a 302 operadores, 48 de ellos no contestaron y sólo uno de ellos colgó la llamada"
      ],
      "metadata": {
        "id": "3QHDXrmzFWpH"
      }
    },
    {
      "cell_type": "code",
      "source": [
        "dff[\"Llamada\"].value_counts()"
      ],
      "metadata": {
        "colab": {
          "base_uri": "https://localhost:8080/"
        },
        "id": "z3IXnhNp_eX2",
        "outputId": "53acad1a-2901-4a3d-862b-36c5614db731"
      },
      "execution_count": 104,
      "outputs": [
        {
          "output_type": "execute_result",
          "data": {
            "text/plain": [
              "si             547\n",
              "no             302\n",
              "no contesto     48\n",
              "colgó            1\n",
              "Name: Llamada, dtype: int64"
            ]
          },
          "metadata": {},
          "execution_count": 104
        }
      ]
    },
    {
      "cell_type": "code",
      "source": [
        "sns.countplot(x=\"Llamada\", data=dff);"
      ],
      "metadata": {
        "colab": {
          "base_uri": "https://localhost:8080/",
          "height": 503
        },
        "id": "nohOODvnFvT6",
        "outputId": "9e0ad289-a50b-4bac-ce4d-46ad1aee1d74"
      },
      "execution_count": 127,
      "outputs": [
        {
          "output_type": "display_data",
          "data": {
            "text/plain": [
              "<Figure size 576x576 with 1 Axes>"
            ],
            "image/png": "[encoded data removed]"
          },
          "metadata": {}
        }
      ]
    },
    {
      "cell_type": "markdown",
      "source": [
        "#### Se observan algunos detalles interesantes de la tabla posterior:\n",
        "- El operador que colgó la llamada sí pasó a la planta BMS\n",
        "- La mayoría de los operadores que no contestan la llamada, no pasan a la planta BMS\n",
        "- 76 operadores respondieron la llamada, sin embargo, no pasaron a la planta BMS\n",
        "- A 104 operadores no se les llamó, sin embargo, pasaron a la planta BMS, quienes representaron aproximadamente el 18% del total de operadores que pasaron a la planta BMS"
      ],
      "metadata": {
        "id": "UY8OR7mcGPrv"
      }
    },
    {
      "cell_type": "code",
      "source": [
        "pd.crosstab(dff[\"Arribo a BMS\"],dff[\"Llamada\"])"
      ],
      "metadata": {
        "colab": {
          "base_uri": "https://localhost:8080/",
          "height": 142
        },
        "id": "5yarbPrg2m4T",
        "outputId": "f611b8bf-51bb-44ab-9aae-1031aaecb961"
      },
      "execution_count": 106,
      "outputs": [
        {
          "output_type": "execute_result",
          "data": {
            "text/plain": [
              "Llamada       colgó   no  no contesto   si\n",
              "Arribo a BMS                              \n",
              "no                0  198           39   76\n",
              "si                1  104            9  471"
            ],
            "text/html": [
              "\n",
              "  <div id=\"df-8496f290-d12f-4d1b-b1e0-a6a1120a2da0\">\n",
              "    <div class=\"colab-df-container\">\n",
              "      <div>\n",
              "<style scoped>\n",
              "    .dataframe tbody tr th:only-of-type {\n",
              "        vertical-align: middle;\n",
              "    }\n",
              "\n",
              "    .dataframe tbody tr th {\n",
              "        vertical-align: top;\n",
              "    }\n",
              "\n",
              "    .dataframe thead th {\n",
              "        text-align: right;\n",
              "    }\n",
              "</style>\n",
              "<table border=\"1\" class=\"dataframe\">\n",
              "  <thead>\n",
              "    <tr style=\"text-align: right;\">\n",
              "      <th>Llamada</th>\n",
              "      <th>colgó</th>\n",
              "      <th>no</th>\n",
              "      <th>no contesto</th>\n",
              "      <th>si</th>\n",
              "    </tr>\n",
              "    <tr>\n",
              "      <th>Arribo a BMS</th>\n",
              "      <th></th>\n",
              "      <th></th>\n",
              "      <th></th>\n",
              "      <th></th>\n",
              "    </tr>\n",
              "  </thead>\n",
              "  <tbody>\n",
              "    <tr>\n",
              "      <th>no</th>\n",
              "      <td>0</td>\n",
              "      <td>198</td>\n",
              "      <td>39</td>\n",
              "      <td>76</td>\n",
              "    </tr>\n",
              "    <tr>\n",
              "      <th>si</th>\n",
              "      <td>1</td>\n",
              "      <td>104</td>\n",
              "      <td>9</td>\n",
              "      <td>471</td>\n",
              "    </tr>\n",
              "  </tbody>\n",
              "</table>\n",
              "</div>\n",
              "      <button class=\"colab-df-convert\" onclick=\"convertToInteractive('df-8496f290-d12f-4d1b-b1e0-a6a1120a2da0')\"\n",
              "              title=\"Convert this dataframe to an interactive table.\"\n",
              "              style=\"display:none;\">\n",
              "        \n",
              "  <svg xmlns=\"http://www.w3.org/2000/svg\" height=\"24px\"viewBox=\"0 0 24 24\"\n",
              "       width=\"24px\">\n",
              "    <path d=\"M0 0h24v24H0V0z\" fill=\"none\"/>\n",
              "    <path d=\"M18.56 5.44l.94 2.06.94-2.06 2.06-.94-2.06-.94-.94-2.06-.94 2.06-2.06.94zm-11 1L8.5 8.5l.94-2.06 2.06-.94-2.06-.94L8.5 2.5l-.94 2.06-2.06.94zm10 10l.94 2.06.94-2.06 2.06-.94-2.06-.94-.94-2.06-.94 2.06-2.06.94z\"/><path d=\"M17.41 7.96l-1.37-1.37c-.4-.4-.92-.59-1.43-.59-.52 0-1.04.2-1.43.59L10.3 9.45l-7.72 7.72c-.78.78-.78 2.05 0 2.83L4 21.41c.39.39.9.59 1.41.59.51 0 1.02-.2 1.41-.59l7.78-7.78 2.81-2.81c.8-.78.8-2.07 0-2.86zM5.41 20L4 18.59l7.72-7.72 1.47 1.35L5.41 20z\"/>\n",
              "  </svg>\n",
              "      </button>\n",
              "      \n",
              "  <style>\n",
              "    .colab-df-container {\n",
              "      display:flex;\n",
              "      flex-wrap:wrap;\n",
              "      gap: 12px;\n",
              "    }\n",
              "\n",
              "    .colab-df-convert {\n",
              "      background-color: #E8F0FE;\n",
              "      border: none;\n",
              "      border-radius: 50%;\n",
              "      cursor: pointer;\n",
              "      display: none;\n",
              "      fill: #1967D2;\n",
              "      height: 32px;\n",
              "      padding: 0 0 0 0;\n",
              "      width: 32px;\n",
              "    }\n",
              "\n",
              "    .colab-df-convert:hover {\n",
              "      background-color: #E2EBFA;\n",
              "      box-shadow: 0px 1px 2px rgba(60, 64, 67, 0.3), 0px 1px 3px 1px rgba(60, 64, 67, 0.15);\n",
              "      fill: #174EA6;\n",
              "    }\n",
              "\n",
              "    [theme=dark] .colab-df-convert {\n",
              "      background-color: #3B4455;\n",
              "      fill: #D2E3FC;\n",
              "    }\n",
              "\n",
              "    [theme=dark] .colab-df-convert:hover {\n",
              "      background-color: #434B5C;\n",
              "      box-shadow: 0px 1px 3px 1px rgba(0, 0, 0, 0.15);\n",
              "      filter: drop-shadow(0px 1px 2px rgba(0, 0, 0, 0.3));\n",
              "      fill: #FFFFFF;\n",
              "    }\n",
              "  </style>\n",
              "\n",
              "      <script>\n",
              "        const buttonEl =\n",
              "          document.querySelector('#df-8496f290-d12f-4d1b-b1e0-a6a1120a2da0 button.colab-df-convert');\n",
              "        buttonEl.style.display =\n",
              "          google.colab.kernel.accessAllowed ? 'block' : 'none';\n",
              "\n",
              "        async function convertToInteractive(key) {\n",
              "          const element = document.querySelector('#df-8496f290-d12f-4d1b-b1e0-a6a1120a2da0');\n",
              "          const dataTable =\n",
              "            await google.colab.kernel.invokeFunction('convertToInteractive',\n",
              "                                                     [key], {});\n",
              "          if (!dataTable) return;\n",
              "\n",
              "          const docLinkHtml = 'Like what you see? Visit the ' +\n",
              "            '<a target=\"_blank\" href=https://colab.research.google.com/notebooks/data_table.ipynb>data table notebook</a>'\n",
              "            + ' to learn more about interactive tables.';\n",
              "          element.innerHTML = '';\n",
              "          dataTable['output_type'] = 'display_data';\n",
              "          await google.colab.output.renderOutput(dataTable, element);\n",
              "          const docLink = document.createElement('div');\n",
              "          docLink.innerHTML = docLinkHtml;\n",
              "          element.appendChild(docLink);\n",
              "        }\n",
              "      </script>\n",
              "    </div>\n",
              "  </div>\n",
              "  "
            ]
          },
          "metadata": {},
          "execution_count": 106
        }
      ]
    },
    {
      "cell_type": "markdown",
      "source": [
        "#### En la siguiente tabla podemos ver el comportamiento de cada operador con relación a la variable \"Llamada\""
      ],
      "metadata": {
        "id": "jMQ5lcJHJs24"
      }
    },
    {
      "cell_type": "code",
      "source": [
        "pd.set_option('display.max_rows', None)\n",
        "pd.crosstab(dff[\"Operador\"],dff[\"Llamada\"])"
      ],
      "metadata": {
        "colab": {
          "base_uri": "https://localhost:8080/",
          "height": 1000
        },
        "id": "R1xnQGAZ4FSd",
        "outputId": "2b04ffca-0b5f-4a98-ad16-99e2b21a7645"
      },
      "execution_count": 107,
      "outputs": [
        {
          "output_type": "execute_result",
          "data": {
            "text/plain": [
              "Llamada                 colgó  no  no contesto  si\n",
              "Operador                                          \n",
              "aaron flores                0   6            2   2\n",
              "abad eduardo del angel      0   6            0   6\n",
              "abraham ponce               0  11            1  16\n",
              "adan gonzalez               0   6            0   0\n",
              "adolfo marquina             0   0            0   6\n",
              "alejandro aranda            0   3            0  25\n",
              "alejandro hernandez         0   5            1   3\n",
              "alejandro xochitiotzi       0   1            1   5\n",
              "alfonso mendoza             0   6            0  16\n",
              "alfredo vega                0   6            0  29\n",
              "armando arcos               0   5            0  34\n",
              "benito villasana            0   7            2   0\n",
              "cesar mendoza               0   2            2   0\n",
              "felipe carbajal             0   2            0   7\n",
              "felipe espinoza             0   2            0   0\n",
              "felipe rivera               0   1            0   6\n",
              "felix aguilar               0   0            1   0\n",
              "felix sanchez               0   2            0   2\n",
              "francisco cortes            0   3            0   5\n",
              "gaston soto                 0   8            2   1\n",
              "gerardo perez               0   8            0  17\n",
              "gino quintana               0   4            0  30\n",
              "giovanni hernandez          0   0            0   3\n",
              "gonzalo campos              0   3            0  10\n",
              "hector aguirre              0   2            0  18\n",
              "hugo moreno                 0   5            0   0\n",
              "ivan cadena                 0   3            5   8\n",
              "javier gonzalez             0   2            0   4\n",
              "jesus caballero             0   1            0   0\n",
              "joaquin gallardo            0   2            1   6\n",
              "jorge casarez               0   2            0  13\n",
              "jorge hernandez franco      0   6            1  23\n",
              "jorge hernandez tellez      0  30            0   2\n",
              "jorge marquez               0   3            0   4\n",
              "jorge martinez toledo       0  13            3   4\n",
              "jorge ortiz                 0   2            0   0\n",
              "jorge solano                0   0            0   2\n",
              "jose luis badillo           0   1            0   0\n",
              "jose sosa                   0   3            2  24\n",
              "juan cortes lopez           0   3            0   0\n",
              "juan perez fuentes          0   0            1   2\n",
              "julio gaona                 0   3            3  33\n",
              "julio lopez                 0   5            3   1\n",
              "librado tolentino           1  11            0   1\n",
              "lucas sanchez               0   2            0  15\n",
              "luis gonzalez               0   5            0   0\n",
              "marco abad                  0   9            0   3\n",
              "marco nolasco               0   6            0   0\n",
              "mario antonio diaz          0   2            0   0\n",
              "martin salas                0   3            1   2\n",
              "moises carrillo             0   2            0   0\n",
              "nahum torres                0   1            0   0\n",
              "omar ortiz                  0   7            0   0\n",
              "oscar aldama                0   4            3   6\n",
              "oscar luna                  0   3            1  37\n",
              "raymundo mora               0   3            0  20\n",
              "rey de la cruz              0   2            1  10\n",
              "ricardo gutierrez           0   2            0   0\n",
              "roberto carlos              0   2            0   0\n",
              "rodolfo lozano              0   2            2   9\n",
              "rodolfo martinez            0   7            0   4\n",
              "rodrigo barrera             0  10            3  16\n",
              "saul maldonado              0   1            0   0\n",
              "sergio garcia arzate        0  10            0   1\n",
              "sergio garcia garcia        0   2            0   0\n",
              "sergio lozada               0   4            4   8\n",
              "vicente de la cruz          0   0            0   2\n",
              "victor malaga               0   5            0  44\n",
              "victoriano garcia           0  14            2   2"
            ],
            "text/html": [
              "\n",
              "  <div id=\"df-e83624b8-71d7-4173-9e2c-f925db4bcc30\">\n",
              "    <div class=\"colab-df-container\">\n",
              "      <div>\n",
              "<style scoped>\n",
              "    .dataframe tbody tr th:only-of-type {\n",
              "        vertical-align: middle;\n",
              "    }\n",
              "\n",
              "    .dataframe tbody tr th {\n",
              "        vertical-align: top;\n",
              "    }\n",
              "\n",
              "    .dataframe thead th {\n",
              "        text-align: right;\n",
              "    }\n",
              "</style>\n",
              "<table border=\"1\" class=\"dataframe\">\n",
              "  <thead>\n",
              "    <tr style=\"text-align: right;\">\n",
              "      <th>Llamada</th>\n",
              "      <th>colgó</th>\n",
              "      <th>no</th>\n",
              "      <th>no contesto</th>\n",
              "      <th>si</th>\n",
              "    </tr>\n",
              "    <tr>\n",
              "      <th>Operador</th>\n",
              "      <th></th>\n",
              "      <th></th>\n",
              "      <th></th>\n",
              "      <th></th>\n",
              "    </tr>\n",
              "  </thead>\n",
              "  <tbody>\n",
              "    <tr>\n",
              "      <th>aaron flores</th>\n",
              "      <td>0</td>\n",
              "      <td>6</td>\n",
              "      <td>2</td>\n",
              "      <td>2</td>\n",
              "    </tr>\n",
              "    <tr>\n",
              "      <th>abad eduardo del angel</th>\n",
              "      <td>0</td>\n",
              "      <td>6</td>\n",
              "      <td>0</td>\n",
              "      <td>6</td>\n",
              "    </tr>\n",
              "    <tr>\n",
              "      <th>abraham ponce</th>\n",
              "      <td>0</td>\n",
              "      <td>11</td>\n",
              "      <td>1</td>\n",
              "      <td>16</td>\n",
              "    </tr>\n",
              "    <tr>\n",
              "      <th>adan gonzalez</th>\n",
              "      <td>0</td>\n",
              "      <td>6</td>\n",
              "      <td>0</td>\n",
              "      <td>0</td>\n",
              "    </tr>\n",
              "    <tr>\n",
              "      <th>adolfo marquina</th>\n",
              "      <td>0</td>\n",
              "      <td>0</td>\n",
              "      <td>0</td>\n",
              "      <td>6</td>\n",
              "    </tr>\n",
              "    <tr>\n",
              "      <th>alejandro aranda</th>\n",
              "      <td>0</td>\n",
              "      <td>3</td>\n",
              "      <td>0</td>\n",
              "      <td>25</td>\n",
              "    </tr>\n",
              "    <tr>\n",
              "      <th>alejandro hernandez</th>\n",
              "      <td>0</td>\n",
              "      <td>5</td>\n",
              "      <td>1</td>\n",
              "      <td>3</td>\n",
              "    </tr>\n",
              "    <tr>\n",
              "      <th>alejandro xochitiotzi</th>\n",
              "      <td>0</td>\n",
              "      <td>1</td>\n",
              "      <td>1</td>\n",
              "      <td>5</td>\n",
              "    </tr>\n",
              "    <tr>\n",
              "      <th>alfonso mendoza</th>\n",
              "      <td>0</td>\n",
              "      <td>6</td>\n",
              "      <td>0</td>\n",
              "      <td>16</td>\n",
              "    </tr>\n",
              "    <tr>\n",
              "      <th>alfredo vega</th>\n",
              "      <td>0</td>\n",
              "      <td>6</td>\n",
              "      <td>0</td>\n",
              "      <td>29</td>\n",
              "    </tr>\n",
              "    <tr>\n",
              "      <th>armando arcos</th>\n",
              "      <td>0</td>\n",
              "      <td>5</td>\n",
              "      <td>0</td>\n",
              "      <td>34</td>\n",
              "    </tr>\n",
              "    <tr>\n",
              "      <th>benito villasana</th>\n",
              "      <td>0</td>\n",
              "      <td>7</td>\n",
              "      <td>2</td>\n",
              "      <td>0</td>\n",
              "    </tr>\n",
              "    <tr>\n",
              "      <th>cesar mendoza</th>\n",
              "      <td>0</td>\n",
              "      <td>2</td>\n",
              "      <td>2</td>\n",
              "      <td>0</td>\n",
              "    </tr>\n",
              "    <tr>\n",
              "      <th>felipe carbajal</th>\n",
              "      <td>0</td>\n",
              "      <td>2</td>\n",
              "      <td>0</td>\n",
              "      <td>7</td>\n",
              "    </tr>\n",
              "    <tr>\n",
              "      <th>felipe espinoza</th>\n",
              "      <td>0</td>\n",
              "      <td>2</td>\n",
              "      <td>0</td>\n",
              "      <td>0</td>\n",
              "    </tr>\n",
              "    <tr>\n",
              "      <th>felipe rivera</th>\n",
              "      <td>0</td>\n",
              "      <td>1</td>\n",
              "      <td>0</td>\n",
              "      <td>6</td>\n",
              "    </tr>\n",
              "    <tr>\n",
              "      <th>felix aguilar</th>\n",
              "      <td>0</td>\n",
              "      <td>0</td>\n",
              "      <td>1</td>\n",
              "      <td>0</td>\n",
              "    </tr>\n",
              "    <tr>\n",
              "      <th>felix sanchez</th>\n",
              "      <td>0</td>\n",
              "      <td>2</td>\n",
              "      <td>0</td>\n",
              "      <td>2</td>\n",
              "    </tr>\n",
              "    <tr>\n",
              "      <th>francisco cortes</th>\n",
              "      <td>0</td>\n",
              "      <td>3</td>\n",
              "      <td>0</td>\n",
              "      <td>5</td>\n",
              "    </tr>\n",
              "    <tr>\n",
              "      <th>gaston soto</th>\n",
              "      <td>0</td>\n",
              "      <td>8</td>\n",
              "      <td>2</td>\n",
              "      <td>1</td>\n",
              "    </tr>\n",
              "    <tr>\n",
              "      <th>gerardo perez</th>\n",
              "      <td>0</td>\n",
              "      <td>8</td>\n",
              "      <td>0</td>\n",
              "      <td>17</td>\n",
              "    </tr>\n",
              "    <tr>\n",
              "      <th>gino quintana</th>\n",
              "      <td>0</td>\n",
              "      <td>4</td>\n",
              "      <td>0</td>\n",
              "      <td>30</td>\n",
              "    </tr>\n",
              "    <tr>\n",
              "      <th>giovanni hernandez</th>\n",
              "      <td>0</td>\n",
              "      <td>0</td>\n",
              "      <td>0</td>\n",
              "      <td>3</td>\n",
              "    </tr>\n",
              "    <tr>\n",
              "      <th>gonzalo campos</th>\n",
              "      <td>0</td>\n",
              "      <td>3</td>\n",
              "      <td>0</td>\n",
              "      <td>10</td>\n",
              "    </tr>\n",
              "    <tr>\n",
              "      <th>hector aguirre</th>\n",
              "      <td>0</td>\n",
              "      <td>2</td>\n",
              "      <td>0</td>\n",
              "      <td>18</td>\n",
              "    </tr>\n",
              "    <tr>\n",
              "      <th>hugo moreno</th>\n",
              "      <td>0</td>\n",
              "      <td>5</td>\n",
              "      <td>0</td>\n",
              "      <td>0</td>\n",
              "    </tr>\n",
              "    <tr>\n",
              "      <th>ivan cadena</th>\n",
              "      <td>0</td>\n",
              "      <td>3</td>\n",
              "      <td>5</td>\n",
              "      <td>8</td>\n",
              "    </tr>\n",
              "    <tr>\n",
              "      <th>javier gonzalez</th>\n",
              "      <td>0</td>\n",
              "      <td>2</td>\n",
              "      <td>0</td>\n",
              "      <td>4</td>\n",
              "    </tr>\n",
              "    <tr>\n",
              "      <th>jesus caballero</th>\n",
              "      <td>0</td>\n",
              "      <td>1</td>\n",
              "      <td>0</td>\n",
              "      <td>0</td>\n",
              "    </tr>\n",
              "    <tr>\n",
              "      <th>joaquin gallardo</th>\n",
              "      <td>0</td>\n",
              "      <td>2</td>\n",
              "      <td>1</td>\n",
              "      <td>6</td>\n",
              "    </tr>\n",
              "    <tr>\n",
              "      <th>jorge casarez</th>\n",
              "      <td>0</td>\n",
              "      <td>2</td>\n",
              "      <td>0</td>\n",
              "      <td>13</td>\n",
              "    </tr>\n",
              "    <tr>\n",
              "      <th>jorge hernandez franco</th>\n",
              "      <td>0</td>\n",
              "      <td>6</td>\n",
              "      <td>1</td>\n",
              "      <td>23</td>\n",
              "    </tr>\n",
              "    <tr>\n",
              "      <th>jorge hernandez tellez</th>\n",
              "      <td>0</td>\n",
              "      <td>30</td>\n",
              "      <td>0</td>\n",
              "      <td>2</td>\n",
              "    </tr>\n",
              "    <tr>\n",
              "      <th>jorge marquez</th>\n",
              "      <td>0</td>\n",
              "      <td>3</td>\n",
              "      <td>0</td>\n",
              "      <td>4</td>\n",
              "    </tr>\n",
              "    <tr>\n",
              "      <th>jorge martinez toledo</th>\n",
              "      <td>0</td>\n",
              "      <td>13</td>\n",
              "      <td>3</td>\n",
              "      <td>4</td>\n",
              "    </tr>\n",
              "    <tr>\n",
              "      <th>jorge ortiz</th>\n",
              "      <td>0</td>\n",
              "      <td>2</td>\n",
              "      <td>0</td>\n",
              "      <td>0</td>\n",
              "    </tr>\n",
              "    <tr>\n",
              "      <th>jorge solano</th>\n",
              "      <td>0</td>\n",
              "      <td>0</td>\n",
              "      <td>0</td>\n",
              "      <td>2</td>\n",
              "    </tr>\n",
              "    <tr>\n",
              "      <th>jose luis badillo</th>\n",
              "      <td>0</td>\n",
              "      <td>1</td>\n",
              "      <td>0</td>\n",
              "      <td>0</td>\n",
              "    </tr>\n",
              "    <tr>\n",
              "      <th>jose sosa</th>\n",
              "      <td>0</td>\n",
              "      <td>3</td>\n",
              "      <td>2</td>\n",
              "      <td>24</td>\n",
              "    </tr>\n",
              "    <tr>\n",
              "      <th>juan cortes lopez</th>\n",
              "      <td>0</td>\n",
              "      <td>3</td>\n",
              "      <td>0</td>\n",
              "      <td>0</td>\n",
              "    </tr>\n",
              "    <tr>\n",
              "      <th>juan perez fuentes</th>\n",
              "      <td>0</td>\n",
              "      <td>0</td>\n",
              "      <td>1</td>\n",
              "      <td>2</td>\n",
              "    </tr>\n",
              "    <tr>\n",
              "      <th>julio gaona</th>\n",
              "      <td>0</td>\n",
              "      <td>3</td>\n",
              "      <td>3</td>\n",
              "      <td>33</td>\n",
              "    </tr>\n",
              "    <tr>\n",
              "      <th>julio lopez</th>\n",
              "      <td>0</td>\n",
              "      <td>5</td>\n",
              "      <td>3</td>\n",
              "      <td>1</td>\n",
              "    </tr>\n",
              "    <tr>\n",
              "      <th>librado tolentino</th>\n",
              "      <td>1</td>\n",
              "      <td>11</td>\n",
              "      <td>0</td>\n",
              "      <td>1</td>\n",
              "    </tr>\n",
              "    <tr>\n",
              "      <th>lucas sanchez</th>\n",
              "      <td>0</td>\n",
              "      <td>2</td>\n",
              "      <td>0</td>\n",
              "      <td>15</td>\n",
              "    </tr>\n",
              "    <tr>\n",
              "      <th>luis gonzalez</th>\n",
              "      <td>0</td>\n",
              "      <td>5</td>\n",
              "      <td>0</td>\n",
              "      <td>0</td>\n",
              "    </tr>\n",
              "    <tr>\n",
              "      <th>marco abad</th>\n",
              "      <td>0</td>\n",
              "      <td>9</td>\n",
              "      <td>0</td>\n",
              "      <td>3</td>\n",
              "    </tr>\n",
              "    <tr>\n",
              "      <th>marco nolasco</th>\n",
              "      <td>0</td>\n",
              "      <td>6</td>\n",
              "      <td>0</td>\n",
              "      <td>0</td>\n",
              "    </tr>\n",
              "    <tr>\n",
              "      <th>mario antonio diaz</th>\n",
              "      <td>0</td>\n",
              "      <td>2</td>\n",
              "      <td>0</td>\n",
              "      <td>0</td>\n",
              "    </tr>\n",
              "    <tr>\n",
              "      <th>martin salas</th>\n",
              "      <td>0</td>\n",
              "      <td>3</td>\n",
              "      <td>1</td>\n",
              "      <td>2</td>\n",
              "    </tr>\n",
              "    <tr>\n",
              "      <th>moises carrillo</th>\n",
              "      <td>0</td>\n",
              "      <td>2</td>\n",
              "      <td>0</td>\n",
              "      <td>0</td>\n",
              "    </tr>\n",
              "    <tr>\n",
              "      <th>nahum torres</th>\n",
              "      <td>0</td>\n",
              "      <td>1</td>\n",
              "      <td>0</td>\n",
              "      <td>0</td>\n",
              "    </tr>\n",
              "    <tr>\n",
              "      <th>omar ortiz</th>\n",
              "      <td>0</td>\n",
              "      <td>7</td>\n",
              "      <td>0</td>\n",
              "      <td>0</td>\n",
              "    </tr>\n",
              "    <tr>\n",
              "      <th>oscar aldama</th>\n",
              "      <td>0</td>\n",
              "      <td>4</td>\n",
              "      <td>3</td>\n",
              "      <td>6</td>\n",
              "    </tr>\n",
              "    <tr>\n",
              "      <th>oscar luna</th>\n",
              "      <td>0</td>\n",
              "      <td>3</td>\n",
              "      <td>1</td>\n",
              "      <td>37</td>\n",
              "    </tr>\n",
              "    <tr>\n",
              "      <th>raymundo mora</th>\n",
              "      <td>0</td>\n",
              "      <td>3</td>\n",
              "      <td>0</td>\n",
              "      <td>20</td>\n",
              "    </tr>\n",
              "    <tr>\n",
              "      <th>rey de la cruz</th>\n",
              "      <td>0</td>\n",
              "      <td>2</td>\n",
              "      <td>1</td>\n",
              "      <td>10</td>\n",
              "    </tr>\n",
              "    <tr>\n",
              "      <th>ricardo gutierrez</th>\n",
              "      <td>0</td>\n",
              "      <td>2</td>\n",
              "      <td>0</td>\n",
              "      <td>0</td>\n",
              "    </tr>\n",
              "    <tr>\n",
              "      <th>roberto carlos</th>\n",
              "      <td>0</td>\n",
              "      <td>2</td>\n",
              "      <td>0</td>\n",
              "      <td>0</td>\n",
              "    </tr>\n",
              "    <tr>\n",
              "      <th>rodolfo lozano</th>\n",
              "      <td>0</td>\n",
              "      <td>2</td>\n",
              "      <td>2</td>\n",
              "      <td>9</td>\n",
              "    </tr>\n",
              "    <tr>\n",
              "      <th>rodolfo martinez</th>\n",
              "      <td>0</td>\n",
              "      <td>7</td>\n",
              "      <td>0</td>\n",
              "      <td>4</td>\n",
              "    </tr>\n",
              "    <tr>\n",
              "      <th>rodrigo barrera</th>\n",
              "      <td>0</td>\n",
              "      <td>10</td>\n",
              "      <td>3</td>\n",
              "      <td>16</td>\n",
              "    </tr>\n",
              "    <tr>\n",
              "      <th>saul maldonado</th>\n",
              "      <td>0</td>\n",
              "      <td>1</td>\n",
              "      <td>0</td>\n",
              "      <td>0</td>\n",
              "    </tr>\n",
              "    <tr>\n",
              "      <th>sergio garcia arzate</th>\n",
              "      <td>0</td>\n",
              "      <td>10</td>\n",
              "      <td>0</td>\n",
              "      <td>1</td>\n",
              "    </tr>\n",
              "    <tr>\n",
              "      <th>sergio garcia garcia</th>\n",
              "      <td>0</td>\n",
              "      <td>2</td>\n",
              "      <td>0</td>\n",
              "      <td>0</td>\n",
              "    </tr>\n",
              "    <tr>\n",
              "      <th>sergio lozada</th>\n",
              "      <td>0</td>\n",
              "      <td>4</td>\n",
              "      <td>4</td>\n",
              "      <td>8</td>\n",
              "    </tr>\n",
              "    <tr>\n",
              "      <th>vicente de la cruz</th>\n",
              "      <td>0</td>\n",
              "      <td>0</td>\n",
              "      <td>0</td>\n",
              "      <td>2</td>\n",
              "    </tr>\n",
              "    <tr>\n",
              "      <th>victor malaga</th>\n",
              "      <td>0</td>\n",
              "      <td>5</td>\n",
              "      <td>0</td>\n",
              "      <td>44</td>\n",
              "    </tr>\n",
              "    <tr>\n",
              "      <th>victoriano garcia</th>\n",
              "      <td>0</td>\n",
              "      <td>14</td>\n",
              "      <td>2</td>\n",
              "      <td>2</td>\n",
              "    </tr>\n",
              "  </tbody>\n",
              "</table>\n",
              "</div>\n",
              "      <button class=\"colab-df-convert\" onclick=\"convertToInteractive('df-e83624b8-71d7-4173-9e2c-f925db4bcc30')\"\n",
              "              title=\"Convert this dataframe to an interactive table.\"\n",
              "              style=\"display:none;\">\n",
              "        \n",
              "  <svg xmlns=\"http://www.w3.org/2000/svg\" height=\"24px\"viewBox=\"0 0 24 24\"\n",
              "       width=\"24px\">\n",
              "    <path d=\"M0 0h24v24H0V0z\" fill=\"none\"/>\n",
              "    <path d=\"M18.56 5.44l.94 2.06.94-2.06 2.06-.94-2.06-.94-.94-2.06-.94 2.06-2.06.94zm-11 1L8.5 8.5l.94-2.06 2.06-.94-2.06-.94L8.5 2.5l-.94 2.06-2.06.94zm10 10l.94 2.06.94-2.06 2.06-.94-2.06-.94-.94-2.06-.94 2.06-2.06.94z\"/><path d=\"M17.41 7.96l-1.37-1.37c-.4-.4-.92-.59-1.43-.59-.52 0-1.04.2-1.43.59L10.3 9.45l-7.72 7.72c-.78.78-.78 2.05 0 2.83L4 21.41c.39.39.9.59 1.41.59.51 0 1.02-.2 1.41-.59l7.78-7.78 2.81-2.81c.8-.78.8-2.07 0-2.86zM5.41 20L4 18.59l7.72-7.72 1.47 1.35L5.41 20z\"/>\n",
              "  </svg>\n",
              "      </button>\n",
              "      \n",
              "  <style>\n",
              "    .colab-df-container {\n",
              "      display:flex;\n",
              "      flex-wrap:wrap;\n",
              "      gap: 12px;\n",
              "    }\n",
              "\n",
              "    .colab-df-convert {\n",
              "      background-color: #E8F0FE;\n",
              "      border: none;\n",
              "      border-radius: 50%;\n",
              "      cursor: pointer;\n",
              "      display: none;\n",
              "      fill: #1967D2;\n",
              "      height: 32px;\n",
              "      padding: 0 0 0 0;\n",
              "      width: 32px;\n",
              "    }\n",
              "\n",
              "    .colab-df-convert:hover {\n",
              "      background-color: #E2EBFA;\n",
              "      box-shadow: 0px 1px 2px rgba(60, 64, 67, 0.3), 0px 1px 3px 1px rgba(60, 64, 67, 0.15);\n",
              "      fill: #174EA6;\n",
              "    }\n",
              "\n",
              "    [theme=dark] .colab-df-convert {\n",
              "      background-color: #3B4455;\n",
              "      fill: #D2E3FC;\n",
              "    }\n",
              "\n",
              "    [theme=dark] .colab-df-convert:hover {\n",
              "      background-color: #434B5C;\n",
              "      box-shadow: 0px 1px 3px 1px rgba(0, 0, 0, 0.15);\n",
              "      filter: drop-shadow(0px 1px 2px rgba(0, 0, 0, 0.3));\n",
              "      fill: #FFFFFF;\n",
              "    }\n",
              "  </style>\n",
              "\n",
              "      <script>\n",
              "        const buttonEl =\n",
              "          document.querySelector('#df-e83624b8-71d7-4173-9e2c-f925db4bcc30 button.colab-df-convert');\n",
              "        buttonEl.style.display =\n",
              "          google.colab.kernel.accessAllowed ? 'block' : 'none';\n",
              "\n",
              "        async function convertToInteractive(key) {\n",
              "          const element = document.querySelector('#df-e83624b8-71d7-4173-9e2c-f925db4bcc30');\n",
              "          const dataTable =\n",
              "            await google.colab.kernel.invokeFunction('convertToInteractive',\n",
              "                                                     [key], {});\n",
              "          if (!dataTable) return;\n",
              "\n",
              "          const docLinkHtml = 'Like what you see? Visit the ' +\n",
              "            '<a target=\"_blank\" href=https://colab.research.google.com/notebooks/data_table.ipynb>data table notebook</a>'\n",
              "            + ' to learn more about interactive tables.';\n",
              "          element.innerHTML = '';\n",
              "          dataTable['output_type'] = 'display_data';\n",
              "          await google.colab.output.renderOutput(dataTable, element);\n",
              "          const docLink = document.createElement('div');\n",
              "          docLink.innerHTML = docLinkHtml;\n",
              "          element.appendChild(docLink);\n",
              "        }\n",
              "      </script>\n",
              "    </div>\n",
              "  </div>\n",
              "  "
            ]
          },
          "metadata": {},
          "execution_count": 107
        }
      ]
    },
    {
      "cell_type": "markdown",
      "source": [
        "#### En la tabla siguiente podemos observar por operador el total de regresos a la planta BMS"
      ],
      "metadata": {
        "id": "_eRPI3ygKz7x"
      }
    },
    {
      "cell_type": "code",
      "source": [
        "pd.crosstab(dff[\"Operador\"],dff[\"Arribo a BMS\"])"
      ],
      "metadata": {
        "colab": {
          "base_uri": "https://localhost:8080/",
          "height": 1000
        },
        "id": "9bMHtSg-y7PC",
        "outputId": "9911ff71-0dcf-4f64-af49-a3367bfe6c78"
      },
      "execution_count": 108,
      "outputs": [
        {
          "output_type": "execute_result",
          "data": {
            "text/plain": [
              "Arribo a BMS            no  si\n",
              "Operador                      \n",
              "aaron flores             8   2\n",
              "abad eduardo del angel   5   7\n",
              "abraham ponce           15  13\n",
              "adan gonzalez            5   1\n",
              "adolfo marquina          1   5\n",
              "alejandro aranda         2  26\n",
              "alejandro hernandez      3   6\n",
              "alejandro xochitiotzi    3   4\n",
              "alfonso mendoza          4  18\n",
              "alfredo vega            10  25\n",
              "armando arcos            4  35\n",
              "benito villasana         9   0\n",
              "cesar mendoza            2   2\n",
              "felipe carbajal          2   7\n",
              "felipe espinoza          2   0\n",
              "felipe rivera            1   6\n",
              "felix aguilar            1   0\n",
              "felix sanchez            1   3\n",
              "francisco cortes         0   8\n",
              "gaston soto              9   2\n",
              "gerardo perez            2  23\n",
              "gino quintana            1  33\n",
              "giovanni hernandez       0   3\n",
              "gonzalo campos           1  12\n",
              "hector aguirre           6  14\n",
              "hugo moreno              5   0\n",
              "ivan cadena              9   7\n",
              "javier gonzalez          1   5\n",
              "jesus caballero          0   1\n",
              "joaquin gallardo         3   6\n",
              "jorge casarez            1  14\n",
              "jorge hernandez franco   9  21\n",
              "jorge hernandez tellez  20  12\n",
              "jorge marquez            0   7\n",
              "jorge martinez toledo   18   2\n",
              "jorge ortiz              2   0\n",
              "jorge solano             1   1\n",
              "jose luis badillo        1   0\n",
              "jose sosa                7  22\n",
              "juan cortes lopez        3   0\n",
              "juan perez fuentes       1   2\n",
              "julio gaona              3  36\n",
              "julio lopez              8   1\n",
              "librado tolentino       12   1\n",
              "lucas sanchez            0  17\n",
              "luis gonzalez            5   0\n",
              "marco abad              10   2\n",
              "marco nolasco            4   2\n",
              "mario antonio diaz       2   0\n",
              "martin salas             4   2\n",
              "moises carrillo          2   0\n",
              "nahum torres             0   1\n",
              "omar ortiz               7   0\n",
              "oscar aldama            10   3\n",
              "oscar luna               7  34\n",
              "raymundo mora            7  16\n",
              "rey de la cruz           5   8\n",
              "ricardo gutierrez        2   0\n",
              "roberto carlos           2   0\n",
              "rodolfo lozano           6   7\n",
              "rodolfo martinez         4   7\n",
              "rodrigo barrera          1  28\n",
              "saul maldonado           1   0\n",
              "sergio garcia arzate     5   6\n",
              "sergio garcia garcia     1   1\n",
              "sergio lozada            6  10\n",
              "vicente de la cruz       0   2\n",
              "victor malaga            5  44\n",
              "victoriano garcia       16   2"
            ],
            "text/html": [
              "\n",
              "  <div id=\"df-354de4f9-06e4-4a0a-8f19-78437dbf67f4\">\n",
              "    <div class=\"colab-df-container\">\n",
              "      <div>\n",
              "<style scoped>\n",
              "    .dataframe tbody tr th:only-of-type {\n",
              "        vertical-align: middle;\n",
              "    }\n",
              "\n",
              "    .dataframe tbody tr th {\n",
              "        vertical-align: top;\n",
              "    }\n",
              "\n",
              "    .dataframe thead th {\n",
              "        text-align: right;\n",
              "    }\n",
              "</style>\n",
              "<table border=\"1\" class=\"dataframe\">\n",
              "  <thead>\n",
              "    <tr style=\"text-align: right;\">\n",
              "      <th>Arribo a BMS</th>\n",
              "      <th>no</th>\n",
              "      <th>si</th>\n",
              "    </tr>\n",
              "    <tr>\n",
              "      <th>Operador</th>\n",
              "      <th></th>\n",
              "      <th></th>\n",
              "    </tr>\n",
              "  </thead>\n",
              "  <tbody>\n",
              "    <tr>\n",
              "      <th>aaron flores</th>\n",
              "      <td>8</td>\n",
              "      <td>2</td>\n",
              "    </tr>\n",
              "    <tr>\n",
              "      <th>abad eduardo del angel</th>\n",
              "      <td>5</td>\n",
              "      <td>7</td>\n",
              "    </tr>\n",
              "    <tr>\n",
              "      <th>abraham ponce</th>\n",
              "      <td>15</td>\n",
              "      <td>13</td>\n",
              "    </tr>\n",
              "    <tr>\n",
              "      <th>adan gonzalez</th>\n",
              "      <td>5</td>\n",
              "      <td>1</td>\n",
              "    </tr>\n",
              "    <tr>\n",
              "      <th>adolfo marquina</th>\n",
              "      <td>1</td>\n",
              "      <td>5</td>\n",
              "    </tr>\n",
              "    <tr>\n",
              "      <th>alejandro aranda</th>\n",
              "      <td>2</td>\n",
              "      <td>26</td>\n",
              "    </tr>\n",
              "    <tr>\n",
              "      <th>alejandro hernandez</th>\n",
              "      <td>3</td>\n",
              "      <td>6</td>\n",
              "    </tr>\n",
              "    <tr>\n",
              "      <th>alejandro xochitiotzi</th>\n",
              "      <td>3</td>\n",
              "      <td>4</td>\n",
              "    </tr>\n",
              "    <tr>\n",
              "      <th>alfonso mendoza</th>\n",
              "      <td>4</td>\n",
              "      <td>18</td>\n",
              "    </tr>\n",
              "    <tr>\n",
              "      <th>alfredo vega</th>\n",
              "      <td>10</td>\n",
              "      <td>25</td>\n",
              "    </tr>\n",
              "    <tr>\n",
              "      <th>armando arcos</th>\n",
              "      <td>4</td>\n",
              "      <td>35</td>\n",
              "    </tr>\n",
              "    <tr>\n",
              "      <th>benito villasana</th>\n",
              "      <td>9</td>\n",
              "      <td>0</td>\n",
              "    </tr>\n",
              "    <tr>\n",
              "      <th>cesar mendoza</th>\n",
              "      <td>2</td>\n",
              "      <td>2</td>\n",
              "    </tr>\n",
              "    <tr>\n",
              "      <th>felipe carbajal</th>\n",
              "      <td>2</td>\n",
              "      <td>7</td>\n",
              "    </tr>\n",
              "    <tr>\n",
              "      <th>felipe espinoza</th>\n",
              "      <td>2</td>\n",
              "      <td>0</td>\n",
              "    </tr>\n",
              "    <tr>\n",
              "      <th>felipe rivera</th>\n",
              "      <td>1</td>\n",
              "      <td>6</td>\n",
              "    </tr>\n",
              "    <tr>\n",
              "      <th>felix aguilar</th>\n",
              "      <td>1</td>\n",
              "      <td>0</td>\n",
              "    </tr>\n",
              "    <tr>\n",
              "      <th>felix sanchez</th>\n",
              "      <td>1</td>\n",
              "      <td>3</td>\n",
              "    </tr>\n",
              "    <tr>\n",
              "      <th>francisco cortes</th>\n",
              "      <td>0</td>\n",
              "      <td>8</td>\n",
              "    </tr>\n",
              "    <tr>\n",
              "      <th>gaston soto</th>\n",
              "      <td>9</td>\n",
              "      <td>2</td>\n",
              "    </tr>\n",
              "    <tr>\n",
              "      <th>gerardo perez</th>\n",
              "      <td>2</td>\n",
              "      <td>23</td>\n",
              "    </tr>\n",
              "    <tr>\n",
              "      <th>gino quintana</th>\n",
              "      <td>1</td>\n",
              "      <td>33</td>\n",
              "    </tr>\n",
              "    <tr>\n",
              "      <th>giovanni hernandez</th>\n",
              "      <td>0</td>\n",
              "      <td>3</td>\n",
              "    </tr>\n",
              "    <tr>\n",
              "      <th>gonzalo campos</th>\n",
              "      <td>1</td>\n",
              "      <td>12</td>\n",
              "    </tr>\n",
              "    <tr>\n",
              "      <th>hector aguirre</th>\n",
              "      <td>6</td>\n",
              "      <td>14</td>\n",
              "    </tr>\n",
              "    <tr>\n",
              "      <th>hugo moreno</th>\n",
              "      <td>5</td>\n",
              "      <td>0</td>\n",
              "    </tr>\n",
              "    <tr>\n",
              "      <th>ivan cadena</th>\n",
              "      <td>9</td>\n",
              "      <td>7</td>\n",
              "    </tr>\n",
              "    <tr>\n",
              "      <th>javier gonzalez</th>\n",
              "      <td>1</td>\n",
              "      <td>5</td>\n",
              "    </tr>\n",
              "    <tr>\n",
              "      <th>jesus caballero</th>\n",
              "      <td>0</td>\n",
              "      <td>1</td>\n",
              "    </tr>\n",
              "    <tr>\n",
              "      <th>joaquin gallardo</th>\n",
              "      <td>3</td>\n",
              "      <td>6</td>\n",
              "    </tr>\n",
              "    <tr>\n",
              "      <th>jorge casarez</th>\n",
              "      <td>1</td>\n",
              "      <td>14</td>\n",
              "    </tr>\n",
              "    <tr>\n",
              "      <th>jorge hernandez franco</th>\n",
              "      <td>9</td>\n",
              "      <td>21</td>\n",
              "    </tr>\n",
              "    <tr>\n",
              "      <th>jorge hernandez tellez</th>\n",
              "      <td>20</td>\n",
              "      <td>12</td>\n",
              "    </tr>\n",
              "    <tr>\n",
              "      <th>jorge marquez</th>\n",
              "      <td>0</td>\n",
              "      <td>7</td>\n",
              "    </tr>\n",
              "    <tr>\n",
              "      <th>jorge martinez toledo</th>\n",
              "      <td>18</td>\n",
              "      <td>2</td>\n",
              "    </tr>\n",
              "    <tr>\n",
              "      <th>jorge ortiz</th>\n",
              "      <td>2</td>\n",
              "      <td>0</td>\n",
              "    </tr>\n",
              "    <tr>\n",
              "      <th>jorge solano</th>\n",
              "      <td>1</td>\n",
              "      <td>1</td>\n",
              "    </tr>\n",
              "    <tr>\n",
              "      <th>jose luis badillo</th>\n",
              "      <td>1</td>\n",
              "      <td>0</td>\n",
              "    </tr>\n",
              "    <tr>\n",
              "      <th>jose sosa</th>\n",
              "      <td>7</td>\n",
              "      <td>22</td>\n",
              "    </tr>\n",
              "    <tr>\n",
              "      <th>juan cortes lopez</th>\n",
              "      <td>3</td>\n",
              "      <td>0</td>\n",
              "    </tr>\n",
              "    <tr>\n",
              "      <th>juan perez fuentes</th>\n",
              "      <td>1</td>\n",
              "      <td>2</td>\n",
              "    </tr>\n",
              "    <tr>\n",
              "      <th>julio gaona</th>\n",
              "      <td>3</td>\n",
              "      <td>36</td>\n",
              "    </tr>\n",
              "    <tr>\n",
              "      <th>julio lopez</th>\n",
              "      <td>8</td>\n",
              "      <td>1</td>\n",
              "    </tr>\n",
              "    <tr>\n",
              "      <th>librado tolentino</th>\n",
              "      <td>12</td>\n",
              "      <td>1</td>\n",
              "    </tr>\n",
              "    <tr>\n",
              "      <th>lucas sanchez</th>\n",
              "      <td>0</td>\n",
              "      <td>17</td>\n",
              "    </tr>\n",
              "    <tr>\n",
              "      <th>luis gonzalez</th>\n",
              "      <td>5</td>\n",
              "      <td>0</td>\n",
              "    </tr>\n",
              "    <tr>\n",
              "      <th>marco abad</th>\n",
              "      <td>10</td>\n",
              "      <td>2</td>\n",
              "    </tr>\n",
              "    <tr>\n",
              "      <th>marco nolasco</th>\n",
              "      <td>4</td>\n",
              "      <td>2</td>\n",
              "    </tr>\n",
              "    <tr>\n",
              "      <th>mario antonio diaz</th>\n",
              "      <td>2</td>\n",
              "      <td>0</td>\n",
              "    </tr>\n",
              "    <tr>\n",
              "      <th>martin salas</th>\n",
              "      <td>4</td>\n",
              "      <td>2</td>\n",
              "    </tr>\n",
              "    <tr>\n",
              "      <th>moises carrillo</th>\n",
              "      <td>2</td>\n",
              "      <td>0</td>\n",
              "    </tr>\n",
              "    <tr>\n",
              "      <th>nahum torres</th>\n",
              "      <td>0</td>\n",
              "      <td>1</td>\n",
              "    </tr>\n",
              "    <tr>\n",
              "      <th>omar ortiz</th>\n",
              "      <td>7</td>\n",
              "      <td>0</td>\n",
              "    </tr>\n",
              "    <tr>\n",
              "      <th>oscar aldama</th>\n",
              "      <td>10</td>\n",
              "      <td>3</td>\n",
              "    </tr>\n",
              "    <tr>\n",
              "      <th>oscar luna</th>\n",
              "      <td>7</td>\n",
              "      <td>34</td>\n",
              "    </tr>\n",
              "    <tr>\n",
              "      <th>raymundo mora</th>\n",
              "      <td>7</td>\n",
              "      <td>16</td>\n",
              "    </tr>\n",
              "    <tr>\n",
              "      <th>rey de la cruz</th>\n",
              "      <td>5</td>\n",
              "      <td>8</td>\n",
              "    </tr>\n",
              "    <tr>\n",
              "      <th>ricardo gutierrez</th>\n",
              "      <td>2</td>\n",
              "      <td>0</td>\n",
              "    </tr>\n",
              "    <tr>\n",
              "      <th>roberto carlos</th>\n",
              "      <td>2</td>\n",
              "      <td>0</td>\n",
              "    </tr>\n",
              "    <tr>\n",
              "      <th>rodolfo lozano</th>\n",
              "      <td>6</td>\n",
              "      <td>7</td>\n",
              "    </tr>\n",
              "    <tr>\n",
              "      <th>rodolfo martinez</th>\n",
              "      <td>4</td>\n",
              "      <td>7</td>\n",
              "    </tr>\n",
              "    <tr>\n",
              "      <th>rodrigo barrera</th>\n",
              "      <td>1</td>\n",
              "      <td>28</td>\n",
              "    </tr>\n",
              "    <tr>\n",
              "      <th>saul maldonado</th>\n",
              "      <td>1</td>\n",
              "      <td>0</td>\n",
              "    </tr>\n",
              "    <tr>\n",
              "      <th>sergio garcia arzate</th>\n",
              "      <td>5</td>\n",
              "      <td>6</td>\n",
              "    </tr>\n",
              "    <tr>\n",
              "      <th>sergio garcia garcia</th>\n",
              "      <td>1</td>\n",
              "      <td>1</td>\n",
              "    </tr>\n",
              "    <tr>\n",
              "      <th>sergio lozada</th>\n",
              "      <td>6</td>\n",
              "      <td>10</td>\n",
              "    </tr>\n",
              "    <tr>\n",
              "      <th>vicente de la cruz</th>\n",
              "      <td>0</td>\n",
              "      <td>2</td>\n",
              "    </tr>\n",
              "    <tr>\n",
              "      <th>victor malaga</th>\n",
              "      <td>5</td>\n",
              "      <td>44</td>\n",
              "    </tr>\n",
              "    <tr>\n",
              "      <th>victoriano garcia</th>\n",
              "      <td>16</td>\n",
              "      <td>2</td>\n",
              "    </tr>\n",
              "  </tbody>\n",
              "</table>\n",
              "</div>\n",
              "      <button class=\"colab-df-convert\" onclick=\"convertToInteractive('df-354de4f9-06e4-4a0a-8f19-78437dbf67f4')\"\n",
              "              title=\"Convert this dataframe to an interactive table.\"\n",
              "              style=\"display:none;\">\n",
              "        \n",
              "  <svg xmlns=\"http://www.w3.org/2000/svg\" height=\"24px\"viewBox=\"0 0 24 24\"\n",
              "       width=\"24px\">\n",
              "    <path d=\"M0 0h24v24H0V0z\" fill=\"none\"/>\n",
              "    <path d=\"M18.56 5.44l.94 2.06.94-2.06 2.06-.94-2.06-.94-.94-2.06-.94 2.06-2.06.94zm-11 1L8.5 8.5l.94-2.06 2.06-.94-2.06-.94L8.5 2.5l-.94 2.06-2.06.94zm10 10l.94 2.06.94-2.06 2.06-.94-2.06-.94-.94-2.06-.94 2.06-2.06.94z\"/><path d=\"M17.41 7.96l-1.37-1.37c-.4-.4-.92-.59-1.43-.59-.52 0-1.04.2-1.43.59L10.3 9.45l-7.72 7.72c-.78.78-.78 2.05 0 2.83L4 21.41c.39.39.9.59 1.41.59.51 0 1.02-.2 1.41-.59l7.78-7.78 2.81-2.81c.8-.78.8-2.07 0-2.86zM5.41 20L4 18.59l7.72-7.72 1.47 1.35L5.41 20z\"/>\n",
              "  </svg>\n",
              "      </button>\n",
              "      \n",
              "  <style>\n",
              "    .colab-df-container {\n",
              "      display:flex;\n",
              "      flex-wrap:wrap;\n",
              "      gap: 12px;\n",
              "    }\n",
              "\n",
              "    .colab-df-convert {\n",
              "      background-color: #E8F0FE;\n",
              "      border: none;\n",
              "      border-radius: 50%;\n",
              "      cursor: pointer;\n",
              "      display: none;\n",
              "      fill: #1967D2;\n",
              "      height: 32px;\n",
              "      padding: 0 0 0 0;\n",
              "      width: 32px;\n",
              "    }\n",
              "\n",
              "    .colab-df-convert:hover {\n",
              "      background-color: #E2EBFA;\n",
              "      box-shadow: 0px 1px 2px rgba(60, 64, 67, 0.3), 0px 1px 3px 1px rgba(60, 64, 67, 0.15);\n",
              "      fill: #174EA6;\n",
              "    }\n",
              "\n",
              "    [theme=dark] .colab-df-convert {\n",
              "      background-color: #3B4455;\n",
              "      fill: #D2E3FC;\n",
              "    }\n",
              "\n",
              "    [theme=dark] .colab-df-convert:hover {\n",
              "      background-color: #434B5C;\n",
              "      box-shadow: 0px 1px 3px 1px rgba(0, 0, 0, 0.15);\n",
              "      filter: drop-shadow(0px 1px 2px rgba(0, 0, 0, 0.3));\n",
              "      fill: #FFFFFF;\n",
              "    }\n",
              "  </style>\n",
              "\n",
              "      <script>\n",
              "        const buttonEl =\n",
              "          document.querySelector('#df-354de4f9-06e4-4a0a-8f19-78437dbf67f4 button.colab-df-convert');\n",
              "        buttonEl.style.display =\n",
              "          google.colab.kernel.accessAllowed ? 'block' : 'none';\n",
              "\n",
              "        async function convertToInteractive(key) {\n",
              "          const element = document.querySelector('#df-354de4f9-06e4-4a0a-8f19-78437dbf67f4');\n",
              "          const dataTable =\n",
              "            await google.colab.kernel.invokeFunction('convertToInteractive',\n",
              "                                                     [key], {});\n",
              "          if (!dataTable) return;\n",
              "\n",
              "          const docLinkHtml = 'Like what you see? Visit the ' +\n",
              "            '<a target=\"_blank\" href=https://colab.research.google.com/notebooks/data_table.ipynb>data table notebook</a>'\n",
              "            + ' to learn more about interactive tables.';\n",
              "          element.innerHTML = '';\n",
              "          dataTable['output_type'] = 'display_data';\n",
              "          await google.colab.output.renderOutput(dataTable, element);\n",
              "          const docLink = document.createElement('div');\n",
              "          docLink.innerHTML = docLinkHtml;\n",
              "          element.appendChild(docLink);\n",
              "        }\n",
              "      </script>\n",
              "    </div>\n",
              "  </div>\n",
              "  "
            ]
          },
          "metadata": {},
          "execution_count": 108
        }
      ]
    },
    {
      "cell_type": "markdown",
      "source": [
        "#### En la siguiente tabla se puede observar por Centro de venta cuantos regresos a la planta BMS se realizaron"
      ],
      "metadata": {
        "id": "-gfxfK_wLmgv"
      }
    },
    {
      "cell_type": "code",
      "source": [
        "pd.crosstab(dff[\"Centro de ventas\"],dff[\"Arribo a BMS\"])"
      ],
      "metadata": {
        "colab": {
          "base_uri": "https://localhost:8080/",
          "height": 855
        },
        "id": "B4nrC4e91AqG",
        "outputId": "9603f4ee-e213-4aaa-b124-8c81a86e50bd"
      },
      "execution_count": 109,
      "outputs": [
        {
          "output_type": "execute_result",
          "data": {
            "text/plain": [
              "Arribo a BMS      no   si\n",
              "Centro de ventas         \n",
              "atizapan           2    4\n",
              "azcapopark         0    6\n",
              "cdm                0    3\n",
              "cedis iztapalapa  35  125\n",
              "centenario        10   25\n",
              "centro             1    4\n",
              "ceylan             0    3\n",
              "chalco            36   20\n",
              "coacalco           3    3\n",
              "cuautitlan         2    1\n",
              "ixtapaluca        20    5\n",
              "la villa           5   27\n",
              "los reyes         29    9\n",
              "naucalpan          7   28\n",
              "rojo gomez        15   20\n",
              "san antonio       50  117\n",
              "san juan          26   30\n",
              "san lorenzo       14   40\n",
              "santa clara        6   25\n",
              "tepalcates        22   40\n",
              "tepotzotlan        0    1\n",
              "tultitlan          7   12\n",
              "vallejo            1    4\n",
              "xalostoc           4   15\n",
              "xochimilco        18   18"
            ],
            "text/html": [
              "\n",
              "  <div id=\"df-67ac2b2b-6f73-4b67-97a8-5b9f88724954\">\n",
              "    <div class=\"colab-df-container\">\n",
              "      <div>\n",
              "<style scoped>\n",
              "    .dataframe tbody tr th:only-of-type {\n",
              "        vertical-align: middle;\n",
              "    }\n",
              "\n",
              "    .dataframe tbody tr th {\n",
              "        vertical-align: top;\n",
              "    }\n",
              "\n",
              "    .dataframe thead th {\n",
              "        text-align: right;\n",
              "    }\n",
              "</style>\n",
              "<table border=\"1\" class=\"dataframe\">\n",
              "  <thead>\n",
              "    <tr style=\"text-align: right;\">\n",
              "      <th>Arribo a BMS</th>\n",
              "      <th>no</th>\n",
              "      <th>si</th>\n",
              "    </tr>\n",
              "    <tr>\n",
              "      <th>Centro de ventas</th>\n",
              "      <th></th>\n",
              "      <th></th>\n",
              "    </tr>\n",
              "  </thead>\n",
              "  <tbody>\n",
              "    <tr>\n",
              "      <th>atizapan</th>\n",
              "      <td>2</td>\n",
              "      <td>4</td>\n",
              "    </tr>\n",
              "    <tr>\n",
              "      <th>azcapopark</th>\n",
              "      <td>0</td>\n",
              "      <td>6</td>\n",
              "    </tr>\n",
              "    <tr>\n",
              "      <th>cdm</th>\n",
              "      <td>0</td>\n",
              "      <td>3</td>\n",
              "    </tr>\n",
              "    <tr>\n",
              "      <th>cedis iztapalapa</th>\n",
              "      <td>35</td>\n",
              "      <td>125</td>\n",
              "    </tr>\n",
              "    <tr>\n",
              "      <th>centenario</th>\n",
              "      <td>10</td>\n",
              "      <td>25</td>\n",
              "    </tr>\n",
              "    <tr>\n",
              "      <th>centro</th>\n",
              "      <td>1</td>\n",
              "      <td>4</td>\n",
              "    </tr>\n",
              "    <tr>\n",
              "      <th>ceylan</th>\n",
              "      <td>0</td>\n",
              "      <td>3</td>\n",
              "    </tr>\n",
              "    <tr>\n",
              "      <th>chalco</th>\n",
              "      <td>36</td>\n",
              "      <td>20</td>\n",
              "    </tr>\n",
              "    <tr>\n",
              "      <th>coacalco</th>\n",
              "      <td>3</td>\n",
              "      <td>3</td>\n",
              "    </tr>\n",
              "    <tr>\n",
              "      <th>cuautitlan</th>\n",
              "      <td>2</td>\n",
              "      <td>1</td>\n",
              "    </tr>\n",
              "    <tr>\n",
              "      <th>ixtapaluca</th>\n",
              "      <td>20</td>\n",
              "      <td>5</td>\n",
              "    </tr>\n",
              "    <tr>\n",
              "      <th>la villa</th>\n",
              "      <td>5</td>\n",
              "      <td>27</td>\n",
              "    </tr>\n",
              "    <tr>\n",
              "      <th>los reyes</th>\n",
              "      <td>29</td>\n",
              "      <td>9</td>\n",
              "    </tr>\n",
              "    <tr>\n",
              "      <th>naucalpan</th>\n",
              "      <td>7</td>\n",
              "      <td>28</td>\n",
              "    </tr>\n",
              "    <tr>\n",
              "      <th>rojo gomez</th>\n",
              "      <td>15</td>\n",
              "      <td>20</td>\n",
              "    </tr>\n",
              "    <tr>\n",
              "      <th>san antonio</th>\n",
              "      <td>50</td>\n",
              "      <td>117</td>\n",
              "    </tr>\n",
              "    <tr>\n",
              "      <th>san juan</th>\n",
              "      <td>26</td>\n",
              "      <td>30</td>\n",
              "    </tr>\n",
              "    <tr>\n",
              "      <th>san lorenzo</th>\n",
              "      <td>14</td>\n",
              "      <td>40</td>\n",
              "    </tr>\n",
              "    <tr>\n",
              "      <th>santa clara</th>\n",
              "      <td>6</td>\n",
              "      <td>25</td>\n",
              "    </tr>\n",
              "    <tr>\n",
              "      <th>tepalcates</th>\n",
              "      <td>22</td>\n",
              "      <td>40</td>\n",
              "    </tr>\n",
              "    <tr>\n",
              "      <th>tepotzotlan</th>\n",
              "      <td>0</td>\n",
              "      <td>1</td>\n",
              "    </tr>\n",
              "    <tr>\n",
              "      <th>tultitlan</th>\n",
              "      <td>7</td>\n",
              "      <td>12</td>\n",
              "    </tr>\n",
              "    <tr>\n",
              "      <th>vallejo</th>\n",
              "      <td>1</td>\n",
              "      <td>4</td>\n",
              "    </tr>\n",
              "    <tr>\n",
              "      <th>xalostoc</th>\n",
              "      <td>4</td>\n",
              "      <td>15</td>\n",
              "    </tr>\n",
              "    <tr>\n",
              "      <th>xochimilco</th>\n",
              "      <td>18</td>\n",
              "      <td>18</td>\n",
              "    </tr>\n",
              "  </tbody>\n",
              "</table>\n",
              "</div>\n",
              "      <button class=\"colab-df-convert\" onclick=\"convertToInteractive('df-67ac2b2b-6f73-4b67-97a8-5b9f88724954')\"\n",
              "              title=\"Convert this dataframe to an interactive table.\"\n",
              "              style=\"display:none;\">\n",
              "        \n",
              "  <svg xmlns=\"http://www.w3.org/2000/svg\" height=\"24px\"viewBox=\"0 0 24 24\"\n",
              "       width=\"24px\">\n",
              "    <path d=\"M0 0h24v24H0V0z\" fill=\"none\"/>\n",
              "    <path d=\"M18.56 5.44l.94 2.06.94-2.06 2.06-.94-2.06-.94-.94-2.06-.94 2.06-2.06.94zm-11 1L8.5 8.5l.94-2.06 2.06-.94-2.06-.94L8.5 2.5l-.94 2.06-2.06.94zm10 10l.94 2.06.94-2.06 2.06-.94-2.06-.94-.94-2.06-.94 2.06-2.06.94z\"/><path d=\"M17.41 7.96l-1.37-1.37c-.4-.4-.92-.59-1.43-.59-.52 0-1.04.2-1.43.59L10.3 9.45l-7.72 7.72c-.78.78-.78 2.05 0 2.83L4 21.41c.39.39.9.59 1.41.59.51 0 1.02-.2 1.41-.59l7.78-7.78 2.81-2.81c.8-.78.8-2.07 0-2.86zM5.41 20L4 18.59l7.72-7.72 1.47 1.35L5.41 20z\"/>\n",
              "  </svg>\n",
              "      </button>\n",
              "      \n",
              "  <style>\n",
              "    .colab-df-container {\n",
              "      display:flex;\n",
              "      flex-wrap:wrap;\n",
              "      gap: 12px;\n",
              "    }\n",
              "\n",
              "    .colab-df-convert {\n",
              "      background-color: #E8F0FE;\n",
              "      border: none;\n",
              "      border-radius: 50%;\n",
              "      cursor: pointer;\n",
              "      display: none;\n",
              "      fill: #1967D2;\n",
              "      height: 32px;\n",
              "      padding: 0 0 0 0;\n",
              "      width: 32px;\n",
              "    }\n",
              "\n",
              "    .colab-df-convert:hover {\n",
              "      background-color: #E2EBFA;\n",
              "      box-shadow: 0px 1px 2px rgba(60, 64, 67, 0.3), 0px 1px 3px 1px rgba(60, 64, 67, 0.15);\n",
              "      fill: #174EA6;\n",
              "    }\n",
              "\n",
              "    [theme=dark] .colab-df-convert {\n",
              "      background-color: #3B4455;\n",
              "      fill: #D2E3FC;\n",
              "    }\n",
              "\n",
              "    [theme=dark] .colab-df-convert:hover {\n",
              "      background-color: #434B5C;\n",
              "      box-shadow: 0px 1px 3px 1px rgba(0, 0, 0, 0.15);\n",
              "      filter: drop-shadow(0px 1px 2px rgba(0, 0, 0, 0.3));\n",
              "      fill: #FFFFFF;\n",
              "    }\n",
              "  </style>\n",
              "\n",
              "      <script>\n",
              "        const buttonEl =\n",
              "          document.querySelector('#df-67ac2b2b-6f73-4b67-97a8-5b9f88724954 button.colab-df-convert');\n",
              "        buttonEl.style.display =\n",
              "          google.colab.kernel.accessAllowed ? 'block' : 'none';\n",
              "\n",
              "        async function convertToInteractive(key) {\n",
              "          const element = document.querySelector('#df-67ac2b2b-6f73-4b67-97a8-5b9f88724954');\n",
              "          const dataTable =\n",
              "            await google.colab.kernel.invokeFunction('convertToInteractive',\n",
              "                                                     [key], {});\n",
              "          if (!dataTable) return;\n",
              "\n",
              "          const docLinkHtml = 'Like what you see? Visit the ' +\n",
              "            '<a target=\"_blank\" href=https://colab.research.google.com/notebooks/data_table.ipynb>data table notebook</a>'\n",
              "            + ' to learn more about interactive tables.';\n",
              "          element.innerHTML = '';\n",
              "          dataTable['output_type'] = 'display_data';\n",
              "          await google.colab.output.renderOutput(dataTable, element);\n",
              "          const docLink = document.createElement('div');\n",
              "          docLink.innerHTML = docLinkHtml;\n",
              "          element.appendChild(docLink);\n",
              "        }\n",
              "      </script>\n",
              "    </div>\n",
              "  </div>\n",
              "  "
            ]
          },
          "metadata": {},
          "execution_count": 109
        }
      ]
    },
    {
      "cell_type": "markdown",
      "source": [
        "#### En la última tabla se puede observar en que Centro de venta se encontraba el operador al momento de realizar la llamada telefónica"
      ],
      "metadata": {
        "id": "h5RLtlS0MCcN"
      }
    },
    {
      "cell_type": "code",
      "source": [
        "pd.crosstab(dff[\"Centro de ventas\"],dff[\"Llamada\"])"
      ],
      "metadata": {
        "colab": {
          "base_uri": "https://localhost:8080/",
          "height": 855
        },
        "id": "oYT5CbiO42bD",
        "outputId": "6cfd4a7e-9cd2-4caa-c4c0-ab11d2b0ac96"
      },
      "execution_count": 110,
      "outputs": [
        {
          "output_type": "execute_result",
          "data": {
            "text/plain": [
              "Llamada           colgó  no  no contesto   si\n",
              "Centro de ventas                             \n",
              "atizapan              0   1            0    5\n",
              "azcapopark            0   1            0    5\n",
              "cdm                   0   2            0    1\n",
              "cedis iztapalapa      0  33            4  123\n",
              "centenario            0  18            3   14\n",
              "centro                0   3            1    1\n",
              "ceylan                0   0            0    3\n",
              "chalco                1  28            9   18\n",
              "coacalco              0   2            1    3\n",
              "cuautitlan            0   1            1    1\n",
              "ixtapaluca            0  18            2    5\n",
              "la villa              0   7            2   23\n",
              "los reyes             0  19            6   13\n",
              "naucalpan             0   4            1   30\n",
              "rojo gomez            0  18            0   17\n",
              "san antonio           0  49            9  109\n",
              "san juan              0  23            2   31\n",
              "san lorenzo           0  17            2   35\n",
              "santa clara           0   6            0   25\n",
              "tepalcates            0  25            2   35\n",
              "tepotzotlan           0   0            0    1\n",
              "tultitlan             0   0            0   19\n",
              "vallejo               0   1            0    4\n",
              "xalostoc              0   4            0   15\n",
              "xochimilco            0  22            3   11"
            ],
            "text/html": [
              "\n",
              "  <div id=\"df-3a453352-fbd2-4799-aa22-80a6363a057e\">\n",
              "    <div class=\"colab-df-container\">\n",
              "      <div>\n",
              "<style scoped>\n",
              "    .dataframe tbody tr th:only-of-type {\n",
              "        vertical-align: middle;\n",
              "    }\n",
              "\n",
              "    .dataframe tbody tr th {\n",
              "        vertical-align: top;\n",
              "    }\n",
              "\n",
              "    .dataframe thead th {\n",
              "        text-align: right;\n",
              "    }\n",
              "</style>\n",
              "<table border=\"1\" class=\"dataframe\">\n",
              "  <thead>\n",
              "    <tr style=\"text-align: right;\">\n",
              "      <th>Llamada</th>\n",
              "      <th>colgó</th>\n",
              "      <th>no</th>\n",
              "      <th>no contesto</th>\n",
              "      <th>si</th>\n",
              "    </tr>\n",
              "    <tr>\n",
              "      <th>Centro de ventas</th>\n",
              "      <th></th>\n",
              "      <th></th>\n",
              "      <th></th>\n",
              "      <th></th>\n",
              "    </tr>\n",
              "  </thead>\n",
              "  <tbody>\n",
              "    <tr>\n",
              "      <th>atizapan</th>\n",
              "      <td>0</td>\n",
              "      <td>1</td>\n",
              "      <td>0</td>\n",
              "      <td>5</td>\n",
              "    </tr>\n",
              "    <tr>\n",
              "      <th>azcapopark</th>\n",
              "      <td>0</td>\n",
              "      <td>1</td>\n",
              "      <td>0</td>\n",
              "      <td>5</td>\n",
              "    </tr>\n",
              "    <tr>\n",
              "      <th>cdm</th>\n",
              "      <td>0</td>\n",
              "      <td>2</td>\n",
              "      <td>0</td>\n",
              "      <td>1</td>\n",
              "    </tr>\n",
              "    <tr>\n",
              "      <th>cedis iztapalapa</th>\n",
              "      <td>0</td>\n",
              "      <td>33</td>\n",
              "      <td>4</td>\n",
              "      <td>123</td>\n",
              "    </tr>\n",
              "    <tr>\n",
              "      <th>centenario</th>\n",
              "      <td>0</td>\n",
              "      <td>18</td>\n",
              "      <td>3</td>\n",
              "      <td>14</td>\n",
              "    </tr>\n",
              "    <tr>\n",
              "      <th>centro</th>\n",
              "      <td>0</td>\n",
              "      <td>3</td>\n",
              "      <td>1</td>\n",
              "      <td>1</td>\n",
              "    </tr>\n",
              "    <tr>\n",
              "      <th>ceylan</th>\n",
              "      <td>0</td>\n",
              "      <td>0</td>\n",
              "      <td>0</td>\n",
              "      <td>3</td>\n",
              "    </tr>\n",
              "    <tr>\n",
              "      <th>chalco</th>\n",
              "      <td>1</td>\n",
              "      <td>28</td>\n",
              "      <td>9</td>\n",
              "      <td>18</td>\n",
              "    </tr>\n",
              "    <tr>\n",
              "      <th>coacalco</th>\n",
              "      <td>0</td>\n",
              "      <td>2</td>\n",
              "      <td>1</td>\n",
              "      <td>3</td>\n",
              "    </tr>\n",
              "    <tr>\n",
              "      <th>cuautitlan</th>\n",
              "      <td>0</td>\n",
              "      <td>1</td>\n",
              "      <td>1</td>\n",
              "      <td>1</td>\n",
              "    </tr>\n",
              "    <tr>\n",
              "      <th>ixtapaluca</th>\n",
              "      <td>0</td>\n",
              "      <td>18</td>\n",
              "      <td>2</td>\n",
              "      <td>5</td>\n",
              "    </tr>\n",
              "    <tr>\n",
              "      <th>la villa</th>\n",
              "      <td>0</td>\n",
              "      <td>7</td>\n",
              "      <td>2</td>\n",
              "      <td>23</td>\n",
              "    </tr>\n",
              "    <tr>\n",
              "      <th>los reyes</th>\n",
              "      <td>0</td>\n",
              "      <td>19</td>\n",
              "      <td>6</td>\n",
              "      <td>13</td>\n",
              "    </tr>\n",
              "    <tr>\n",
              "      <th>naucalpan</th>\n",
              "      <td>0</td>\n",
              "      <td>4</td>\n",
              "      <td>1</td>\n",
              "      <td>30</td>\n",
              "    </tr>\n",
              "    <tr>\n",
              "      <th>rojo gomez</th>\n",
              "      <td>0</td>\n",
              "      <td>18</td>\n",
              "      <td>0</td>\n",
              "      <td>17</td>\n",
              "    </tr>\n",
              "    <tr>\n",
              "      <th>san antonio</th>\n",
              "      <td>0</td>\n",
              "      <td>49</td>\n",
              "      <td>9</td>\n",
              "      <td>109</td>\n",
              "    </tr>\n",
              "    <tr>\n",
              "      <th>san juan</th>\n",
              "      <td>0</td>\n",
              "      <td>23</td>\n",
              "      <td>2</td>\n",
              "      <td>31</td>\n",
              "    </tr>\n",
              "    <tr>\n",
              "      <th>san lorenzo</th>\n",
              "      <td>0</td>\n",
              "      <td>17</td>\n",
              "      <td>2</td>\n",
              "      <td>35</td>\n",
              "    </tr>\n",
              "    <tr>\n",
              "      <th>santa clara</th>\n",
              "      <td>0</td>\n",
              "      <td>6</td>\n",
              "      <td>0</td>\n",
              "      <td>25</td>\n",
              "    </tr>\n",
              "    <tr>\n",
              "      <th>tepalcates</th>\n",
              "      <td>0</td>\n",
              "      <td>25</td>\n",
              "      <td>2</td>\n",
              "      <td>35</td>\n",
              "    </tr>\n",
              "    <tr>\n",
              "      <th>tepotzotlan</th>\n",
              "      <td>0</td>\n",
              "      <td>0</td>\n",
              "      <td>0</td>\n",
              "      <td>1</td>\n",
              "    </tr>\n",
              "    <tr>\n",
              "      <th>tultitlan</th>\n",
              "      <td>0</td>\n",
              "      <td>0</td>\n",
              "      <td>0</td>\n",
              "      <td>19</td>\n",
              "    </tr>\n",
              "    <tr>\n",
              "      <th>vallejo</th>\n",
              "      <td>0</td>\n",
              "      <td>1</td>\n",
              "      <td>0</td>\n",
              "      <td>4</td>\n",
              "    </tr>\n",
              "    <tr>\n",
              "      <th>xalostoc</th>\n",
              "      <td>0</td>\n",
              "      <td>4</td>\n",
              "      <td>0</td>\n",
              "      <td>15</td>\n",
              "    </tr>\n",
              "    <tr>\n",
              "      <th>xochimilco</th>\n",
              "      <td>0</td>\n",
              "      <td>22</td>\n",
              "      <td>3</td>\n",
              "      <td>11</td>\n",
              "    </tr>\n",
              "  </tbody>\n",
              "</table>\n",
              "</div>\n",
              "      <button class=\"colab-df-convert\" onclick=\"convertToInteractive('df-3a453352-fbd2-4799-aa22-80a6363a057e')\"\n",
              "              title=\"Convert this dataframe to an interactive table.\"\n",
              "              style=\"display:none;\">\n",
              "        \n",
              "  <svg xmlns=\"http://www.w3.org/2000/svg\" height=\"24px\"viewBox=\"0 0 24 24\"\n",
              "       width=\"24px\">\n",
              "    <path d=\"M0 0h24v24H0V0z\" fill=\"none\"/>\n",
              "    <path d=\"M18.56 5.44l.94 2.06.94-2.06 2.06-.94-2.06-.94-.94-2.06-.94 2.06-2.06.94zm-11 1L8.5 8.5l.94-2.06 2.06-.94-2.06-.94L8.5 2.5l-.94 2.06-2.06.94zm10 10l.94 2.06.94-2.06 2.06-.94-2.06-.94-.94-2.06-.94 2.06-2.06.94z\"/><path d=\"M17.41 7.96l-1.37-1.37c-.4-.4-.92-.59-1.43-.59-.52 0-1.04.2-1.43.59L10.3 9.45l-7.72 7.72c-.78.78-.78 2.05 0 2.83L4 21.41c.39.39.9.59 1.41.59.51 0 1.02-.2 1.41-.59l7.78-7.78 2.81-2.81c.8-.78.8-2.07 0-2.86zM5.41 20L4 18.59l7.72-7.72 1.47 1.35L5.41 20z\"/>\n",
              "  </svg>\n",
              "      </button>\n",
              "      \n",
              "  <style>\n",
              "    .colab-df-container {\n",
              "      display:flex;\n",
              "      flex-wrap:wrap;\n",
              "      gap: 12px;\n",
              "    }\n",
              "\n",
              "    .colab-df-convert {\n",
              "      background-color: #E8F0FE;\n",
              "      border: none;\n",
              "      border-radius: 50%;\n",
              "      cursor: pointer;\n",
              "      display: none;\n",
              "      fill: #1967D2;\n",
              "      height: 32px;\n",
              "      padding: 0 0 0 0;\n",
              "      width: 32px;\n",
              "    }\n",
              "\n",
              "    .colab-df-convert:hover {\n",
              "      background-color: #E2EBFA;\n",
              "      box-shadow: 0px 1px 2px rgba(60, 64, 67, 0.3), 0px 1px 3px 1px rgba(60, 64, 67, 0.15);\n",
              "      fill: #174EA6;\n",
              "    }\n",
              "\n",
              "    [theme=dark] .colab-df-convert {\n",
              "      background-color: #3B4455;\n",
              "      fill: #D2E3FC;\n",
              "    }\n",
              "\n",
              "    [theme=dark] .colab-df-convert:hover {\n",
              "      background-color: #434B5C;\n",
              "      box-shadow: 0px 1px 3px 1px rgba(0, 0, 0, 0.15);\n",
              "      filter: drop-shadow(0px 1px 2px rgba(0, 0, 0, 0.3));\n",
              "      fill: #FFFFFF;\n",
              "    }\n",
              "  </style>\n",
              "\n",
              "      <script>\n",
              "        const buttonEl =\n",
              "          document.querySelector('#df-3a453352-fbd2-4799-aa22-80a6363a057e button.colab-df-convert');\n",
              "        buttonEl.style.display =\n",
              "          google.colab.kernel.accessAllowed ? 'block' : 'none';\n",
              "\n",
              "        async function convertToInteractive(key) {\n",
              "          const element = document.querySelector('#df-3a453352-fbd2-4799-aa22-80a6363a057e');\n",
              "          const dataTable =\n",
              "            await google.colab.kernel.invokeFunction('convertToInteractive',\n",
              "                                                     [key], {});\n",
              "          if (!dataTable) return;\n",
              "\n",
              "          const docLinkHtml = 'Like what you see? Visit the ' +\n",
              "            '<a target=\"_blank\" href=https://colab.research.google.com/notebooks/data_table.ipynb>data table notebook</a>'\n",
              "            + ' to learn more about interactive tables.';\n",
              "          element.innerHTML = '';\n",
              "          dataTable['output_type'] = 'display_data';\n",
              "          await google.colab.output.renderOutput(dataTable, element);\n",
              "          const docLink = document.createElement('div');\n",
              "          docLink.innerHTML = docLinkHtml;\n",
              "          element.appendChild(docLink);\n",
              "        }\n",
              "      </script>\n",
              "    </div>\n",
              "  </div>\n",
              "  "
            ]
          },
          "metadata": {},
          "execution_count": 110
        }
      ]
    },
    {
      "cell_type": "code",
      "source": [
        "#pip install dython"
      ],
      "metadata": {
        "id": "3jO6UY8wLKob"
      },
      "execution_count": 111,
      "outputs": []
    },
    {
      "cell_type": "markdown",
      "source": [
        "## Correlación de variables categóricas"
      ],
      "metadata": {
        "id": "-6cpr8miMslF"
      }
    },
    {
      "cell_type": "code",
      "source": [
        "from dython.nominal import associations\n",
        "from dython.nominal import identify_nominal_columns\n",
        "categorical_features=identify_nominal_columns(dff)\n",
        "categorical_features"
      ],
      "metadata": {
        "colab": {
          "base_uri": "https://localhost:8080/"
        },
        "id": "OY3YxuX9KwVQ",
        "outputId": "f0dc6003-42c3-44a3-c79f-246592d91435"
      },
      "execution_count": 112,
      "outputs": [
        {
          "output_type": "execute_result",
          "data": {
            "text/plain": [
              "['Operador', 'Centro de ventas', 'Llamada', 'Arribo a BMS']"
            ]
          },
          "metadata": {},
          "execution_count": 112
        }
      ]
    },
    {
      "cell_type": "code",
      "source": [
        "categorical_correlation= associations(dff, filename= 'categorical_correlation.png', figsize=(10,10),cmap=\"RdYlBu\")"
      ],
      "metadata": {
        "colab": {
          "base_uri": "https://localhost:8080/",
          "height": 584
        },
        "id": "qX04qhCSMXtf",
        "outputId": "9edaee38-616e-40a1-a7e7-dd09efcc93ad"
      },
      "execution_count": 128,
      "outputs": [
        {
          "output_type": "display_data",
          "data": {
            "text/plain": [
              "<Figure size 720x720 with 2 Axes>"
            ],
            "image/png": "[encoded data removed]"
          },
          "metadata": {}
        }
      ]
    },
    {
      "cell_type": "markdown",
      "source": [
        "#### De la matriz de correlación se observa que la variable \"Operador\" tiene el valor más alto de correlación con la variable \"Arribo a BMS\", seguida de la variable \"Llamada\", siendo la variable \"Centro de ventas\" la menos correlacionada"
      ],
      "metadata": {
        "id": "SKAyJqDMOsck"
      }
    },
    {
      "cell_type": "markdown",
      "source": [
        "## Modelo Logistic Regression"
      ],
      "metadata": {
        "id": "RKT54LhBQQrz"
      }
    },
    {
      "cell_type": "markdown",
      "source": [
        "#### En nuestro modelo de regresión logística, la variable que vamos a predecir es \"Arribo a BMS\", puesto que nos importa predecir que operadores van o no a regresar a la planta BMS a dejar remolques con equipo para las líneas de producción"
      ],
      "metadata": {
        "id": "rNw7Pl5NQbXN"
      }
    },
    {
      "cell_type": "markdown",
      "source": [
        "#### Dividimos nuestro dataset en target y data para poder emplear el modelo"
      ],
      "metadata": {
        "id": "YrFaiYGERVS_"
      }
    },
    {
      "cell_type": "code",
      "source": [
        "target_name = \"Arribo a BMS\"\n",
        "target = dff[target_name]\n",
        "data = dff.drop(columns=[target_name])"
      ],
      "metadata": {
        "id": "dSIESO2KSP_7"
      },
      "execution_count": 117,
      "outputs": []
    },
    {
      "cell_type": "markdown",
      "source": [
        "#### Se usará un selector de variables categóricas y se crearán dummy-variables"
      ],
      "metadata": {
        "id": "-gmkrXMvSTAg"
      }
    },
    {
      "cell_type": "code",
      "source": [
        "from sklearn.compose import make_column_selector as selector\n",
        "from sklearn.preprocessing import OneHotEncoder, StandardScaler\n",
        "from sklearn.compose import ColumnTransformer\n",
        "\n",
        "categorical_columns_selector = selector(dtype_include=object)\n",
        "categorical_columns = categorical_columns_selector(data)\n",
        "\n",
        "categorical_preprocessor = OneHotEncoder(handle_unknown=\"ignore\")\n",
        "preprocessor = ColumnTransformer([('one-hot-encoder', categorical_preprocessor, categorical_columns)])"
      ],
      "metadata": {
        "id": "Or_IZ8_wNSGu"
      },
      "execution_count": 118,
      "outputs": []
    },
    {
      "cell_type": "markdown",
      "source": [
        "#### Creamos un pipeline con el modelo y el preprocesador"
      ],
      "metadata": {
        "id": "27pQWvKfTcUp"
      }
    },
    {
      "cell_type": "code",
      "source": [
        "from sklearn.linear_model import LogisticRegression\n",
        "from sklearn.pipeline import make_pipeline\n",
        "\n",
        "model = make_pipeline(preprocessor, LogisticRegression(max_iter=500))\n",
        "from sklearn import set_config\n",
        "set_config(display='diagram')\n",
        "model"
      ],
      "metadata": {
        "colab": {
          "base_uri": "https://localhost:8080/",
          "height": 188
        },
        "id": "V8tdJhq6OOAP",
        "outputId": "60a1a2a0-10f5-4961-d684-0e320a4c4bf5"
      },
      "execution_count": 119,
      "outputs": [
        {
          "output_type": "execute_result",
          "data": {
            "text/plain": [
              "Pipeline(steps=[('columntransformer',\n",
              "                 ColumnTransformer(transformers=[('one-hot-encoder',\n",
              "                                                  OneHotEncoder(handle_unknown='ignore'),\n",
              "                                                  ['Operador',\n",
              "                                                   'Centro de ventas',\n",
              "                                                   'Llamada'])])),\n",
              "                ('logisticregression', LogisticRegression(max_iter=500))])"
            ],
            "text/html": [
              "<style>#sk-0f4f3b37-2a49-4aa3-9681-35a9f7906366 {color: black;background-color: white;}#sk-0f4f3b37-2a49-4aa3-9681-35a9f7906366 pre{padding: 0;}#sk-0f4f3b37-2a49-4aa3-9681-35a9f7906366 div.sk-toggleable {background-color: white;}#sk-0f4f3b37-2a49-4aa3-9681-35a9f7906366 label.sk-toggleable__label {cursor: pointer;display: block;width: 100%;margin-bottom: 0;padding: 0.3em;box-sizing: border-box;text-align: center;}#sk-0f4f3b37-2a49-4aa3-9681-35a9f7906366 label.sk-toggleable__label-arrow:before {content: \"▸\";float: left;margin-right: 0.25em;color: #696969;}#sk-0f4f3b37-2a49-4aa3-9681-35a9f7906366 label.sk-toggleable__label-arrow:hover:before {color: black;}#sk-0f4f3b37-2a49-4aa3-9681-35a9f7906366 div.sk-estimator:hover label.sk-toggleable__label-arrow:before {color: black;}#sk-0f4f3b37-2a49-4aa3-9681-35a9f7906366 div.sk-toggleable__content {max-height: 0;max-width: 0;overflow: hidden;text-align: left;background-color: #f0f8ff;}#sk-0f4f3b37-2a49-4aa3-9681-35a9f7906366 div.sk-toggleable__content pre {margin: 0.2em;color: black;border-radius: 0.25em;background-color: #f0f8ff;}#sk-0f4f3b37-2a49-4aa3-9681-35a9f7906366 input.sk-toggleable__control:checked~div.sk-toggleable__content {max-height: 200px;max-width: 100%;overflow: auto;}#sk-0f4f3b37-2a49-4aa3-9681-35a9f7906366 input.sk-toggleable__control:checked~label.sk-toggleable__label-arrow:before {content: \"▾\";}#sk-0f4f3b37-2a49-4aa3-9681-35a9f7906366 div.sk-estimator input.sk-toggleable__control:checked~label.sk-toggleable__label {background-color: #d4ebff;}#sk-0f4f3b37-2a49-4aa3-9681-35a9f7906366 div.sk-label input.sk-toggleable__control:checked~label.sk-toggleable__label {background-color: #d4ebff;}#sk-0f4f3b37-2a49-4aa3-9681-35a9f7906366 input.sk-hidden--visually {border: 0;clip: rect(1px 1px 1px 1px);clip: rect(1px, 1px, 1px, 1px);height: 1px;margin: -1px;overflow: hidden;padding: 0;position: absolute;width: 1px;}#sk-0f4f3b37-2a49-4aa3-9681-35a9f7906366 div.sk-estimator {font-family: monospace;background-color: #f0f8ff;border: 1px dotted black;border-radius: 0.25em;box-sizing: border-box;margin-bottom: 0.5em;}#sk-0f4f3b37-2a49-4aa3-9681-35a9f7906366 div.sk-estimator:hover {background-color: #d4ebff;}#sk-0f4f3b37-2a49-4aa3-9681-35a9f7906366 div.sk-parallel-item::after {content: \"\";width: 100%;border-bottom: 1px solid gray;flex-grow: 1;}#sk-0f4f3b37-2a49-4aa3-9681-35a9f7906366 div.sk-label:hover label.sk-toggleable__label {background-color: #d4ebff;}#sk-0f4f3b37-2a49-4aa3-9681-35a9f7906366 div.sk-serial::before {content: \"\";position: absolute;border-left: 1px solid gray;box-sizing: border-box;top: 2em;bottom: 0;left: 50%;}#sk-0f4f3b37-2a49-4aa3-9681-35a9f7906366 div.sk-serial {display: flex;flex-direction: column;align-items: center;background-color: white;padding-right: 0.2em;padding-left: 0.2em;}#sk-0f4f3b37-2a49-4aa3-9681-35a9f7906366 div.sk-item {z-index: 1;}#sk-0f4f3b37-2a49-4aa3-9681-35a9f7906366 div.sk-parallel {display: flex;align-items: stretch;justify-content: center;background-color: white;}#sk-0f4f3b37-2a49-4aa3-9681-35a9f7906366 div.sk-parallel::before {content: \"\";position: absolute;border-left: 1px solid gray;box-sizing: border-box;top: 2em;bottom: 0;left: 50%;}#sk-0f4f3b37-2a49-4aa3-9681-35a9f7906366 div.sk-parallel-item {display: flex;flex-direction: column;position: relative;background-color: white;}#sk-0f4f3b37-2a49-4aa3-9681-35a9f7906366 div.sk-parallel-item:first-child::after {align-self: flex-end;width: 50%;}#sk-0f4f3b37-2a49-4aa3-9681-35a9f7906366 div.sk-parallel-item:last-child::after {align-self: flex-start;width: 50%;}#sk-0f4f3b37-2a49-4aa3-9681-35a9f7906366 div.sk-parallel-item:only-child::after {width: 0;}#sk-0f4f3b37-2a49-4aa3-9681-35a9f7906366 div.sk-dashed-wrapped {border: 1px dashed gray;margin: 0 0.4em 0.5em 0.4em;box-sizing: border-box;padding-bottom: 0.4em;background-color: white;position: relative;}#sk-0f4f3b37-2a49-4aa3-9681-35a9f7906366 div.sk-label label {font-family: monospace;font-weight: bold;background-color: white;display: inline-block;line-height: 1.2em;}#sk-0f4f3b37-2a49-4aa3-9681-35a9f7906366 div.sk-label-container {position: relative;z-index: 2;text-align: center;}#sk-0f4f3b37-2a49-4aa3-9681-35a9f7906366 div.sk-container {/* jupyter's `normalize.less` sets `[hidden] { display: none; }` but bootstrap.min.css set `[hidden] { display: none !important; }` so we also need the `!important` here to be able to override the default hidden behavior on the sphinx rendered scikit-learn.org. See: https://github.com/scikit-learn/scikit-learn/issues/21755 */display: inline-block !important;position: relative;}#sk-0f4f3b37-2a49-4aa3-9681-35a9f7906366 div.sk-text-repr-fallback {display: none;}</style><div id=\"sk-0f4f3b37-2a49-4aa3-9681-35a9f7906366\" class=\"sk-top-container\"><div class=\"sk-text-repr-fallback\"><pre>Pipeline(steps=[(&#x27;columntransformer&#x27;,\n",
              "                 ColumnTransformer(transformers=[(&#x27;one-hot-encoder&#x27;,\n",
              "                                                  OneHotEncoder(handle_unknown=&#x27;ignore&#x27;),\n",
              "                                                  [&#x27;Operador&#x27;,\n",
              "                                                   &#x27;Centro de ventas&#x27;,\n",
              "                                                   &#x27;Llamada&#x27;])])),\n",
              "                (&#x27;logisticregression&#x27;, LogisticRegression(max_iter=500))])</pre><b>Please rerun this cell to show the HTML repr or trust the notebook.</b></div><div class=\"sk-container\" hidden><div class=\"sk-item sk-dashed-wrapped\"><div class=\"sk-label-container\"><div class=\"sk-label sk-toggleable\"><input class=\"sk-toggleable__control sk-hidden--visually\" id=\"e9d27ced-a765-40ad-94e1-cb59dd6f1174\" type=\"checkbox\" ><label for=\"e9d27ced-a765-40ad-94e1-cb59dd6f1174\" class=\"sk-toggleable__label sk-toggleable__label-arrow\">Pipeline</label><div class=\"sk-toggleable__content\"><pre>Pipeline(steps=[(&#x27;columntransformer&#x27;,\n",
              "                 ColumnTransformer(transformers=[(&#x27;one-hot-encoder&#x27;,\n",
              "                                                  OneHotEncoder(handle_unknown=&#x27;ignore&#x27;),\n",
              "                                                  [&#x27;Operador&#x27;,\n",
              "                                                   &#x27;Centro de ventas&#x27;,\n",
              "                                                   &#x27;Llamada&#x27;])])),\n",
              "                (&#x27;logisticregression&#x27;, LogisticRegression(max_iter=500))])</pre></div></div></div><div class=\"sk-serial\"><div class=\"sk-item sk-dashed-wrapped\"><div class=\"sk-label-container\"><div class=\"sk-label sk-toggleable\"><input class=\"sk-toggleable__control sk-hidden--visually\" id=\"423288b6-eb3d-4949-9cc8-087549c023a4\" type=\"checkbox\" ><label for=\"423288b6-eb3d-4949-9cc8-087549c023a4\" class=\"sk-toggleable__label sk-toggleable__label-arrow\">columntransformer: ColumnTransformer</label><div class=\"sk-toggleable__content\"><pre>ColumnTransformer(transformers=[(&#x27;one-hot-encoder&#x27;,\n",
              "                                 OneHotEncoder(handle_unknown=&#x27;ignore&#x27;),\n",
              "                                 [&#x27;Operador&#x27;, &#x27;Centro de ventas&#x27;, &#x27;Llamada&#x27;])])</pre></div></div></div><div class=\"sk-parallel\"><div class=\"sk-parallel-item\"><div class=\"sk-item\"><div class=\"sk-label-container\"><div class=\"sk-label sk-toggleable\"><input class=\"sk-toggleable__control sk-hidden--visually\" id=\"09a8eb08-1866-4469-92e6-6e91910ac8b0\" type=\"checkbox\" ><label for=\"09a8eb08-1866-4469-92e6-6e91910ac8b0\" class=\"sk-toggleable__label sk-toggleable__label-arrow\">one-hot-encoder</label><div class=\"sk-toggleable__content\"><pre>[&#x27;Operador&#x27;, &#x27;Centro de ventas&#x27;, &#x27;Llamada&#x27;]</pre></div></div></div><div class=\"sk-serial\"><div class=\"sk-item\"><div class=\"sk-estimator sk-toggleable\"><input class=\"sk-toggleable__control sk-hidden--visually\" id=\"11affaf7-241a-47d2-a326-9167280849b3\" type=\"checkbox\" ><label for=\"11affaf7-241a-47d2-a326-9167280849b3\" class=\"sk-toggleable__label sk-toggleable__label-arrow\">OneHotEncoder</label><div class=\"sk-toggleable__content\"><pre>OneHotEncoder(handle_unknown=&#x27;ignore&#x27;)</pre></div></div></div></div></div></div></div></div><div class=\"sk-item\"><div class=\"sk-estimator sk-toggleable\"><input class=\"sk-toggleable__control sk-hidden--visually\" id=\"0f61f7cf-af5e-49be-a9c1-2253eaa67a45\" type=\"checkbox\" ><label for=\"0f61f7cf-af5e-49be-a9c1-2253eaa67a45\" class=\"sk-toggleable__label sk-toggleable__label-arrow\">LogisticRegression</label><div class=\"sk-toggleable__content\"><pre>LogisticRegression(max_iter=500)</pre></div></div></div></div></div></div></div>"
            ]
          },
          "metadata": {},
          "execution_count": 119
        }
      ]
    },
    {
      "cell_type": "markdown",
      "source": [
        "#### Aplicamos el método de la exclusión a nuestros datasets"
      ],
      "metadata": {
        "id": "XP0xkQxQTsi7"
      }
    },
    {
      "cell_type": "code",
      "source": [
        "from sklearn.model_selection import train_test_split\n",
        "Xtrain, Xtest, ytrain, ytest = train_test_split(data, target, test_size = 0.20, random_state = 42)"
      ],
      "metadata": {
        "id": "bWSnaNYwd51C"
      },
      "execution_count": 120,
      "outputs": []
    },
    {
      "cell_type": "markdown",
      "source": [
        "#### Ajustamos el modelo"
      ],
      "metadata": {
        "id": "-bzMDA6ZT-Xz"
      }
    },
    {
      "cell_type": "code",
      "source": [
        "_ = model.fit(Xtrain, ytrain)"
      ],
      "metadata": {
        "id": "oOrdJgMjVWs-"
      },
      "execution_count": 121,
      "outputs": []
    },
    {
      "cell_type": "markdown",
      "source": [
        "#### Predecimos con el modelo en el test dataset"
      ],
      "metadata": {
        "id": "-TV3Nx-2UDKl"
      }
    },
    {
      "cell_type": "code",
      "source": [
        "y_pred = model.predict(Xtest)"
      ],
      "metadata": {
        "id": "5TGseRiSW4JQ"
      },
      "execution_count": 122,
      "outputs": []
    },
    {
      "cell_type": "markdown",
      "source": [
        "#### Revisamos el porcentaje de observaciones por categoría que se tienen en el dataset de entrenamiento, para verificar si nuestro dataset está desbalanceado"
      ],
      "metadata": {
        "id": "OuyTDnStUcHe"
      }
    },
    {
      "cell_type": "code",
      "source": [
        "ytrain.value_counts(normalize=True).plot.barh()\n",
        "plt.xlabel(\"Class frequency\")\n",
        "_ = plt.title(\"Class frequency in the training set\")"
      ],
      "metadata": {
        "colab": {
          "base_uri": "https://localhost:8080/",
          "height": 295
        },
        "id": "Nk4-zrHodVSI",
        "outputId": "b066d055-733a-42b2-9103-cc06bef50d72"
      },
      "execution_count": null,
      "outputs": [
        {
          "output_type": "display_data",
          "data": {
            "text/plain": [
              "<Figure size 432x288 with 1 Axes>"
            ],
            "image/png": "[encoded data removed]"
          },
          "metadata": {
            "needs_background": "light"
          }
        }
      ]
    },
    {
      "cell_type": "markdown",
      "source": [
        "#### Revisamos la matriz de confusión y la graficamos"
      ],
      "metadata": {
        "id": "SyigmIU6Vi0x"
      }
    },
    {
      "cell_type": "code",
      "source": [
        "from sklearn.metrics import confusion_matrix\n",
        "confusion_matrix(ytest, y_pred)"
      ],
      "metadata": {
        "colab": {
          "base_uri": "https://localhost:8080/"
        },
        "id": "bWh7PHjsW934",
        "outputId": "25163ce3-d8b7-4eb4-a3d9-5fdfa7833db5"
      },
      "execution_count": 123,
      "outputs": [
        {
          "output_type": "execute_result",
          "data": {
            "text/plain": [
              "array([[ 48,  17],\n",
              "       [ 11, 104]])"
            ]
          },
          "metadata": {},
          "execution_count": 123
        }
      ]
    },
    {
      "cell_type": "code",
      "source": [
        "from sklearn.metrics import ConfusionMatrixDisplay\n",
        "\n",
        "_ = ConfusionMatrixDisplay.from_estimator(model, Xtest, ytest,cmap=\"Blues\")"
      ],
      "metadata": {
        "colab": {
          "base_uri": "https://localhost:8080/",
          "height": 466
        },
        "id": "pLPxMu9uXzTh",
        "outputId": "55a3739b-3bd0-4b9d-fd58-abd1987edd8f"
      },
      "execution_count": 131,
      "outputs": [
        {
          "output_type": "display_data",
          "data": {
            "text/plain": [
              "<Figure size 576x576 with 2 Axes>"
            ],
            "image/png": "[encoded data removed]"
          },
          "metadata": {}
        }
      ]
    },
    {
      "cell_type": "markdown",
      "source": [
        "#### Observamos que el modelo predijo 104 observaciones de la categoría \"si\" correctamente, 48 correctamente de la categoría \"no\", ha clasificado erroneamente 11 observaciones de la categoría \"si\" y 17 observaciones de la categoría \"no\""
      ],
      "metadata": {
        "id": "JwGhDZLEWqke"
      }
    },
    {
      "cell_type": "markdown",
      "source": [
        "#### Revisamos las métricas de evaluación del modelo"
      ],
      "metadata": {
        "id": "xuCNJlJRXwEG"
      }
    },
    {
      "cell_type": "code",
      "source": [
        "from sklearn.metrics import accuracy_score\n",
        "print (f\"Accuracy: {round(accuracy_score(ytest, y_pred),3)}\")"
      ],
      "metadata": {
        "colab": {
          "base_uri": "https://localhost:8080/"
        },
        "id": "7umCZ361XIeC",
        "outputId": "2d9506c6-ff6b-4855-b791-ae0de5353d45"
      },
      "execution_count": 136,
      "outputs": [
        {
          "output_type": "stream",
          "name": "stdout",
          "text": [
            "Accuracy: 0.844\n"
          ]
        }
      ]
    },
    {
      "cell_type": "markdown",
      "source": [
        "#### El valor de Accuracy ha sido bueno,sin embargo, no podemos confiar del todo en él, ya que nuestro dataset está desbalanceado, por lo que usaremos otra métrica para estos casos"
      ],
      "metadata": {
        "id": "qWkkgMurYQhb"
      }
    },
    {
      "cell_type": "code",
      "source": [
        "from sklearn.metrics import balanced_accuracy_score\n",
        "balanced_accuracy = balanced_accuracy_score(ytest, y_pred)\n",
        "print(f\"Balanced accuracy: {balanced_accuracy:.3f}\")"
      ],
      "metadata": {
        "colab": {
          "base_uri": "https://localhost:8080/"
        },
        "id": "J9y6j0TlXaUe",
        "outputId": "260e6ace-7e73-486c-9dae-581d49e41895"
      },
      "execution_count": 137,
      "outputs": [
        {
          "output_type": "stream",
          "name": "stdout",
          "text": [
            "Balanced accuracy: 0.821\n"
          ]
        }
      ]
    },
    {
      "cell_type": "markdown",
      "source": [
        "#### El valor obtenido no difiere mucho del Accuracy anterior, este valor nos indica que el modelo ha predecido el 82.1% de las observaciones positivas correctamente"
      ],
      "metadata": {
        "id": "ke_05_NPZj_4"
      }
    },
    {
      "cell_type": "markdown",
      "source": [
        "#### Ahora calcularemos otras métricas que son importantes para evaluar nuestro modelo"
      ],
      "metadata": {
        "id": "fPKtXP89aguK"
      }
    },
    {
      "cell_type": "code",
      "source": [
        "from sklearn.metrics import precision_score, recall_score\n",
        "precision = precision_score(ytest, y_pred, pos_label=\"si\")\n",
        "recall = recall_score(ytest, y_pred, pos_label=\"si\")\n",
        "print(f\"Precision score: {precision:.3f}\")\n",
        "print(f\"Recall score: {recall:.3f}\")"
      ],
      "metadata": {
        "colab": {
          "base_uri": "https://localhost:8080/"
        },
        "id": "LSc-JvaLSha0",
        "outputId": "f20d0950-b308-4bb4-d8ed-c9fca1d23126"
      },
      "execution_count": 138,
      "outputs": [
        {
          "output_type": "stream",
          "name": "stdout",
          "text": [
            "Precision score: 0.860\n",
            "Recall score: 0.904\n"
          ]
        }
      ]
    },
    {
      "cell_type": "markdown",
      "source": [
        "- El valor de Precision nos indica el porcentaje total de los operadores que el modelo predice que pasarán a la planta\n",
        "- El valor de Recall nos indica el porcentaje de los operadores que el modelo ha predecido que han pasado a la planta del total de operadores que verdaderamente lo hicieron\n",
        "#### El porcentaje de ambas métricas es más alto que del Accuracy, lo que nos indica que es un buen modelo"
      ],
      "metadata": {
        "id": "XUHYDAF9dTXu"
      }
    },
    {
      "cell_type": "markdown",
      "source": [
        "## Gráficos de las métricas"
      ],
      "metadata": {
        "id": "8bd_yGSfyKnv"
      }
    },
    {
      "cell_type": "code",
      "source": [
        "from sklearn.metrics import PrecisionRecallDisplay\n",
        "\n",
        "disp = PrecisionRecallDisplay.from_estimator(\n",
        "    model, Xtest, ytest, pos_label='si',\n",
        "    marker=\"+\"\n",
        ")\n",
        "plt.legend(bbox_to_anchor=(1.05, 0.8), loc=\"upper left\")\n",
        "_ = disp.ax_.set_title(\"Precision-recall curve\")"
      ],
      "metadata": {
        "colab": {
          "base_uri": "https://localhost:8080/",
          "height": 295
        },
        "id": "FIxjiZrQc6-H",
        "outputId": "80cd50ba-af76-48ff-a907-939bc191f417"
      },
      "execution_count": null,
      "outputs": [
        {
          "output_type": "display_data",
          "data": {
            "text/plain": [
              "<Figure size 432x288 with 1 Axes>"
            ],
            "image/png": "[encoded data removed]"
          },
          "metadata": {
            "needs_background": "light"
          }
        }
      ]
    },
    {
      "cell_type": "markdown",
      "source": [
        "#### En el gráfico se muestran ambas métricas contrastadas, como también se muestra el Average-Precision (AP)."
      ],
      "metadata": {
        "id": "_mwZj6rzyyUY"
      }
    },
    {
      "cell_type": "code",
      "source": [
        "from sklearn.metrics import RocCurveDisplay\n",
        "from sklearn.dummy import DummyClassifier\n",
        "\n",
        "dummy_classifier = DummyClassifier(strategy=\"most_frequent\")\n",
        "dummy_classifier.fit(Xtrain, ytrain)\n",
        "\n",
        "disp = RocCurveDisplay.from_estimator(\n",
        "    model, Xtest, ytest, pos_label='si',\n",
        "    marker=\"+\")\n",
        "disp = RocCurveDisplay.from_estimator(\n",
        "    dummy_classifier, Xtest, ytest, pos_label='si',\n",
        "    color=\"tab:orange\", linestyle=\"--\", ax=disp.ax_)\n",
        "plt.legend(bbox_to_anchor=(1.05, 0.8), loc=\"upper left\")\n",
        "_ = disp.ax_.set_title(\"ROC AUC curve\")"
      ],
      "metadata": {
        "colab": {
          "base_uri": "https://localhost:8080/",
          "height": 295
        },
        "id": "o0XNCghweLpB",
        "outputId": "121ebbe1-5267-400d-b68b-371a67e41ca8"
      },
      "execution_count": null,
      "outputs": [
        {
          "output_type": "display_data",
          "data": {
            "text/plain": [
              "<Figure size 432x288 with 1 Axes>"
            ],
            "image/png": "[encoded data removed]"
          },
          "metadata": {
            "needs_background": "light"
          }
        }
      ]
    },
    {
      "cell_type": "markdown",
      "source": [
        "#### La ROC-AUC es un gráfico que nos ayuda a determinar que tan bueno es nuestro modelo al contrastarlo con un clasificador dummy, vemos que el valor de el área bajo la curva (AUC) es de 0.87, para poder decir que es un modelo deficiente, la curva debería estar por debajo de la línea punteada."
      ],
      "metadata": {
        "id": "bW-cK06rzcy1"
      }
    },
    {
      "cell_type": "markdown",
      "source": [
        "#### Finalmente, probamos el modelo con un operador"
      ],
      "metadata": {
        "id": "TJmLg0kL0wME"
      }
    },
    {
      "cell_type": "code",
      "source": [
        "operador_prueba = pd.DataFrame(\n",
        "    {\n",
        "        \"Operador\": [\"librado tolentino\"],\n",
        "        \"Centro de ventas\": [\"los reyes\"],\n",
        "        \"Llamada\": [\"si\"]\n",
        "    }\n",
        ")"
      ],
      "metadata": {
        "id": "nsGaNNjnYIK3"
      },
      "execution_count": null,
      "outputs": []
    },
    {
      "cell_type": "markdown",
      "source": [
        "#### El modelo predice que el operador no pasara a la planta Santa María a dejar el remolque con equipo para las líneas de producción"
      ],
      "metadata": {
        "id": "yh0So_k7AqIe"
      }
    },
    {
      "cell_type": "code",
      "source": [
        "operador_prueba.head()\n",
        "model.predict(operador_prueba)"
      ],
      "metadata": {
        "colab": {
          "base_uri": "https://localhost:8080/"
        },
        "id": "7HvwsGPPVWeH",
        "outputId": "ee4b92c6-5c1b-4d1b-d4ed-b3c75cfcbc51"
      },
      "execution_count": null,
      "outputs": [
        {
          "output_type": "execute_result",
          "data": {
            "text/plain": [
              "array(['no'], dtype=object)"
            ]
          },
          "metadata": {},
          "execution_count": 72
        }
      ]
    },
    {
      "cell_type": "markdown",
      "source": [
        ""
      ],
      "metadata": {
        "id": "T03MvncT2YNj"
      }
    }
  ]
}